{
 "cells": [
  {
   "cell_type": "markdown",
   "metadata": {},
   "source": [
    "# XGBoost Cloud Training Template\n",
    "\n",
    "This template uses _Amazon SageMaker's_ implementation of _XGBoost_ and its _Boto3_ SDK.\n",
    "\n",
    "```Estimator``` and ```Model``` implementations for _MXNet, TensorFlow, Chainer, PyTorch, scikit-learn, Amazon SageMaker_ built-in algorithms, Reinforcement Learning, are included. There’s also an ```Estimator``` that runs _SageMaker_ compatible custom Docker containers, enabling you to run your own ML algorithms by using the _SageMaker Python SDK_."
   ]
  },
  {
   "cell_type": "markdown",
   "metadata": {},
   "source": [
    "**Note: To simply the process, ensure that S3 bucket is in the same region at SageMaker instance, e.g. us-east-2.**"
   ]
  },
  {
   "cell_type": "markdown",
   "metadata": {},
   "source": [
    "## Import Packages"
   ]
  },
  {
   "cell_type": "code",
   "execution_count": 1,
   "metadata": {},
   "outputs": [],
   "source": [
    "import numpy as np\n",
    "import pandas as pd\n",
    "\n",
    "import boto3\n",
    "import re\n",
    "\n",
    "import sagemaker\n",
    "from sagemaker import get_execution_role\n",
    "# SageMaker SDK documentation: https://sagemaker.readthedocs.io/en/latest/overview.html\n",
    "\n",
    "# from sagemaker.amazon.amazon_estimator import get_image_uri"
   ]
  },
  {
   "cell_type": "markdown",
   "metadata": {},
   "source": [
    "## Upload Data to S3 Bucket"
   ]
  },
  {
   "cell_type": "code",
   "execution_count": 2,
   "metadata": {},
   "outputs": [],
   "source": [
    "# Specify the bucket here\n",
    "bucket_name = 's3-2-ml-sagemaker'\n",
    "\n",
    "training_folder = r'bikerental/training/'\n",
    "validation_folder = r'bikerental/validation/'\n",
    "test_folder = r'bikerental/test/'\n",
    "\n",
    "s3_model_output_location = r's3://{0}/bikerental/model'.format(bucket_name)\n",
    "s3_training_file_location = r's3://{0}/{1}'.format(bucket_name,training_folder)\n",
    "s3_validation_file_location = r's3://{0}/{1}'.format(bucket_name,validation_folder)\n",
    "s3_test_file_location = r's3://{0}/{1}'.format(bucket_name,test_folder)"
   ]
  },
  {
   "cell_type": "code",
   "execution_count": 3,
   "metadata": {},
   "outputs": [
    {
     "name": "stdout",
     "output_type": "stream",
     "text": [
      "s3://s3-2-ml-sagemaker/bikerental/model\n",
      "s3://s3-2-ml-sagemaker/bikerental/training/\n",
      "s3://s3-2-ml-sagemaker/bikerental/validation/\n",
      "s3://s3-2-ml-sagemaker/bikerental/test/\n"
     ]
    }
   ],
   "source": [
    "print(s3_model_output_location)\n",
    "print(s3_training_file_location)\n",
    "print(s3_validation_file_location)\n",
    "print(s3_test_file_location)"
   ]
  },
  {
   "cell_type": "code",
   "execution_count": 4,
   "metadata": {},
   "outputs": [],
   "source": [
    "# files are referred as objects in S3.  \n",
    "# file name is referred as key name in S3\n",
    "\n",
    "# File stored in S3 is automatically replicated across 3 different availability zones \n",
    "# in the region where the bucket was created.\n",
    "\n",
    "# http://boto3.readthedocs.io/en/latest/guide/s3.html\n",
    "def write_to_s3(filename, bucket, key):\n",
    "    with open(filename,'rb') as f: # Read in binary mode\n",
    "        return boto3.Session().resource('s3').Bucket(bucket).Object(key).upload_fileobj(f)"
   ]
  },
  {
   "cell_type": "code",
   "execution_count": 5,
   "metadata": {},
   "outputs": [],
   "source": [
    "write_to_s3('bikeTrainingv2.csv', \n",
    "            bucket_name,\n",
    "            training_folder + 'bikeTrainingv2.csv')\n",
    "\n",
    "write_to_s3('bikeValidationv2.csv',\n",
    "            bucket_name,\n",
    "            validation_folder + 'bikeValidationv2.csv')\n",
    "\n",
    "write_to_s3('bikeTestv2.csv',\n",
    "            bucket_name,\n",
    "            test_folder + 'bikeTestv2.csv')"
   ]
  },
  {
   "cell_type": "markdown",
   "metadata": {},
   "source": [
    "The files used are the ones optimized with _log1p(count)_ method (v2)."
   ]
  },
  {
   "cell_type": "markdown",
   "metadata": {},
   "source": [
    "## Training Algorithm Docker Image\n",
    "\n",
    "### SageMaker maintains a separate image for algorithm and region\n",
    "\n",
    "_Common Parameters for Built-In Algorithms_\n",
    "https://docs.aws.amazon.com/sagemaker/latest/dg/sagemaker-algo-docker-registry-paths.html"
   ]
  },
  {
   "cell_type": "markdown",
   "metadata": {},
   "source": [
    "### Start a New Session with AWS"
   ]
  },
  {
   "cell_type": "code",
   "execution_count": 6,
   "metadata": {},
   "outputs": [],
   "source": [
    "sess = sagemaker.Session()"
   ]
  },
  {
   "cell_type": "code",
   "execution_count": 7,
   "metadata": {},
   "outputs": [],
   "source": [
    "role = get_execution_role()"
   ]
  },
  {
   "cell_type": "code",
   "execution_count": 8,
   "metadata": {},
   "outputs": [
    {
     "name": "stdout",
     "output_type": "stream",
     "text": [
      "arn:aws:iam::399426528351:role/service-role/AmazonSageMaker-ExecutionRole-20200203T173955\n"
     ]
    }
   ],
   "source": [
    "# Role contains the permissions required to train, deploy models\n",
    "# SageMaker Service is trusted to assume this role\n",
    "print(role) # To show the ARN for the role"
   ]
  },
  {
   "cell_type": "code",
   "execution_count": 9,
   "metadata": {},
   "outputs": [
    {
     "name": "stdout",
     "output_type": "stream",
     "text": [
      "Using SageMaker XGBoost container:\n",
      "257758044811.dkr.ecr.us-east-2.amazonaws.com/sagemaker-xgboost:0.90-2-cpu-py3 (us-east-2)\n"
     ]
    }
   ],
   "source": [
    "# Sagemaker API now maintains the algorithm container mapping for us\n",
    "# Specify the region, algorithm and version\n",
    "# For this model, I am using specifically v0.90-2. Or put \"latest\"\n",
    "\n",
    "region = \"us-east-2\" # configure region of the s3 bucket\n",
    "\n",
    "\n",
    "container = sagemaker.amazon.amazon_estimator.get_image_uri(\n",
    "    region,\n",
    "    \"xgboost\", \n",
    "    \"0.90-2\")\n",
    "\n",
    "print('Using SageMaker XGBoost container:\\n{} ({})'.format(container, region))"
   ]
  },
  {
   "cell_type": "markdown",
   "metadata": {},
   "source": [
    "## Build Model"
   ]
  },
  {
   "cell_type": "code",
   "execution_count": 10,
   "metadata": {},
   "outputs": [],
   "source": [
    "# Configure the training job\n",
    "# Specify type and number of instances to use\n",
    "# S3 location where final artifacts needs to be stored\n",
    "\n",
    "#   Reference: http://sagemaker.readthedocs.io/en/latest/estimators.html\n",
    "\n",
    "estimator = sagemaker.estimator.Estimator(\n",
    "    container,\n",
    "    role, \n",
    "    train_instance_count=1, \n",
    "    train_instance_type='ml.m4.xlarge',\n",
    "    output_path=s3_model_output_location,\n",
    "    sagemaker_session=sess,\n",
    "    base_job_name ='xgboost-bikerental-v2')"
   ]
  },
  {
   "cell_type": "code",
   "execution_count": 11,
   "metadata": {},
   "outputs": [],
   "source": [
    "# XGBoost Training Parameter Reference: \n",
    "#   https://github.com/dmlc/xgboost/blob/master/doc/parameter.md\n",
    "\n",
    "# max_depth=5,eta=0.1,subsample=0.7,num_round=200\n",
    "estimator.set_hyperparameters(max_depth=5,\n",
    "                              objective=\"reg:squarederror\",\n",
    "                              eta=0.1,\n",
    "                              num_round=200)"
   ]
  },
  {
   "cell_type": "code",
   "execution_count": 12,
   "metadata": {},
   "outputs": [
    {
     "data": {
      "text/plain": [
       "{'max_depth': 5, 'objective': 'reg:squarederror', 'eta': 0.1, 'num_round': 200}"
      ]
     },
     "execution_count": 12,
     "metadata": {},
     "output_type": "execute_result"
    }
   ],
   "source": [
    "estimator.hyperparameters() # double-check of settings (in dictionary format)"
   ]
  },
  {
   "cell_type": "markdown",
   "metadata": {},
   "source": [
    "## Specify Training Data Location and Optionally Validation Data Location\n",
    "\n",
    "Content type can csv or libsvm format for XGBoost"
   ]
  },
  {
   "cell_type": "code",
   "execution_count": 13,
   "metadata": {},
   "outputs": [],
   "source": [
    "training_input_config = sagemaker.session.s3_input(\n",
    "    s3_data=s3_training_file_location,\n",
    "    content_type='csv',\n",
    "    s3_data_type='S3Prefix')\n",
    "\n",
    "validation_input_config = sagemaker.session.s3_input(\n",
    "    s3_data=s3_validation_file_location,\n",
    "    content_type='csv',\n",
    "    s3_data_type='S3Prefix'\n",
    ")\n",
    "\n",
    "data_channels = {'train': training_input_config, 'validation': validation_input_config}"
   ]
  },
  {
   "cell_type": "code",
   "execution_count": 14,
   "metadata": {},
   "outputs": [
    {
     "name": "stdout",
     "output_type": "stream",
     "text": [
      "{'DataSource': {'S3DataSource': {'S3DataType': 'S3Prefix', 'S3Uri': 's3://s3-2-ml-sagemaker/bikerental/training/', 'S3DataDistributionType': 'FullyReplicated'}}, 'ContentType': 'csv'}\n",
      "{'DataSource': {'S3DataSource': {'S3DataType': 'S3Prefix', 'S3Uri': 's3://s3-2-ml-sagemaker/bikerental/validation/', 'S3DataDistributionType': 'FullyReplicated'}}, 'ContentType': 'csv'}\n"
     ]
    }
   ],
   "source": [
    "print(training_input_config.config)\n",
    "print(validation_input_config.config)\n",
    "# double-check the locations"
   ]
  },
  {
   "cell_type": "markdown",
   "metadata": {},
   "source": [
    "## Train the Model\n",
    "\n",
    "This will launch XGBoost's machine learning instance!"
   ]
  },
  {
   "cell_type": "code",
   "execution_count": 15,
   "metadata": {},
   "outputs": [
    {
     "name": "stdout",
     "output_type": "stream",
     "text": [
      "2020-03-07 01:50:48 Starting - Starting the training job...\n",
      "2020-03-07 01:50:49 Starting - Launching requested ML instances...\n",
      "2020-03-07 01:51:47 Starting - Preparing the instances for training.........\n",
      "2020-03-07 01:52:49 Downloading - Downloading input data...\n",
      "2020-03-07 01:53:46 Training - Training image download completed. Training in progress.\n",
      "2020-03-07 01:53:46 Uploading - Uploading generated training model.\u001b[34mINFO:sagemaker-containers:Imported framework sagemaker_xgboost_container.training\u001b[0m\n",
      "\u001b[34mINFO:sagemaker-containers:Failed to parse hyperparameter objective value reg:squarederror to Json.\u001b[0m\n",
      "\u001b[34mReturning the value itself\u001b[0m\n",
      "\u001b[34mINFO:sagemaker-containers:No GPUs detected (normal if no gpus installed)\u001b[0m\n",
      "\u001b[34mINFO:sagemaker_xgboost_container.training:Running XGBoost Sagemaker in algorithm mode\u001b[0m\n",
      "\u001b[34mINFO:root:Determined delimiter of CSV input is ','\u001b[0m\n",
      "\u001b[34mINFO:root:Determined delimiter of CSV input is ','\u001b[0m\n",
      "\u001b[34mINFO:root:Determined delimiter of CSV input is ','\u001b[0m\n",
      "\u001b[34m[01:53:43] 7620x13 matrix with 99060 entries loaded from /opt/ml/input/data/train?format=csv&label_column=0&delimiter=,\u001b[0m\n",
      "\u001b[34mINFO:root:Determined delimiter of CSV input is ','\u001b[0m\n",
      "\u001b[34m[01:53:43] 3266x13 matrix with 42458 entries loaded from /opt/ml/input/data/validation?format=csv&label_column=0&delimiter=,\u001b[0m\n",
      "\u001b[34mINFO:root:Single node training.\u001b[0m\n",
      "\u001b[34mINFO:root:Train matrix has 7620 rows\u001b[0m\n",
      "\u001b[34mINFO:root:Validation matrix has 3266 rows\u001b[0m\n",
      "\u001b[34m[0]#011train-rmse:3.90473#011validation-rmse:3.91357\u001b[0m\n",
      "\u001b[34m[1]#011train-rmse:3.52489#011validation-rmse:3.53504\u001b[0m\n",
      "\u001b[34m[2]#011train-rmse:3.18387#011validation-rmse:3.19418\u001b[0m\n",
      "\u001b[34m[3]#011train-rmse:2.87664#011validation-rmse:2.88818\u001b[0m\n",
      "\u001b[34m[4]#011train-rmse:2.6015#011validation-rmse:2.61376\u001b[0m\n",
      "\u001b[34m[5]#011train-rmse:2.35456#011validation-rmse:2.36767\u001b[0m\n",
      "\u001b[34m[6]#011train-rmse:2.13221#011validation-rmse:2.14598\u001b[0m\n",
      "\u001b[34m[7]#011train-rmse:1.93403#011validation-rmse:1.94906\u001b[0m\n",
      "\u001b[34m[8]#011train-rmse:1.75471#011validation-rmse:1.77047\u001b[0m\n",
      "\u001b[34m[9]#011train-rmse:1.59361#011validation-rmse:1.61017\u001b[0m\n",
      "\u001b[34m[10]#011train-rmse:1.45068#011validation-rmse:1.46871\u001b[0m\n",
      "\u001b[34m[11]#011train-rmse:1.3224#011validation-rmse:1.34146\u001b[0m\n",
      "\u001b[34m[12]#011train-rmse:1.20789#011validation-rmse:1.22784\u001b[0m\n",
      "\u001b[34m[13]#011train-rmse:1.10591#011validation-rmse:1.12706\u001b[0m\n",
      "\u001b[34m[14]#011train-rmse:1.01452#011validation-rmse:1.03682\u001b[0m\n",
      "\u001b[34m[15]#011train-rmse:0.928974#011validation-rmse:0.952268\u001b[0m\n",
      "\u001b[34m[16]#011train-rmse:0.853387#011validation-rmse:0.877623\u001b[0m\n",
      "\u001b[34m[17]#011train-rmse:0.789737#011validation-rmse:0.815422\u001b[0m\n",
      "\u001b[34m[18]#011train-rmse:0.733658#011validation-rmse:0.760661\u001b[0m\n",
      "\u001b[34m[19]#011train-rmse:0.68217#011validation-rmse:0.710574\u001b[0m\n",
      "\u001b[34m[20]#011train-rmse:0.638698#011validation-rmse:0.668362\u001b[0m\n",
      "\u001b[34m[21]#011train-rmse:0.599606#011validation-rmse:0.630515\u001b[0m\n",
      "\u001b[34m[22]#011train-rmse:0.564009#011validation-rmse:0.59562\u001b[0m\n",
      "\u001b[34m[23]#011train-rmse:0.534101#011validation-rmse:0.566769\u001b[0m\n",
      "\u001b[34m[24]#011train-rmse:0.505841#011validation-rmse:0.539358\u001b[0m\n",
      "\u001b[34m[25]#011train-rmse:0.482468#011validation-rmse:0.517055\u001b[0m\n",
      "\u001b[34m[26]#011train-rmse:0.459734#011validation-rmse:0.495688\u001b[0m\n",
      "\u001b[34m[27]#011train-rmse:0.438741#011validation-rmse:0.475535\u001b[0m\n",
      "\u001b[34m[28]#011train-rmse:0.422813#011validation-rmse:0.460447\u001b[0m\n",
      "\u001b[34m[29]#011train-rmse:0.407913#011validation-rmse:0.446402\u001b[0m\n",
      "\u001b[34m[30]#011train-rmse:0.395926#011validation-rmse:0.435603\u001b[0m\n",
      "\u001b[34m[31]#011train-rmse:0.384314#011validation-rmse:0.424821\u001b[0m\n",
      "\u001b[34m[32]#011train-rmse:0.375223#011validation-rmse:0.416631\u001b[0m\n",
      "\u001b[34m[33]#011train-rmse:0.364901#011validation-rmse:0.406785\u001b[0m\n",
      "\u001b[34m[34]#011train-rmse:0.358028#011validation-rmse:0.400242\u001b[0m\n",
      "\u001b[34m[35]#011train-rmse:0.352697#011validation-rmse:0.395314\u001b[0m\n",
      "\u001b[34m[36]#011train-rmse:0.347802#011validation-rmse:0.390803\u001b[0m\n",
      "\u001b[34m[37]#011train-rmse:0.342904#011validation-rmse:0.386503\u001b[0m\n",
      "\u001b[34m[38]#011train-rmse:0.338477#011validation-rmse:0.382325\u001b[0m\n",
      "\u001b[34m[39]#011train-rmse:0.33401#011validation-rmse:0.378141\u001b[0m\n",
      "\u001b[34m[40]#011train-rmse:0.331065#011validation-rmse:0.375553\u001b[0m\n",
      "\u001b[34m[41]#011train-rmse:0.328568#011validation-rmse:0.373414\u001b[0m\n",
      "\u001b[34m[42]#011train-rmse:0.325857#011validation-rmse:0.370981\u001b[0m\n",
      "\u001b[34m[43]#011train-rmse:0.320237#011validation-rmse:0.36585\u001b[0m\n",
      "\u001b[34m[44]#011train-rmse:0.31724#011validation-rmse:0.362899\u001b[0m\n",
      "\u001b[34m[45]#011train-rmse:0.315182#011validation-rmse:0.361094\u001b[0m\n",
      "\u001b[34m[46]#011train-rmse:0.313549#011validation-rmse:0.359727\u001b[0m\n",
      "\u001b[34m[47]#011train-rmse:0.308406#011validation-rmse:0.354632\u001b[0m\n",
      "\u001b[34m[48]#011train-rmse:0.307019#011validation-rmse:0.353652\u001b[0m\n",
      "\u001b[34m[49]#011train-rmse:0.300107#011validation-rmse:0.347153\u001b[0m\n",
      "\u001b[34m[50]#011train-rmse:0.298802#011validation-rmse:0.346269\u001b[0m\n",
      "\u001b[34m[51]#011train-rmse:0.295758#011validation-rmse:0.343355\u001b[0m\n",
      "\u001b[34m[52]#011train-rmse:0.29141#011validation-rmse:0.339014\u001b[0m\n",
      "\u001b[34m[53]#011train-rmse:0.29029#011validation-rmse:0.338414\u001b[0m\n",
      "\u001b[34m[54]#011train-rmse:0.286365#011validation-rmse:0.334873\u001b[0m\n",
      "\u001b[34m[55]#011train-rmse:0.285247#011validation-rmse:0.334207\u001b[0m\n",
      "\u001b[34m[56]#011train-rmse:0.282028#011validation-rmse:0.330993\u001b[0m\n",
      "\u001b[34m[57]#011train-rmse:0.27991#011validation-rmse:0.329065\u001b[0m\n",
      "\u001b[34m[58]#011train-rmse:0.278832#011validation-rmse:0.32827\u001b[0m\n",
      "\u001b[34m[59]#011train-rmse:0.278031#011validation-rmse:0.327509\u001b[0m\n",
      "\u001b[34m[60]#011train-rmse:0.27732#011validation-rmse:0.326858\u001b[0m\n",
      "\u001b[34m[61]#011train-rmse:0.276487#011validation-rmse:0.326546\u001b[0m\n",
      "\u001b[34m[62]#011train-rmse:0.274466#011validation-rmse:0.324463\u001b[0m\n",
      "\u001b[34m[63]#011train-rmse:0.273906#011validation-rmse:0.324067\u001b[0m\n",
      "\u001b[34m[64]#011train-rmse:0.271852#011validation-rmse:0.322149\u001b[0m\n",
      "\u001b[34m[65]#011train-rmse:0.27#011validation-rmse:0.320396\u001b[0m\n",
      "\u001b[34m[66]#011train-rmse:0.268551#011validation-rmse:0.318887\u001b[0m\n",
      "\u001b[34m[67]#011train-rmse:0.268127#011validation-rmse:0.318595\u001b[0m\n",
      "\u001b[34m[68]#011train-rmse:0.267612#011validation-rmse:0.318243\u001b[0m\n",
      "\u001b[34m[69]#011train-rmse:0.266131#011validation-rmse:0.316841\u001b[0m\n",
      "\u001b[34m[70]#011train-rmse:0.264429#011validation-rmse:0.315317\u001b[0m\n",
      "\u001b[34m[71]#011train-rmse:0.264056#011validation-rmse:0.315131\u001b[0m\n",
      "\u001b[34m[72]#011train-rmse:0.263229#011validation-rmse:0.314479\u001b[0m\n",
      "\u001b[34m[73]#011train-rmse:0.262626#011validation-rmse:0.314272\u001b[0m\n",
      "\u001b[34m[74]#011train-rmse:0.262325#011validation-rmse:0.314008\u001b[0m\n",
      "\u001b[34m[75]#011train-rmse:0.261441#011validation-rmse:0.31357\u001b[0m\n",
      "\u001b[34m[76]#011train-rmse:0.26039#011validation-rmse:0.31261\u001b[0m\n",
      "\u001b[34m[77]#011train-rmse:0.25983#011validation-rmse:0.312325\u001b[0m\n",
      "\u001b[34m[78]#011train-rmse:0.25952#011validation-rmse:0.312179\u001b[0m\n",
      "\u001b[34m[79]#011train-rmse:0.258366#011validation-rmse:0.310996\u001b[0m\n",
      "\u001b[34m[80]#011train-rmse:0.257906#011validation-rmse:0.310684\u001b[0m\n",
      "\u001b[34m[81]#011train-rmse:0.257012#011validation-rmse:0.309859\u001b[0m\n",
      "\u001b[34m[82]#011train-rmse:0.256766#011validation-rmse:0.309796\u001b[0m\n",
      "\u001b[34m[83]#011train-rmse:0.255535#011validation-rmse:0.308737\u001b[0m\n",
      "\u001b[34m[84]#011train-rmse:0.255045#011validation-rmse:0.308164\u001b[0m\n",
      "\u001b[34m[85]#011train-rmse:0.254358#011validation-rmse:0.307536\u001b[0m\n",
      "\u001b[34m[86]#011train-rmse:0.253742#011validation-rmse:0.307248\u001b[0m\n",
      "\u001b[34m[87]#011train-rmse:0.253248#011validation-rmse:0.307126\u001b[0m\n",
      "\u001b[34m[88]#011train-rmse:0.252908#011validation-rmse:0.307107\u001b[0m\n",
      "\u001b[34m[89]#011train-rmse:0.2525#011validation-rmse:0.306963\u001b[0m\n",
      "\u001b[34m[90]#011train-rmse:0.252178#011validation-rmse:0.306693\u001b[0m\n",
      "\u001b[34m[91]#011train-rmse:0.250954#011validation-rmse:0.305403\u001b[0m\n",
      "\u001b[34m[92]#011train-rmse:0.250476#011validation-rmse:0.305236\u001b[0m\n",
      "\u001b[34m[93]#011train-rmse:0.249946#011validation-rmse:0.305109\u001b[0m\n",
      "\u001b[34m[94]#011train-rmse:0.249774#011validation-rmse:0.305053\u001b[0m\n",
      "\u001b[34m[95]#011train-rmse:0.24951#011validation-rmse:0.304857\u001b[0m\n",
      "\u001b[34m[96]#011train-rmse:0.249236#011validation-rmse:0.304711\u001b[0m\n",
      "\u001b[34m[97]#011train-rmse:0.248627#011validation-rmse:0.304496\u001b[0m\n",
      "\u001b[34m[98]#011train-rmse:0.247935#011validation-rmse:0.304439\u001b[0m\n",
      "\u001b[34m[99]#011train-rmse:0.247317#011validation-rmse:0.303886\u001b[0m\n",
      "\u001b[34m[100]#011train-rmse:0.247041#011validation-rmse:0.303743\u001b[0m\n",
      "\u001b[34m[101]#011train-rmse:0.246903#011validation-rmse:0.303689\u001b[0m\n",
      "\u001b[34m[102]#011train-rmse:0.246355#011validation-rmse:0.30366\u001b[0m\n",
      "\u001b[34m[103]#011train-rmse:0.246011#011validation-rmse:0.303647\u001b[0m\n",
      "\u001b[34m[104]#011train-rmse:0.245502#011validation-rmse:0.303196\u001b[0m\n",
      "\u001b[34m[105]#011train-rmse:0.2453#011validation-rmse:0.303081\u001b[0m\n",
      "\u001b[34m[106]#011train-rmse:0.244674#011validation-rmse:0.302754\u001b[0m\n",
      "\u001b[34m[107]#011train-rmse:0.244344#011validation-rmse:0.302732\u001b[0m\n",
      "\u001b[34m[108]#011train-rmse:0.243949#011validation-rmse:0.302609\u001b[0m\n",
      "\u001b[34m[109]#011train-rmse:0.24338#011validation-rmse:0.302268\u001b[0m\n",
      "\u001b[34m[110]#011train-rmse:0.242814#011validation-rmse:0.301904\u001b[0m\n",
      "\u001b[34m[111]#011train-rmse:0.242367#011validation-rmse:0.301519\u001b[0m\n",
      "\u001b[34m[112]#011train-rmse:0.242016#011validation-rmse:0.301414\u001b[0m\n",
      "\u001b[34m[113]#011train-rmse:0.241603#011validation-rmse:0.301021\u001b[0m\n",
      "\u001b[34m[114]#011train-rmse:0.241087#011validation-rmse:0.300828\u001b[0m\n",
      "\u001b[34m[115]#011train-rmse:0.240508#011validation-rmse:0.300504\u001b[0m\n",
      "\u001b[34m[116]#011train-rmse:0.240168#011validation-rmse:0.300496\u001b[0m\n",
      "\u001b[34m[117]#011train-rmse:0.239877#011validation-rmse:0.30043\u001b[0m\n",
      "\u001b[34m[118]#011train-rmse:0.23979#011validation-rmse:0.300374\u001b[0m\n",
      "\u001b[34m[119]#011train-rmse:0.239516#011validation-rmse:0.300348\u001b[0m\n",
      "\u001b[34m[120]#011train-rmse:0.239218#011validation-rmse:0.300295\u001b[0m\n",
      "\u001b[34m[121]#011train-rmse:0.238734#011validation-rmse:0.300243\u001b[0m\n",
      "\u001b[34m[122]#011train-rmse:0.238493#011validation-rmse:0.300096\u001b[0m\n",
      "\u001b[34m[123]#011train-rmse:0.238159#011validation-rmse:0.300147\u001b[0m\n",
      "\u001b[34m[124]#011train-rmse:0.237696#011validation-rmse:0.299764\u001b[0m\n",
      "\u001b[34m[125]#011train-rmse:0.23753#011validation-rmse:0.299738\u001b[0m\n",
      "\u001b[34m[126]#011train-rmse:0.237335#011validation-rmse:0.299654\u001b[0m\n",
      "\u001b[34m[127]#011train-rmse:0.236784#011validation-rmse:0.299572\u001b[0m\n",
      "\u001b[34m[128]#011train-rmse:0.236541#011validation-rmse:0.299458\u001b[0m\n",
      "\u001b[34m[129]#011train-rmse:0.23641#011validation-rmse:0.29945\u001b[0m\n",
      "\u001b[34m[130]#011train-rmse:0.236348#011validation-rmse:0.299427\u001b[0m\n",
      "\u001b[34m[131]#011train-rmse:0.235827#011validation-rmse:0.299519\u001b[0m\n",
      "\u001b[34m[132]#011train-rmse:0.235159#011validation-rmse:0.298833\u001b[0m\n",
      "\u001b[34m[133]#011train-rmse:0.235062#011validation-rmse:0.29881\u001b[0m\n",
      "\u001b[34m[134]#011train-rmse:0.234731#011validation-rmse:0.298715\u001b[0m\n",
      "\u001b[34m[135]#011train-rmse:0.234539#011validation-rmse:0.298638\u001b[0m\n",
      "\u001b[34m[136]#011train-rmse:0.234148#011validation-rmse:0.298274\u001b[0m\n",
      "\u001b[34m[137]#011train-rmse:0.233726#011validation-rmse:0.298156\u001b[0m\n",
      "\u001b[34m[138]#011train-rmse:0.233364#011validation-rmse:0.298147\u001b[0m\n",
      "\u001b[34m[139]#011train-rmse:0.233053#011validation-rmse:0.297962\u001b[0m\n",
      "\u001b[34m[140]#011train-rmse:0.232885#011validation-rmse:0.297899\u001b[0m\n",
      "\u001b[34m[141]#011train-rmse:0.232553#011validation-rmse:0.29787\u001b[0m\n",
      "\u001b[34m[142]#011train-rmse:0.232356#011validation-rmse:0.297747\u001b[0m\n",
      "\u001b[34m[143]#011train-rmse:0.232025#011validation-rmse:0.297673\u001b[0m\n",
      "\u001b[34m[144]#011train-rmse:0.231627#011validation-rmse:0.297425\u001b[0m\n",
      "\u001b[34m[145]#011train-rmse:0.231271#011validation-rmse:0.297254\u001b[0m\n",
      "\u001b[34m[146]#011train-rmse:0.230836#011validation-rmse:0.296845\u001b[0m\n",
      "\u001b[34m[147]#011train-rmse:0.230414#011validation-rmse:0.296605\u001b[0m\n",
      "\u001b[34m[148]#011train-rmse:0.229915#011validation-rmse:0.29619\u001b[0m\n",
      "\u001b[34m[149]#011train-rmse:0.229626#011validation-rmse:0.295962\u001b[0m\n",
      "\u001b[34m[150]#011train-rmse:0.229226#011validation-rmse:0.295779\u001b[0m\n",
      "\u001b[34m[151]#011train-rmse:0.228851#011validation-rmse:0.29553\u001b[0m\n",
      "\u001b[34m[152]#011train-rmse:0.228403#011validation-rmse:0.295538\u001b[0m\n",
      "\u001b[34m[153]#011train-rmse:0.227913#011validation-rmse:0.295553\u001b[0m\n",
      "\u001b[34m[154]#011train-rmse:0.227763#011validation-rmse:0.295503\u001b[0m\n",
      "\u001b[34m[155]#011train-rmse:0.227712#011validation-rmse:0.295477\u001b[0m\n",
      "\u001b[34m[156]#011train-rmse:0.227345#011validation-rmse:0.295309\u001b[0m\n",
      "\u001b[34m[157]#011train-rmse:0.227188#011validation-rmse:0.295326\u001b[0m\n",
      "\u001b[34m[158]#011train-rmse:0.226835#011validation-rmse:0.295144\u001b[0m\n",
      "\u001b[34m[159]#011train-rmse:0.226654#011validation-rmse:0.295081\u001b[0m\n",
      "\u001b[34m[160]#011train-rmse:0.22616#011validation-rmse:0.295081\u001b[0m\n",
      "\u001b[34m[161]#011train-rmse:0.226013#011validation-rmse:0.295054\u001b[0m\n",
      "\u001b[34m[162]#011train-rmse:0.225853#011validation-rmse:0.294938\u001b[0m\n",
      "\u001b[34m[163]#011train-rmse:0.225787#011validation-rmse:0.294906\u001b[0m\n",
      "\u001b[34m[164]#011train-rmse:0.225692#011validation-rmse:0.29488\u001b[0m\n",
      "\u001b[34m[165]#011train-rmse:0.22536#011validation-rmse:0.294776\u001b[0m\n",
      "\u001b[34m[166]#011train-rmse:0.225046#011validation-rmse:0.294584\u001b[0m\n",
      "\u001b[34m[167]#011train-rmse:0.224834#011validation-rmse:0.294489\u001b[0m\n",
      "\u001b[34m[168]#011train-rmse:0.224517#011validation-rmse:0.294321\u001b[0m\n",
      "\u001b[34m[169]#011train-rmse:0.224476#011validation-rmse:0.294318\u001b[0m\n",
      "\u001b[34m[170]#011train-rmse:0.223991#011validation-rmse:0.294206\u001b[0m\n",
      "\u001b[34m[171]#011train-rmse:0.223424#011validation-rmse:0.293994\u001b[0m\n",
      "\u001b[34m[172]#011train-rmse:0.223027#011validation-rmse:0.293945\u001b[0m\n",
      "\u001b[34m[173]#011train-rmse:0.222999#011validation-rmse:0.293953\u001b[0m\n",
      "\u001b[34m[174]#011train-rmse:0.22274#011validation-rmse:0.293795\u001b[0m\n",
      "\u001b[34m[175]#011train-rmse:0.222483#011validation-rmse:0.29388\u001b[0m\n",
      "\u001b[34m[176]#011train-rmse:0.222074#011validation-rmse:0.293967\u001b[0m\n",
      "\u001b[34m[177]#011train-rmse:0.222051#011validation-rmse:0.293977\u001b[0m\n",
      "\u001b[34m[178]#011train-rmse:0.221716#011validation-rmse:0.293827\u001b[0m\n",
      "\u001b[34m[179]#011train-rmse:0.221386#011validation-rmse:0.293859\u001b[0m\n",
      "\u001b[34m[180]#011train-rmse:0.220718#011validation-rmse:0.293409\u001b[0m\n",
      "\u001b[34m[181]#011train-rmse:0.22033#011validation-rmse:0.293247\u001b[0m\n",
      "\u001b[34m[182]#011train-rmse:0.219917#011validation-rmse:0.2928\u001b[0m\n",
      "\u001b[34m[183]#011train-rmse:0.219863#011validation-rmse:0.292779\u001b[0m\n",
      "\u001b[34m[184]#011train-rmse:0.219523#011validation-rmse:0.292746\u001b[0m\n",
      "\u001b[34m[185]#011train-rmse:0.219476#011validation-rmse:0.2927\u001b[0m\n",
      "\u001b[34m[186]#011train-rmse:0.219156#011validation-rmse:0.292684\u001b[0m\n",
      "\u001b[34m[187]#011train-rmse:0.218743#011validation-rmse:0.292613\u001b[0m\n",
      "\u001b[34m[188]#011train-rmse:0.218474#011validation-rmse:0.292505\u001b[0m\n",
      "\u001b[34m[189]#011train-rmse:0.21811#011validation-rmse:0.292314\u001b[0m\n",
      "\u001b[34m[190]#011train-rmse:0.217986#011validation-rmse:0.292332\u001b[0m\n",
      "\u001b[34m[191]#011train-rmse:0.217843#011validation-rmse:0.292254\u001b[0m\n",
      "\u001b[34m[192]#011train-rmse:0.217589#011validation-rmse:0.292099\u001b[0m\n",
      "\u001b[34m[193]#011train-rmse:0.217212#011validation-rmse:0.291845\u001b[0m\n",
      "\u001b[34m[194]#011train-rmse:0.217079#011validation-rmse:0.291828\u001b[0m\n",
      "\u001b[34m[195]#011train-rmse:0.216743#011validation-rmse:0.291691\u001b[0m\n",
      "\u001b[34m[196]#011train-rmse:0.216544#011validation-rmse:0.291481\u001b[0m\n",
      "\u001b[34m[197]#011train-rmse:0.216533#011validation-rmse:0.291487\u001b[0m\n",
      "\u001b[34m[198]#011train-rmse:0.216457#011validation-rmse:0.291453\u001b[0m\n",
      "\u001b[34m[199]#011train-rmse:0.216448#011validation-rmse:0.291451\u001b[0m\n",
      "\n",
      "2020-03-07 01:53:53 Completed - Training job completed\n",
      "Training seconds: 64\n",
      "Billable seconds: 64\n"
     ]
    }
   ],
   "source": [
    "# XGBoost supports \"train\", \"validation\" channels\n",
    "estimator.fit(data_channels)"
   ]
  },
  {
   "cell_type": "markdown",
   "metadata": {},
   "source": [
    "## Deploy the Model"
   ]
  },
  {
   "cell_type": "code",
   "execution_count": 16,
   "metadata": {},
   "outputs": [
    {
     "name": "stdout",
     "output_type": "stream",
     "text": [
      "--------------!"
     ]
    }
   ],
   "source": [
    "# Ref: http://sagemaker.readthedocs.io/en/latest/estimators.html\n",
    "# predictor = estimator.deploy(initial_instance_count=1,\n",
    "#                             instance_type='ml.m4.xlarge',\n",
    "#                              endpoint_name = 'xgboost-bikerental-v2')\n",
    "\n",
    "predictor = estimator.deploy(initial_instance_count=1,\n",
    "                             instance_type='ml.m4.xlarge')"
   ]
  },
  {
   "cell_type": "markdown",
   "metadata": {},
   "source": [
    "## Run Predictions"
   ]
  },
  {
   "cell_type": "code",
   "execution_count": 17,
   "metadata": {},
   "outputs": [],
   "source": [
    "from sagemaker.predictor import csv_serializer, json_deserializer\n",
    "\n",
    "predictor.content_type = 'text/csv'\n",
    "predictor.serializer = csv_serializer\n",
    "predictor.deserializer = None"
   ]
  },
  {
   "cell_type": "code",
   "execution_count": 18,
   "metadata": {},
   "outputs": [
    {
     "data": {
      "text/plain": [
       "b'3.7342963218688965'"
      ]
     },
     "execution_count": 18,
     "metadata": {},
     "output_type": "execute_result"
    }
   ],
   "source": [
    "predictor.predict([[3,0,1,2,28.7,33.335,79,12.998,2011,7,7,3]])"
   ]
  },
  {
   "cell_type": "code",
   "execution_count": null,
   "metadata": {},
   "outputs": [],
   "source": []
  }
 ],
 "metadata": {
  "kernelspec": {
   "display_name": "conda_amazonei_tensorflow_p36",
   "language": "python",
   "name": "conda_amazonei_tensorflow_p36"
  },
  "language_info": {
   "codemirror_mode": {
    "name": "ipython",
    "version": 3
   },
   "file_extension": ".py",
   "mimetype": "text/x-python",
   "name": "python",
   "nbconvert_exporter": "python",
   "pygments_lexer": "ipython3",
   "version": "3.6.5"
  }
 },
 "nbformat": 4,
 "nbformat_minor": 4
}
