{
 "cells": [
  {
   "cell_type": "markdown",
   "metadata": {},
   "source": [
    "# Train a model with _Bike Rental Data_ using XGBoost\n",
    "\n",
    "This section will work with XGBoost as a local installation to the instance.\n",
    "\n",
    "## Training _log1p(count)_ onto Dataset\n",
    "\n",
    "**Kernel used:** Conda with TensorFlow Python 3.6.5 for Amazon Elastic Instance *(conda_amazonei_tensorflow_p36)*"
   ]
  },
  {
   "cell_type": "markdown",
   "metadata": {},
   "source": [
    "### First update *conda* and *pip* to latest version"
   ]
  },
  {
   "cell_type": "code",
   "execution_count": null,
   "metadata": {},
   "outputs": [],
   "source": [
    "!conda update -n base conda\n",
    "!pip install --upgrade pip"
   ]
  },
  {
   "cell_type": "markdown",
   "metadata": {},
   "source": [
    "### Ensure required packages are installed"
   ]
  },
  {
   "cell_type": "code",
   "execution_count": 1,
   "metadata": {},
   "outputs": [
    {
     "name": "stdout",
     "output_type": "stream",
     "text": [
      "# packages in environment at /home/ec2-user/anaconda3/envs/amazonei_tensorflow_p36:\n",
      "#\n",
      "# Name                    Version                   Build  Channel\n",
      "nb_conda                  2.2.1                    py36_2    conda-forge\n",
      "nb_conda_kernels          2.2.2                    py36_0    conda-forge\n",
      "# packages in environment at /home/ec2-user/anaconda3/envs/amazonei_tensorflow_p36:\n",
      "#\n",
      "# Name                    Version                   Build  Channel\n",
      "numpy                     1.14.3           py36hcd700cb_1  \n",
      "numpy                     1.17.4                    <pip>\n",
      "numpy-base                1.14.3           py36h9be14a7_1  \n",
      "numpydoc                  0.8.0                    py36_0  \n",
      "# packages in environment at /home/ec2-user/anaconda3/envs/amazonei_tensorflow_p36:\n",
      "#\n",
      "# Name                    Version                   Build  Channel\n",
      "pandas                    0.24.2           py36he6710b0_0  \n",
      "# packages in environment at /home/ec2-user/anaconda3/envs/amazonei_tensorflow_p36:\n",
      "#\n",
      "# Name                    Version                   Build  Channel\n",
      "pip                       10.0.1                   py36_0  \n",
      "pip                       10.0.1                    <pip>\n",
      "# packages in environment at /home/ec2-user/anaconda3/envs/amazonei_tensorflow_p36:\n",
      "#\n",
      "# Name                    Version                   Build  Channel\n",
      "ipython                   6.4.0                    py36_0  \n",
      "ipython_genutils          0.2.0            py36hb52b0d5_0  \n",
      "msgpack-python            0.5.6            py36h6bb024c_0  \n",
      "python                    3.6.5                hc3d631a_2  \n",
      "python-dateutil           2.7.3                    py36_0  \n",
      "# packages in environment at /home/ec2-user/anaconda3/envs/amazonei_tensorflow_p36:\n",
      "#\n",
      "# Name                    Version                   Build  Channel\n",
      "matplotlib                2.2.3            py36hb69df0a_0  \n",
      "matplotlib                3.0.3                     <pip>\n"
     ]
    }
   ],
   "source": [
    "!conda list nb_conda\n",
    "!conda list numpy\n",
    "!conda list pandas\n",
    "!conda list pip\n",
    "!conda list python\n",
    "!conda list matplotlib"
   ]
  },
  {
   "cell_type": "markdown",
   "metadata": {},
   "source": [
    "### Major Library Versions Used\n",
    "\n",
    "| Library | Version |\n",
    "|---------|:--------|\n",
    "| nb_conda | 2.2.1 |\n",
    "| matplotlib | 3.0.3 |\n",
    "| numpy | 1.17.4 |\n",
    "| pandas | 0.24.2 |\n",
    "| pip | 20.2 |\n",
    "| python | 3.6.5 |\n",
    "| xgboost | 0.90 |"
   ]
  },
  {
   "cell_type": "markdown",
   "metadata": {},
   "source": [
    "## Install xgboost"
   ]
  },
  {
   "cell_type": "code",
   "execution_count": 3,
   "metadata": {},
   "outputs": [
    {
     "name": "stdout",
     "output_type": "stream",
     "text": [
      "Solving environment: done\n",
      "\n",
      "\n",
      "==> WARNING: A newer version of conda exists. <==\n",
      "  current version: 4.5.12\n",
      "  latest version: 4.8.2\n",
      "\n",
      "Please update conda by running\n",
      "\n",
      "    $ conda update -n base -c defaults conda\n",
      "\n",
      "\n",
      "\n",
      "## Package Plan ##\n",
      "\n",
      "  environment location: /home/ec2-user/anaconda3/envs/amazonei_tensorflow_p36\n",
      "\n",
      "  added / updated specs: \n",
      "    - xgboost\n",
      "\n",
      "\n",
      "The following packages will be downloaded:\n",
      "\n",
      "    package                    |            build\n",
      "    ---------------------------|-----------------\n",
      "    python-3.6.7               |    h381d211_1004        34.5 MB  conda-forge\n",
      "    _py-xgboost-mutex-2.0      |            cpu_0           8 KB  conda-forge\n",
      "    tk-8.6.10                  |       hed695b0_0         3.2 MB  conda-forge\n",
      "    xgboost-0.90               |   py36he1b5a44_4          11 KB  conda-forge\n",
      "    grpcio-1.23.0              |   py36he9ae1f9_0         1.1 MB  conda-forge\n",
      "    curl-7.68.0                |       hf8cf82a_0         137 KB  conda-forge\n",
      "    pykerberos-1.2.1           |   py36h505690d_0          26 KB  conda-forge\n",
      "    krb5-1.16.4                |       h2fd8d38_0         1.4 MB  conda-forge\n",
      "    pycurl-7.43.0.5            |   py36h16ce93b_0          69 KB  conda-forge\n",
      "    cryptography-2.8           |   py36h72c5cf5_1         616 KB  conda-forge\n",
      "    libcurl-7.68.0             |       hda55be3_0         564 KB  conda-forge\n",
      "    libxgboost-0.90            |       he1b5a44_4         2.4 MB  conda-forge\n",
      "    expat-2.2.9                |       he1b5a44_2         191 KB  conda-forge\n",
      "    py-xgboost-0.90            |           py36_4          73 KB  conda-forge\n",
      "    ------------------------------------------------------------\n",
      "                                           Total:        44.3 MB\n",
      "\n",
      "The following NEW packages will be INSTALLED:\n",
      "\n",
      "    _py-xgboost-mutex: 2.0-cpu_0                conda-forge\n",
      "    gettext:           0.19.8.1-hc5be6a0_1002   conda-forge\n",
      "    libxgboost:        0.90-he1b5a44_4          conda-forge\n",
      "    py-xgboost:        0.90-py36_4              conda-forge\n",
      "    xgboost:           0.90-py36he1b5a44_4      conda-forge\n",
      "\n",
      "The following packages will be UPDATED:\n",
      "\n",
      "    ca-certificates:   2019.10.16-0                         --> 2019.11.28-hecc5488_0   conda-forge\n",
      "    certifi:           2019.9.11-py36_0                     --> 2019.11.28-py36_0       conda-forge\n",
      "    cryptography:      2.2.2-py36h14c3975_0                 --> 2.8-py36h72c5cf5_1      conda-forge\n",
      "    curl:              7.60.0-h84994c4_0                    --> 7.68.0-hf8cf82a_0       conda-forge\n",
      "    expat:             2.2.5-he0dffb1_0                     --> 2.2.9-he1b5a44_2        conda-forge\n",
      "    glib:              2.56.1-h000015b_0                    --> 2.58.3-h6f030ca_1002    conda-forge\n",
      "    grpcio:            1.16.0-py36h4f00d22_1000 conda-forge --> 1.23.0-py36he9ae1f9_0   conda-forge\n",
      "    krb5:              1.14.2-hcdc1b81_6                    --> 1.16.4-h2fd8d38_0       conda-forge\n",
      "    libcurl:           7.60.0-h1ad7b7a_0                    --> 7.68.0-hda55be3_0       conda-forge\n",
      "    libpng:            1.6.34-hb9fc6fc_0                    --> 1.6.37-hed695b0_0       conda-forge\n",
      "    libssh2:           1.8.0-h9cfc8f7_4                     --> 1.8.2-h22169c7_2        conda-forge\n",
      "    openssl:           1.0.2t-h7b6447c_1                    --> 1.1.1d-h516909a_0       conda-forge\n",
      "    pycurl:            7.43.0.1-py36hb7f436b_0              --> 7.43.0.5-py36h16ce93b_0 conda-forge\n",
      "    pykerberos:        1.2.1-py36h14c3975_0                 --> 1.2.1-py36h505690d_0    conda-forge\n",
      "    python:            3.6.5-hc3d631a_2                     --> 3.6.7-h381d211_1004     conda-forge\n",
      "    qt:                5.9.6-h52aff34_0                     --> 5.9.7-h5867ecd_1                   \n",
      "    sqlite:            3.23.1-he433501_0                    --> 3.28.0-h8b20d00_0       conda-forge\n",
      "    tk:                8.6.7-hc745277_3                     --> 8.6.10-hed695b0_0       conda-forge\n",
      "\n",
      "\n",
      "Downloading and Extracting Packages\n",
      "python-3.6.7         | 34.5 MB   | ##################################### | 100% \n",
      "_py-xgboost-mutex-2. | 8 KB      | ##################################### | 100% \n",
      "tk-8.6.10            | 3.2 MB    | ##################################### | 100% \n",
      "xgboost-0.90         | 11 KB     | ##################################### | 100% \n",
      "grpcio-1.23.0        | 1.1 MB    | ##################################### | 100% \n",
      "curl-7.68.0          | 137 KB    | ##################################### | 100% \n",
      "pykerberos-1.2.1     | 26 KB     | ##################################### | 100% \n",
      "krb5-1.16.4          | 1.4 MB    | ##################################### | 100% \n",
      "pycurl-7.43.0.5      | 69 KB     | ##################################### | 100% \n",
      "cryptography-2.8     | 616 KB    | ##################################### | 100% \n",
      "libcurl-7.68.0       | 564 KB    | ##################################### | 100% \n",
      "libxgboost-0.90      | 2.4 MB    | ##################################### | 100% \n",
      "expat-2.2.9          | 191 KB    | ##################################### | 100% \n",
      "py-xgboost-0.90      | 73 KB     | ##################################### | 100% \n",
      "Preparing transaction: done\n",
      "Verifying transaction: done\n",
      "Executing transaction: done\n"
     ]
    }
   ],
   "source": [
    "!conda install -y -c conda-forge xgboost"
   ]
  },
  {
   "cell_type": "code",
   "execution_count": 4,
   "metadata": {},
   "outputs": [],
   "source": [
    "## Import Libraries\n",
    "import sys\n",
    "import numpy as np\n",
    "import pandas as pd\n",
    "import matplotlib.pyplot as plt\n",
    "from sklearn.metrics import mean_squared_error, mean_absolute_error"
   ]
  },
  {
   "cell_type": "code",
   "execution_count": 5,
   "metadata": {},
   "outputs": [],
   "source": [
    "# XGBoost\n",
    "import xgboost as xgb"
   ]
  },
  {
   "cell_type": "markdown",
   "metadata": {},
   "source": [
    "## Load Data Files from Data Preparation Phase"
   ]
  },
  {
   "cell_type": "code",
   "execution_count": 6,
   "metadata": {},
   "outputs": [],
   "source": [
    "column_list_file = 'bikeTrain_column_listv2.txt'\n",
    "train_file = 'bikeTrainingv2.csv'\n",
    "validation_file ='bikeValidationv2.csv'\n",
    "test_file ='bikeTestv2.csv'"
   ]
  },
  {
   "cell_type": "code",
   "execution_count": 7,
   "metadata": {},
   "outputs": [],
   "source": [
    "columns = '' # setup columns variable as empty string\n",
    "with open(column_list_file,'r') as f:\n",
    "    columns = f.read().split(',') # columns read from text file containing CSV"
   ]
  },
  {
   "cell_type": "code",
   "execution_count": 8,
   "metadata": {},
   "outputs": [
    {
     "data": {
      "text/plain": [
       "['count',\n",
       " 'season',\n",
       " 'holiday',\n",
       " 'workingday',\n",
       " 'weather',\n",
       " 'temp',\n",
       " 'atemp',\n",
       " 'humidity',\n",
       " 'windspeed',\n",
       " 'year',\n",
       " 'month',\n",
       " 'day',\n",
       " 'dayofweek',\n",
       " 'hour']"
      ]
     },
     "execution_count": 8,
     "metadata": {},
     "output_type": "execute_result"
    }
   ],
   "source": [
    "columns # data check"
   ]
  },
  {
   "cell_type": "markdown",
   "metadata": {},
   "source": [
    "### Specify Column Names as the File Does Not Have Header"
   ]
  },
  {
   "cell_type": "code",
   "execution_count": 9,
   "metadata": {},
   "outputs": [],
   "source": [
    "df_train = pd.read_csv(train_file, names=columns)\n",
    "df_validation = pd.read_csv(validation_file,names=columns)"
   ]
  },
  {
   "cell_type": "code",
   "execution_count": 10,
   "metadata": {},
   "outputs": [
    {
     "data": {
      "text/html": [
       "<div>\n",
       "<style scoped>\n",
       "    .dataframe tbody tr th:only-of-type {\n",
       "        vertical-align: middle;\n",
       "    }\n",
       "\n",
       "    .dataframe tbody tr th {\n",
       "        vertical-align: top;\n",
       "    }\n",
       "\n",
       "    .dataframe thead th {\n",
       "        text-align: right;\n",
       "    }\n",
       "</style>\n",
       "<table border=\"1\" class=\"dataframe\">\n",
       "  <thead>\n",
       "    <tr style=\"text-align: right;\">\n",
       "      <th></th>\n",
       "      <th>count</th>\n",
       "      <th>season</th>\n",
       "      <th>holiday</th>\n",
       "      <th>workingday</th>\n",
       "      <th>weather</th>\n",
       "      <th>temp</th>\n",
       "      <th>atemp</th>\n",
       "      <th>humidity</th>\n",
       "      <th>windspeed</th>\n",
       "      <th>year</th>\n",
       "      <th>month</th>\n",
       "      <th>day</th>\n",
       "      <th>dayofweek</th>\n",
       "      <th>hour</th>\n",
       "    </tr>\n",
       "  </thead>\n",
       "  <tbody>\n",
       "    <tr>\n",
       "      <th>0</th>\n",
       "      <td>2.772589</td>\n",
       "      <td>3</td>\n",
       "      <td>0</td>\n",
       "      <td>1</td>\n",
       "      <td>1</td>\n",
       "      <td>28.70</td>\n",
       "      <td>33.335</td>\n",
       "      <td>74</td>\n",
       "      <td>8.9981</td>\n",
       "      <td>2011</td>\n",
       "      <td>7</td>\n",
       "      <td>6</td>\n",
       "      <td>2</td>\n",
       "      <td>1</td>\n",
       "    </tr>\n",
       "    <tr>\n",
       "      <th>1</th>\n",
       "      <td>3.401197</td>\n",
       "      <td>1</td>\n",
       "      <td>0</td>\n",
       "      <td>1</td>\n",
       "      <td>1</td>\n",
       "      <td>17.22</td>\n",
       "      <td>21.210</td>\n",
       "      <td>77</td>\n",
       "      <td>15.0013</td>\n",
       "      <td>2012</td>\n",
       "      <td>3</td>\n",
       "      <td>8</td>\n",
       "      <td>3</td>\n",
       "      <td>5</td>\n",
       "    </tr>\n",
       "    <tr>\n",
       "      <th>2</th>\n",
       "      <td>4.700480</td>\n",
       "      <td>1</td>\n",
       "      <td>0</td>\n",
       "      <td>1</td>\n",
       "      <td>1</td>\n",
       "      <td>13.12</td>\n",
       "      <td>14.395</td>\n",
       "      <td>49</td>\n",
       "      <td>27.9993</td>\n",
       "      <td>2012</td>\n",
       "      <td>2</td>\n",
       "      <td>2</td>\n",
       "      <td>3</td>\n",
       "      <td>22</td>\n",
       "    </tr>\n",
       "    <tr>\n",
       "      <th>3</th>\n",
       "      <td>4.110874</td>\n",
       "      <td>1</td>\n",
       "      <td>0</td>\n",
       "      <td>1</td>\n",
       "      <td>1</td>\n",
       "      <td>9.84</td>\n",
       "      <td>12.880</td>\n",
       "      <td>70</td>\n",
       "      <td>7.0015</td>\n",
       "      <td>2012</td>\n",
       "      <td>1</td>\n",
       "      <td>5</td>\n",
       "      <td>3</td>\n",
       "      <td>23</td>\n",
       "    </tr>\n",
       "    <tr>\n",
       "      <th>4</th>\n",
       "      <td>5.517453</td>\n",
       "      <td>1</td>\n",
       "      <td>0</td>\n",
       "      <td>1</td>\n",
       "      <td>1</td>\n",
       "      <td>14.76</td>\n",
       "      <td>17.425</td>\n",
       "      <td>27</td>\n",
       "      <td>15.0013</td>\n",
       "      <td>2011</td>\n",
       "      <td>3</td>\n",
       "      <td>8</td>\n",
       "      <td>1</td>\n",
       "      <td>17</td>\n",
       "    </tr>\n",
       "  </tbody>\n",
       "</table>\n",
       "</div>"
      ],
      "text/plain": [
       "      count  season  holiday  workingday  weather   temp   atemp  humidity  \\\n",
       "0  2.772589       3        0           1        1  28.70  33.335        74   \n",
       "1  3.401197       1        0           1        1  17.22  21.210        77   \n",
       "2  4.700480       1        0           1        1  13.12  14.395        49   \n",
       "3  4.110874       1        0           1        1   9.84  12.880        70   \n",
       "4  5.517453       1        0           1        1  14.76  17.425        27   \n",
       "\n",
       "   windspeed  year  month  day  dayofweek  hour  \n",
       "0     8.9981  2011      7    6          2     1  \n",
       "1    15.0013  2012      3    8          3     5  \n",
       "2    27.9993  2012      2    2          3    22  \n",
       "3     7.0015  2012      1    5          3    23  \n",
       "4    15.0013  2011      3    8          1    17  "
      ]
     },
     "execution_count": 10,
     "metadata": {},
     "output_type": "execute_result"
    }
   ],
   "source": [
    "df_train.head()"
   ]
  },
  {
   "cell_type": "code",
   "execution_count": 11,
   "metadata": {},
   "outputs": [
    {
     "data": {
      "text/html": [
       "<div>\n",
       "<style scoped>\n",
       "    .dataframe tbody tr th:only-of-type {\n",
       "        vertical-align: middle;\n",
       "    }\n",
       "\n",
       "    .dataframe tbody tr th {\n",
       "        vertical-align: top;\n",
       "    }\n",
       "\n",
       "    .dataframe thead th {\n",
       "        text-align: right;\n",
       "    }\n",
       "</style>\n",
       "<table border=\"1\" class=\"dataframe\">\n",
       "  <thead>\n",
       "    <tr style=\"text-align: right;\">\n",
       "      <th></th>\n",
       "      <th>count</th>\n",
       "      <th>season</th>\n",
       "      <th>holiday</th>\n",
       "      <th>workingday</th>\n",
       "      <th>weather</th>\n",
       "      <th>temp</th>\n",
       "      <th>atemp</th>\n",
       "      <th>humidity</th>\n",
       "      <th>windspeed</th>\n",
       "      <th>year</th>\n",
       "      <th>month</th>\n",
       "      <th>day</th>\n",
       "      <th>dayofweek</th>\n",
       "      <th>hour</th>\n",
       "    </tr>\n",
       "  </thead>\n",
       "  <tbody>\n",
       "    <tr>\n",
       "      <th>0</th>\n",
       "      <td>6.336826</td>\n",
       "      <td>2</td>\n",
       "      <td>0</td>\n",
       "      <td>1</td>\n",
       "      <td>1</td>\n",
       "      <td>28.70</td>\n",
       "      <td>31.820</td>\n",
       "      <td>24</td>\n",
       "      <td>19.9995</td>\n",
       "      <td>2011</td>\n",
       "      <td>6</td>\n",
       "      <td>3</td>\n",
       "      <td>4</td>\n",
       "      <td>18</td>\n",
       "    </tr>\n",
       "    <tr>\n",
       "      <th>1</th>\n",
       "      <td>5.638355</td>\n",
       "      <td>4</td>\n",
       "      <td>0</td>\n",
       "      <td>1</td>\n",
       "      <td>2</td>\n",
       "      <td>20.50</td>\n",
       "      <td>24.240</td>\n",
       "      <td>63</td>\n",
       "      <td>16.9979</td>\n",
       "      <td>2012</td>\n",
       "      <td>12</td>\n",
       "      <td>4</td>\n",
       "      <td>1</td>\n",
       "      <td>21</td>\n",
       "    </tr>\n",
       "    <tr>\n",
       "      <th>2</th>\n",
       "      <td>5.484797</td>\n",
       "      <td>4</td>\n",
       "      <td>0</td>\n",
       "      <td>1</td>\n",
       "      <td>1</td>\n",
       "      <td>24.60</td>\n",
       "      <td>31.060</td>\n",
       "      <td>53</td>\n",
       "      <td>23.9994</td>\n",
       "      <td>2011</td>\n",
       "      <td>11</td>\n",
       "      <td>14</td>\n",
       "      <td>0</td>\n",
       "      <td>20</td>\n",
       "    </tr>\n",
       "    <tr>\n",
       "      <th>3</th>\n",
       "      <td>4.158883</td>\n",
       "      <td>1</td>\n",
       "      <td>0</td>\n",
       "      <td>1</td>\n",
       "      <td>1</td>\n",
       "      <td>15.58</td>\n",
       "      <td>19.695</td>\n",
       "      <td>82</td>\n",
       "      <td>26.0027</td>\n",
       "      <td>2011</td>\n",
       "      <td>2</td>\n",
       "      <td>2</td>\n",
       "      <td>2</td>\n",
       "      <td>14</td>\n",
       "    </tr>\n",
       "    <tr>\n",
       "      <th>4</th>\n",
       "      <td>5.720312</td>\n",
       "      <td>3</td>\n",
       "      <td>0</td>\n",
       "      <td>0</td>\n",
       "      <td>1</td>\n",
       "      <td>30.34</td>\n",
       "      <td>34.090</td>\n",
       "      <td>60</td>\n",
       "      <td>15.0013</td>\n",
       "      <td>2011</td>\n",
       "      <td>7</td>\n",
       "      <td>17</td>\n",
       "      <td>6</td>\n",
       "      <td>10</td>\n",
       "    </tr>\n",
       "  </tbody>\n",
       "</table>\n",
       "</div>"
      ],
      "text/plain": [
       "      count  season  holiday  workingday  weather   temp   atemp  humidity  \\\n",
       "0  6.336826       2        0           1        1  28.70  31.820        24   \n",
       "1  5.638355       4        0           1        2  20.50  24.240        63   \n",
       "2  5.484797       4        0           1        1  24.60  31.060        53   \n",
       "3  4.158883       1        0           1        1  15.58  19.695        82   \n",
       "4  5.720312       3        0           0        1  30.34  34.090        60   \n",
       "\n",
       "   windspeed  year  month  day  dayofweek  hour  \n",
       "0    19.9995  2011      6    3          4    18  \n",
       "1    16.9979  2012     12    4          1    21  \n",
       "2    23.9994  2011     11   14          0    20  \n",
       "3    26.0027  2011      2    2          2    14  \n",
       "4    15.0013  2011      7   17          6    10  "
      ]
     },
     "execution_count": 11,
     "metadata": {},
     "output_type": "execute_result"
    }
   ],
   "source": [
    "df_validation.head() # data check"
   ]
  },
  {
   "cell_type": "markdown",
   "metadata": {},
   "source": [
    "### Separating Features and Targets for Training and Validation\n",
    "This is in preparation for use in XGBoost's regressor\n",
    "*Note: Remember that Python indices start at 0*"
   ]
  },
  {
   "cell_type": "code",
   "execution_count": 12,
   "metadata": {},
   "outputs": [],
   "source": [
    "x_train = df_train.iloc[:,1:] # Features: Seconds [1] Column to the end\n",
    "y_train = df_train.iloc[:,0].ravel() # Target is the first column [0]th\n",
    "\n",
    "x_validation = df_validation.iloc[:,1:] # Features: Seconds [1] Column to the end\n",
    "y_validation = df_validation.iloc[:,0].ravel() # Target is the first column [0]th"
   ]
  },
  {
   "cell_type": "markdown",
   "metadata": {},
   "source": [
    "## Set Up XGBoost Regressor\n",
    "\n",
    "Below cells will set up the training instance, set the hyperparameters, and then fit the model to the training data.\n",
    "\n",
    "Find Distributed (Deep) Machine Learning Community's XGBoost Training Parameter Reference [here](https://github.com/dmlc/xgboost/blob/master/doc/parameter.rst)\n",
    "\n",
    "In this project, I updated the following parameters:\n",
    "```reg:squarederror``` as ```reg:linear``` is deprecated.\n",
    "\n",
    "Additionally, I am to add my tuning to the _XGBoost_ Regressor."
   ]
  },
  {
   "cell_type": "markdown",
   "metadata": {},
   "source": [
    "### Create Regressor"
   ]
  },
  {
   "cell_type": "code",
   "execution_count": 13,
   "metadata": {},
   "outputs": [],
   "source": [
    "# Create regressor\n",
    "# XGBoost Training Parameters Reference:\n",
    "# https://github.com/dmlc/xgboost/blob/master/doc/parameter.rst\n",
    "# Limited the depth to 5 vice 6.\n",
    "# n_estimators helps tune the number of Decision Trees in XGBoost\n",
    "\n",
    "regressor = xgb.XGBRegressor(max_depth=5, n_estimators=200, objective='reg:squarederror')\n",
    "# n_estimators at 150, 200 over to 250 results in little additional log loss reduction"
   ]
  },
  {
   "cell_type": "code",
   "execution_count": 14,
   "metadata": {},
   "outputs": [
    {
     "data": {
      "text/plain": [
       "XGBRegressor(base_score=0.5, booster='gbtree', colsample_bylevel=1,\n",
       "       colsample_bynode=1, colsample_bytree=1, gamma=0,\n",
       "       importance_type='gain', learning_rate=0.1, max_delta_step=0,\n",
       "       max_depth=5, min_child_weight=1, missing=None, n_estimators=200,\n",
       "       n_jobs=1, nthread=None, objective='reg:squarederror',\n",
       "       random_state=0, reg_alpha=0, reg_lambda=1, scale_pos_weight=1,\n",
       "       seed=None, silent=None, subsample=1, verbosity=1)"
      ]
     },
     "execution_count": 14,
     "metadata": {},
     "output_type": "execute_result"
    }
   ],
   "source": [
    "regressor # display hyperparameters. This is my habit to ensure my settings are correct \\\\\n",
    "# before I run a regressor. Note: This will display at the end of the training model process, as well."
   ]
  },
  {
   "cell_type": "code",
   "execution_count": 15,
   "metadata": {},
   "outputs": [
    {
     "name": "stdout",
     "output_type": "stream",
     "text": [
      "[0]\tvalidation_0-rmse:3.90472\tvalidation_1-rmse:3.91357\n",
      "[1]\tvalidation_0-rmse:3.5249\tvalidation_1-rmse:3.53504\n",
      "[2]\tvalidation_0-rmse:3.18387\tvalidation_1-rmse:3.19418\n",
      "[3]\tvalidation_0-rmse:2.87664\tvalidation_1-rmse:2.88818\n",
      "[4]\tvalidation_0-rmse:2.60149\tvalidation_1-rmse:2.61376\n",
      "[5]\tvalidation_0-rmse:2.35456\tvalidation_1-rmse:2.36767\n",
      "[6]\tvalidation_0-rmse:2.13221\tvalidation_1-rmse:2.14598\n",
      "[7]\tvalidation_0-rmse:1.93402\tvalidation_1-rmse:1.94906\n",
      "[8]\tvalidation_0-rmse:1.75471\tvalidation_1-rmse:1.77047\n",
      "[9]\tvalidation_0-rmse:1.59361\tvalidation_1-rmse:1.61017\n",
      "[10]\tvalidation_0-rmse:1.45068\tvalidation_1-rmse:1.46871\n",
      "[11]\tvalidation_0-rmse:1.3224\tvalidation_1-rmse:1.34146\n",
      "[12]\tvalidation_0-rmse:1.20789\tvalidation_1-rmse:1.22784\n",
      "[13]\tvalidation_0-rmse:1.10591\tvalidation_1-rmse:1.12706\n",
      "[14]\tvalidation_0-rmse:1.01452\tvalidation_1-rmse:1.03682\n",
      "[15]\tvalidation_0-rmse:0.928974\tvalidation_1-rmse:0.952268\n",
      "[16]\tvalidation_0-rmse:0.853387\tvalidation_1-rmse:0.877622\n",
      "[17]\tvalidation_0-rmse:0.789737\tvalidation_1-rmse:0.815422\n",
      "[18]\tvalidation_0-rmse:0.733658\tvalidation_1-rmse:0.760661\n",
      "[19]\tvalidation_0-rmse:0.68217\tvalidation_1-rmse:0.710574\n",
      "[20]\tvalidation_0-rmse:0.638698\tvalidation_1-rmse:0.668361\n",
      "[21]\tvalidation_0-rmse:0.599605\tvalidation_1-rmse:0.630514\n",
      "[22]\tvalidation_0-rmse:0.56401\tvalidation_1-rmse:0.595619\n",
      "[23]\tvalidation_0-rmse:0.534101\tvalidation_1-rmse:0.566768\n",
      "[24]\tvalidation_0-rmse:0.505841\tvalidation_1-rmse:0.539358\n",
      "[25]\tvalidation_0-rmse:0.482467\tvalidation_1-rmse:0.517055\n",
      "[26]\tvalidation_0-rmse:0.459734\tvalidation_1-rmse:0.495688\n",
      "[27]\tvalidation_0-rmse:0.438741\tvalidation_1-rmse:0.475535\n",
      "[28]\tvalidation_0-rmse:0.422813\tvalidation_1-rmse:0.460447\n",
      "[29]\tvalidation_0-rmse:0.407913\tvalidation_1-rmse:0.446401\n",
      "[30]\tvalidation_0-rmse:0.395926\tvalidation_1-rmse:0.435602\n",
      "[31]\tvalidation_0-rmse:0.384314\tvalidation_1-rmse:0.424821\n",
      "[32]\tvalidation_0-rmse:0.375222\tvalidation_1-rmse:0.416631\n",
      "[33]\tvalidation_0-rmse:0.364902\tvalidation_1-rmse:0.406785\n",
      "[34]\tvalidation_0-rmse:0.358028\tvalidation_1-rmse:0.400242\n",
      "[35]\tvalidation_0-rmse:0.352697\tvalidation_1-rmse:0.395314\n",
      "[36]\tvalidation_0-rmse:0.347802\tvalidation_1-rmse:0.390803\n",
      "[37]\tvalidation_0-rmse:0.342904\tvalidation_1-rmse:0.386503\n",
      "[38]\tvalidation_0-rmse:0.338477\tvalidation_1-rmse:0.382326\n",
      "[39]\tvalidation_0-rmse:0.33401\tvalidation_1-rmse:0.378141\n",
      "[40]\tvalidation_0-rmse:0.331065\tvalidation_1-rmse:0.375553\n",
      "[41]\tvalidation_0-rmse:0.328568\tvalidation_1-rmse:0.373414\n",
      "[42]\tvalidation_0-rmse:0.325857\tvalidation_1-rmse:0.37098\n",
      "[43]\tvalidation_0-rmse:0.320237\tvalidation_1-rmse:0.36585\n",
      "[44]\tvalidation_0-rmse:0.31724\tvalidation_1-rmse:0.3629\n",
      "[45]\tvalidation_0-rmse:0.315182\tvalidation_1-rmse:0.361094\n",
      "[46]\tvalidation_0-rmse:0.313549\tvalidation_1-rmse:0.359727\n",
      "[47]\tvalidation_0-rmse:0.308406\tvalidation_1-rmse:0.354632\n",
      "[48]\tvalidation_0-rmse:0.307019\tvalidation_1-rmse:0.353652\n",
      "[49]\tvalidation_0-rmse:0.300108\tvalidation_1-rmse:0.347153\n",
      "[50]\tvalidation_0-rmse:0.298802\tvalidation_1-rmse:0.346269\n",
      "[51]\tvalidation_0-rmse:0.295758\tvalidation_1-rmse:0.343355\n",
      "[52]\tvalidation_0-rmse:0.29141\tvalidation_1-rmse:0.339014\n",
      "[53]\tvalidation_0-rmse:0.29029\tvalidation_1-rmse:0.338414\n",
      "[54]\tvalidation_0-rmse:0.286365\tvalidation_1-rmse:0.334873\n",
      "[55]\tvalidation_0-rmse:0.285247\tvalidation_1-rmse:0.334207\n",
      "[56]\tvalidation_0-rmse:0.282028\tvalidation_1-rmse:0.330994\n",
      "[57]\tvalidation_0-rmse:0.27991\tvalidation_1-rmse:0.329065\n",
      "[58]\tvalidation_0-rmse:0.278832\tvalidation_1-rmse:0.32827\n",
      "[59]\tvalidation_0-rmse:0.278031\tvalidation_1-rmse:0.32751\n",
      "[60]\tvalidation_0-rmse:0.27732\tvalidation_1-rmse:0.326858\n",
      "[61]\tvalidation_0-rmse:0.276487\tvalidation_1-rmse:0.326546\n",
      "[62]\tvalidation_0-rmse:0.274466\tvalidation_1-rmse:0.324463\n",
      "[63]\tvalidation_0-rmse:0.273906\tvalidation_1-rmse:0.324067\n",
      "[64]\tvalidation_0-rmse:0.271852\tvalidation_1-rmse:0.322149\n",
      "[65]\tvalidation_0-rmse:0.269999\tvalidation_1-rmse:0.320396\n",
      "[66]\tvalidation_0-rmse:0.268551\tvalidation_1-rmse:0.318888\n",
      "[67]\tvalidation_0-rmse:0.268127\tvalidation_1-rmse:0.318595\n",
      "[68]\tvalidation_0-rmse:0.267611\tvalidation_1-rmse:0.318243\n",
      "[69]\tvalidation_0-rmse:0.26613\tvalidation_1-rmse:0.316841\n",
      "[70]\tvalidation_0-rmse:0.264429\tvalidation_1-rmse:0.315317\n",
      "[71]\tvalidation_0-rmse:0.264056\tvalidation_1-rmse:0.315131\n",
      "[72]\tvalidation_0-rmse:0.263229\tvalidation_1-rmse:0.314479\n",
      "[73]\tvalidation_0-rmse:0.262625\tvalidation_1-rmse:0.314272\n",
      "[74]\tvalidation_0-rmse:0.262326\tvalidation_1-rmse:0.314008\n",
      "[75]\tvalidation_0-rmse:0.261441\tvalidation_1-rmse:0.31357\n",
      "[76]\tvalidation_0-rmse:0.26039\tvalidation_1-rmse:0.31261\n",
      "[77]\tvalidation_0-rmse:0.25983\tvalidation_1-rmse:0.312325\n",
      "[78]\tvalidation_0-rmse:0.25952\tvalidation_1-rmse:0.312179\n",
      "[79]\tvalidation_0-rmse:0.258366\tvalidation_1-rmse:0.310996\n",
      "[80]\tvalidation_0-rmse:0.257906\tvalidation_1-rmse:0.310684\n",
      "[81]\tvalidation_0-rmse:0.257012\tvalidation_1-rmse:0.309859\n",
      "[82]\tvalidation_0-rmse:0.256766\tvalidation_1-rmse:0.309796\n",
      "[83]\tvalidation_0-rmse:0.255535\tvalidation_1-rmse:0.308737\n",
      "[84]\tvalidation_0-rmse:0.255045\tvalidation_1-rmse:0.308164\n",
      "[85]\tvalidation_0-rmse:0.254358\tvalidation_1-rmse:0.307536\n",
      "[86]\tvalidation_0-rmse:0.253742\tvalidation_1-rmse:0.307248\n",
      "[87]\tvalidation_0-rmse:0.253248\tvalidation_1-rmse:0.307126\n",
      "[88]\tvalidation_0-rmse:0.252908\tvalidation_1-rmse:0.307107\n",
      "[89]\tvalidation_0-rmse:0.2525\tvalidation_1-rmse:0.306963\n",
      "[90]\tvalidation_0-rmse:0.252177\tvalidation_1-rmse:0.306693\n",
      "[91]\tvalidation_0-rmse:0.250954\tvalidation_1-rmse:0.305403\n",
      "[92]\tvalidation_0-rmse:0.250476\tvalidation_1-rmse:0.305236\n",
      "[93]\tvalidation_0-rmse:0.249946\tvalidation_1-rmse:0.305109\n",
      "[94]\tvalidation_0-rmse:0.249774\tvalidation_1-rmse:0.305053\n",
      "[95]\tvalidation_0-rmse:0.24951\tvalidation_1-rmse:0.304857\n",
      "[96]\tvalidation_0-rmse:0.249236\tvalidation_1-rmse:0.30471\n",
      "[97]\tvalidation_0-rmse:0.248627\tvalidation_1-rmse:0.304496\n",
      "[98]\tvalidation_0-rmse:0.247935\tvalidation_1-rmse:0.304439\n",
      "[99]\tvalidation_0-rmse:0.247317\tvalidation_1-rmse:0.303886\n",
      "[100]\tvalidation_0-rmse:0.247041\tvalidation_1-rmse:0.303743\n",
      "[101]\tvalidation_0-rmse:0.246903\tvalidation_1-rmse:0.303689\n",
      "[102]\tvalidation_0-rmse:0.246355\tvalidation_1-rmse:0.30366\n",
      "[103]\tvalidation_0-rmse:0.246011\tvalidation_1-rmse:0.303647\n",
      "[104]\tvalidation_0-rmse:0.245501\tvalidation_1-rmse:0.303196\n",
      "[105]\tvalidation_0-rmse:0.2453\tvalidation_1-rmse:0.303081\n",
      "[106]\tvalidation_0-rmse:0.244674\tvalidation_1-rmse:0.302754\n",
      "[107]\tvalidation_0-rmse:0.244344\tvalidation_1-rmse:0.302732\n",
      "[108]\tvalidation_0-rmse:0.243949\tvalidation_1-rmse:0.302609\n",
      "[109]\tvalidation_0-rmse:0.24338\tvalidation_1-rmse:0.302268\n",
      "[110]\tvalidation_0-rmse:0.242813\tvalidation_1-rmse:0.301904\n",
      "[111]\tvalidation_0-rmse:0.242367\tvalidation_1-rmse:0.301519\n",
      "[112]\tvalidation_0-rmse:0.242016\tvalidation_1-rmse:0.301414\n",
      "[113]\tvalidation_0-rmse:0.241604\tvalidation_1-rmse:0.301021\n",
      "[114]\tvalidation_0-rmse:0.241087\tvalidation_1-rmse:0.300828\n",
      "[115]\tvalidation_0-rmse:0.240507\tvalidation_1-rmse:0.300504\n",
      "[116]\tvalidation_0-rmse:0.240168\tvalidation_1-rmse:0.300496\n",
      "[117]\tvalidation_0-rmse:0.239877\tvalidation_1-rmse:0.30043\n",
      "[118]\tvalidation_0-rmse:0.23979\tvalidation_1-rmse:0.300374\n",
      "[119]\tvalidation_0-rmse:0.239516\tvalidation_1-rmse:0.300348\n",
      "[120]\tvalidation_0-rmse:0.239217\tvalidation_1-rmse:0.300295\n",
      "[121]\tvalidation_0-rmse:0.238734\tvalidation_1-rmse:0.300243\n",
      "[122]\tvalidation_0-rmse:0.238493\tvalidation_1-rmse:0.300096\n",
      "[123]\tvalidation_0-rmse:0.238159\tvalidation_1-rmse:0.300147\n",
      "[124]\tvalidation_0-rmse:0.237696\tvalidation_1-rmse:0.299764\n",
      "[125]\tvalidation_0-rmse:0.23753\tvalidation_1-rmse:0.299737\n",
      "[126]\tvalidation_0-rmse:0.237335\tvalidation_1-rmse:0.299654\n",
      "[127]\tvalidation_0-rmse:0.236784\tvalidation_1-rmse:0.299572\n",
      "[128]\tvalidation_0-rmse:0.236541\tvalidation_1-rmse:0.299458\n",
      "[129]\tvalidation_0-rmse:0.23641\tvalidation_1-rmse:0.29945\n",
      "[130]\tvalidation_0-rmse:0.236348\tvalidation_1-rmse:0.299426\n",
      "[131]\tvalidation_0-rmse:0.235827\tvalidation_1-rmse:0.299519\n",
      "[132]\tvalidation_0-rmse:0.235159\tvalidation_1-rmse:0.298833\n",
      "[133]\tvalidation_0-rmse:0.235062\tvalidation_1-rmse:0.29881\n",
      "[134]\tvalidation_0-rmse:0.234731\tvalidation_1-rmse:0.298715\n",
      "[135]\tvalidation_0-rmse:0.234539\tvalidation_1-rmse:0.298637\n",
      "[136]\tvalidation_0-rmse:0.234148\tvalidation_1-rmse:0.298274\n",
      "[137]\tvalidation_0-rmse:0.233726\tvalidation_1-rmse:0.298156\n",
      "[138]\tvalidation_0-rmse:0.233364\tvalidation_1-rmse:0.298147\n",
      "[139]\tvalidation_0-rmse:0.233053\tvalidation_1-rmse:0.297962\n",
      "[140]\tvalidation_0-rmse:0.232885\tvalidation_1-rmse:0.297899\n",
      "[141]\tvalidation_0-rmse:0.232553\tvalidation_1-rmse:0.29787\n",
      "[142]\tvalidation_0-rmse:0.232356\tvalidation_1-rmse:0.297747\n",
      "[143]\tvalidation_0-rmse:0.232025\tvalidation_1-rmse:0.297674\n",
      "[144]\tvalidation_0-rmse:0.231627\tvalidation_1-rmse:0.297425\n",
      "[145]\tvalidation_0-rmse:0.231271\tvalidation_1-rmse:0.297254\n",
      "[146]\tvalidation_0-rmse:0.230835\tvalidation_1-rmse:0.296845\n",
      "[147]\tvalidation_0-rmse:0.230414\tvalidation_1-rmse:0.296605\n",
      "[148]\tvalidation_0-rmse:0.229916\tvalidation_1-rmse:0.29619\n",
      "[149]\tvalidation_0-rmse:0.229626\tvalidation_1-rmse:0.295962\n",
      "[150]\tvalidation_0-rmse:0.229226\tvalidation_1-rmse:0.295779\n",
      "[151]\tvalidation_0-rmse:0.228851\tvalidation_1-rmse:0.29553\n",
      "[152]\tvalidation_0-rmse:0.228403\tvalidation_1-rmse:0.295537\n",
      "[153]\tvalidation_0-rmse:0.227913\tvalidation_1-rmse:0.295553\n",
      "[154]\tvalidation_0-rmse:0.227763\tvalidation_1-rmse:0.295503\n",
      "[155]\tvalidation_0-rmse:0.227712\tvalidation_1-rmse:0.295477\n",
      "[156]\tvalidation_0-rmse:0.227344\tvalidation_1-rmse:0.295309\n",
      "[157]\tvalidation_0-rmse:0.227188\tvalidation_1-rmse:0.295326\n",
      "[158]\tvalidation_0-rmse:0.226835\tvalidation_1-rmse:0.295144\n",
      "[159]\tvalidation_0-rmse:0.226654\tvalidation_1-rmse:0.295081\n",
      "[160]\tvalidation_0-rmse:0.22616\tvalidation_1-rmse:0.295081\n",
      "[161]\tvalidation_0-rmse:0.226013\tvalidation_1-rmse:0.295054\n",
      "[162]\tvalidation_0-rmse:0.225853\tvalidation_1-rmse:0.294938\n",
      "[163]\tvalidation_0-rmse:0.225787\tvalidation_1-rmse:0.294906\n",
      "[164]\tvalidation_0-rmse:0.225692\tvalidation_1-rmse:0.29488\n",
      "[165]\tvalidation_0-rmse:0.22536\tvalidation_1-rmse:0.294777\n",
      "[166]\tvalidation_0-rmse:0.225045\tvalidation_1-rmse:0.294584\n",
      "[167]\tvalidation_0-rmse:0.224834\tvalidation_1-rmse:0.294489\n",
      "[168]\tvalidation_0-rmse:0.224517\tvalidation_1-rmse:0.294321\n",
      "[169]\tvalidation_0-rmse:0.224476\tvalidation_1-rmse:0.294318\n",
      "[170]\tvalidation_0-rmse:0.223991\tvalidation_1-rmse:0.294206\n",
      "[171]\tvalidation_0-rmse:0.223424\tvalidation_1-rmse:0.293994\n",
      "[172]\tvalidation_0-rmse:0.223027\tvalidation_1-rmse:0.293945\n",
      "[173]\tvalidation_0-rmse:0.222999\tvalidation_1-rmse:0.293953\n",
      "[174]\tvalidation_0-rmse:0.22274\tvalidation_1-rmse:0.293795\n",
      "[175]\tvalidation_0-rmse:0.222483\tvalidation_1-rmse:0.29388\n",
      "[176]\tvalidation_0-rmse:0.222074\tvalidation_1-rmse:0.293967\n",
      "[177]\tvalidation_0-rmse:0.222051\tvalidation_1-rmse:0.293977\n",
      "[178]\tvalidation_0-rmse:0.221716\tvalidation_1-rmse:0.293827\n",
      "[179]\tvalidation_0-rmse:0.221386\tvalidation_1-rmse:0.293859\n",
      "[180]\tvalidation_0-rmse:0.220718\tvalidation_1-rmse:0.293409\n",
      "[181]\tvalidation_0-rmse:0.22033\tvalidation_1-rmse:0.293247\n",
      "[182]\tvalidation_0-rmse:0.219916\tvalidation_1-rmse:0.2928\n",
      "[183]\tvalidation_0-rmse:0.219863\tvalidation_1-rmse:0.292778\n",
      "[184]\tvalidation_0-rmse:0.219523\tvalidation_1-rmse:0.292746\n",
      "[185]\tvalidation_0-rmse:0.219476\tvalidation_1-rmse:0.2927\n",
      "[186]\tvalidation_0-rmse:0.219156\tvalidation_1-rmse:0.292684\n",
      "[187]\tvalidation_0-rmse:0.218743\tvalidation_1-rmse:0.292613\n",
      "[188]\tvalidation_0-rmse:0.218473\tvalidation_1-rmse:0.292505\n",
      "[189]\tvalidation_0-rmse:0.21811\tvalidation_1-rmse:0.292313\n",
      "[190]\tvalidation_0-rmse:0.217985\tvalidation_1-rmse:0.292332\n",
      "[191]\tvalidation_0-rmse:0.217843\tvalidation_1-rmse:0.292254\n",
      "[192]\tvalidation_0-rmse:0.217589\tvalidation_1-rmse:0.292099\n",
      "[193]\tvalidation_0-rmse:0.217212\tvalidation_1-rmse:0.291845\n",
      "[194]\tvalidation_0-rmse:0.217079\tvalidation_1-rmse:0.291829\n",
      "[195]\tvalidation_0-rmse:0.216743\tvalidation_1-rmse:0.291691\n",
      "[196]\tvalidation_0-rmse:0.216544\tvalidation_1-rmse:0.291481\n",
      "[197]\tvalidation_0-rmse:0.216533\tvalidation_1-rmse:0.291487\n",
      "[198]\tvalidation_0-rmse:0.216457\tvalidation_1-rmse:0.291453\n",
      "[199]\tvalidation_0-rmse:0.216448\tvalidation_1-rmse:0.291451\n"
     ]
    },
    {
     "data": {
      "text/plain": [
       "XGBRegressor(base_score=0.5, booster='gbtree', colsample_bylevel=1,\n",
       "       colsample_bynode=1, colsample_bytree=1, gamma=0,\n",
       "       importance_type='gain', learning_rate=0.1, max_delta_step=0,\n",
       "       max_depth=5, min_child_weight=1, missing=None, n_estimators=200,\n",
       "       n_jobs=1, nthread=None, objective='reg:squarederror',\n",
       "       random_state=0, reg_alpha=0, reg_lambda=1, scale_pos_weight=1,\n",
       "       seed=None, silent=None, subsample=1, verbosity=1)"
      ]
     },
     "execution_count": 15,
     "metadata": {},
     "output_type": "execute_result"
    }
   ],
   "source": [
    "regressor.fit(x_train, y_train, eval_set = [(x_train, y_train), (x_validation, y_validation)])"
   ]
  },
  {
   "cell_type": "code",
   "execution_count": 19,
   "metadata": {},
   "outputs": [
    {
     "data": {
      "text/plain": [
       "count    7620.000000\n",
       "mean        4.591056\n",
       "std         1.412984\n",
       "min         0.693147\n",
       "25%         3.784190\n",
       "50%         4.976734\n",
       "75%         5.645447\n",
       "max         6.885510\n",
       "Name: count, dtype: float64"
      ]
     },
     "execution_count": 19,
     "metadata": {},
     "output_type": "execute_result"
    }
   ],
   "source": [
    "df_train['count'].describe()"
   ]
  },
  {
   "cell_type": "code",
   "execution_count": 16,
   "metadata": {},
   "outputs": [],
   "source": [
    "eval_result = regressor.evals_result()"
   ]
  },
  {
   "cell_type": "code",
   "execution_count": 17,
   "metadata": {},
   "outputs": [],
   "source": [
    "training_rounds = range(len(eval_result['validation_0']['rmse']))"
   ]
  },
  {
   "cell_type": "code",
   "execution_count": 20,
   "metadata": {},
   "outputs": [
    {
     "name": "stdout",
     "output_type": "stream",
     "text": [
      "range(0, 200)\n"
     ]
    }
   ],
   "source": [
    "print(training_rounds) # check"
   ]
  },
  {
   "cell_type": "markdown",
   "metadata": {},
   "source": [
    "## Plot the Training vs. Validation Errors"
   ]
  },
  {
   "cell_type": "code",
   "execution_count": 21,
   "metadata": {},
   "outputs": [
    {
     "data": {
      "image/png": "[encoded data removed]",
      "text/plain": [
       "<Figure size 432x288 with 1 Axes>"
      ]
     },
     "metadata": {},
     "output_type": "display_data"
    }
   ],
   "source": [
    "plt.scatter(x=training_rounds, y=eval_result['validation_0']['rmse'], label='Training Error')\n",
    "plt.scatter(x=training_rounds, y=eval_result['validation_1']['rmse'], label='Validation Error')\n",
    "plt.grid(True)\n",
    "plt.xlabel('Rounds')\n",
    "plt.ylabel('RMSE')\n",
    "plt.title('Training Vs. Validation Error')\n",
    "plt.legend()\n",
    "plt.show()"
   ]
  },
  {
   "cell_type": "markdown",
   "metadata": {},
   "source": [
    "### XGBoost Feature Importance\n",
    "By default, the graph displays as a horiztonal bar with counters."
   ]
  },
  {
   "cell_type": "code",
   "execution_count": 25,
   "metadata": {},
   "outputs": [
    {
     "data": {
      "image/png": "[encoded data removed]",
      "text/plain": [
       "<Figure size 432x288 with 1 Axes>"
      ]
     },
     "metadata": {},
     "output_type": "display_data"
    }
   ],
   "source": [
    "xgb.plot_importance(regressor)\n",
    "plt.show()"
   ]
  },
  {
   "cell_type": "markdown",
   "metadata": {},
   "source": [
    "### Verify Quality using Validation Dataset"
   ]
  },
  {
   "cell_type": "code",
   "execution_count": 26,
   "metadata": {},
   "outputs": [],
   "source": [
    "df = pd.read_csv(validation_file,names=columns)\n",
    "# compare actual vs. predicted performance with dataset not seen by the model"
   ]
  },
  {
   "cell_type": "code",
   "execution_count": 27,
   "metadata": {},
   "outputs": [
    {
     "data": {
      "text/html": [
       "<div>\n",
       "<style scoped>\n",
       "    .dataframe tbody tr th:only-of-type {\n",
       "        vertical-align: middle;\n",
       "    }\n",
       "\n",
       "    .dataframe tbody tr th {\n",
       "        vertical-align: top;\n",
       "    }\n",
       "\n",
       "    .dataframe thead th {\n",
       "        text-align: right;\n",
       "    }\n",
       "</style>\n",
       "<table border=\"1\" class=\"dataframe\">\n",
       "  <thead>\n",
       "    <tr style=\"text-align: right;\">\n",
       "      <th></th>\n",
       "      <th>count</th>\n",
       "      <th>season</th>\n",
       "      <th>holiday</th>\n",
       "      <th>workingday</th>\n",
       "      <th>weather</th>\n",
       "      <th>temp</th>\n",
       "      <th>atemp</th>\n",
       "      <th>humidity</th>\n",
       "      <th>windspeed</th>\n",
       "      <th>year</th>\n",
       "      <th>month</th>\n",
       "      <th>day</th>\n",
       "      <th>dayofweek</th>\n",
       "      <th>hour</th>\n",
       "    </tr>\n",
       "  </thead>\n",
       "  <tbody>\n",
       "    <tr>\n",
       "      <th>0</th>\n",
       "      <td>6.336826</td>\n",
       "      <td>2</td>\n",
       "      <td>0</td>\n",
       "      <td>1</td>\n",
       "      <td>1</td>\n",
       "      <td>28.70</td>\n",
       "      <td>31.820</td>\n",
       "      <td>24</td>\n",
       "      <td>19.9995</td>\n",
       "      <td>2011</td>\n",
       "      <td>6</td>\n",
       "      <td>3</td>\n",
       "      <td>4</td>\n",
       "      <td>18</td>\n",
       "    </tr>\n",
       "    <tr>\n",
       "      <th>1</th>\n",
       "      <td>5.638355</td>\n",
       "      <td>4</td>\n",
       "      <td>0</td>\n",
       "      <td>1</td>\n",
       "      <td>2</td>\n",
       "      <td>20.50</td>\n",
       "      <td>24.240</td>\n",
       "      <td>63</td>\n",
       "      <td>16.9979</td>\n",
       "      <td>2012</td>\n",
       "      <td>12</td>\n",
       "      <td>4</td>\n",
       "      <td>1</td>\n",
       "      <td>21</td>\n",
       "    </tr>\n",
       "    <tr>\n",
       "      <th>2</th>\n",
       "      <td>5.484797</td>\n",
       "      <td>4</td>\n",
       "      <td>0</td>\n",
       "      <td>1</td>\n",
       "      <td>1</td>\n",
       "      <td>24.60</td>\n",
       "      <td>31.060</td>\n",
       "      <td>53</td>\n",
       "      <td>23.9994</td>\n",
       "      <td>2011</td>\n",
       "      <td>11</td>\n",
       "      <td>14</td>\n",
       "      <td>0</td>\n",
       "      <td>20</td>\n",
       "    </tr>\n",
       "    <tr>\n",
       "      <th>3</th>\n",
       "      <td>4.158883</td>\n",
       "      <td>1</td>\n",
       "      <td>0</td>\n",
       "      <td>1</td>\n",
       "      <td>1</td>\n",
       "      <td>15.58</td>\n",
       "      <td>19.695</td>\n",
       "      <td>82</td>\n",
       "      <td>26.0027</td>\n",
       "      <td>2011</td>\n",
       "      <td>2</td>\n",
       "      <td>2</td>\n",
       "      <td>2</td>\n",
       "      <td>14</td>\n",
       "    </tr>\n",
       "    <tr>\n",
       "      <th>4</th>\n",
       "      <td>5.720312</td>\n",
       "      <td>3</td>\n",
       "      <td>0</td>\n",
       "      <td>0</td>\n",
       "      <td>1</td>\n",
       "      <td>30.34</td>\n",
       "      <td>34.090</td>\n",
       "      <td>60</td>\n",
       "      <td>15.0013</td>\n",
       "      <td>2011</td>\n",
       "      <td>7</td>\n",
       "      <td>17</td>\n",
       "      <td>6</td>\n",
       "      <td>10</td>\n",
       "    </tr>\n",
       "  </tbody>\n",
       "</table>\n",
       "</div>"
      ],
      "text/plain": [
       "      count  season  holiday  workingday  weather   temp   atemp  humidity  \\\n",
       "0  6.336826       2        0           1        1  28.70  31.820        24   \n",
       "1  5.638355       4        0           1        2  20.50  24.240        63   \n",
       "2  5.484797       4        0           1        1  24.60  31.060        53   \n",
       "3  4.158883       1        0           1        1  15.58  19.695        82   \n",
       "4  5.720312       3        0           0        1  30.34  34.090        60   \n",
       "\n",
       "   windspeed  year  month  day  dayofweek  hour  \n",
       "0    19.9995  2011      6    3          4    18  \n",
       "1    16.9979  2012     12    4          1    21  \n",
       "2    23.9994  2011     11   14          0    20  \n",
       "3    26.0027  2011      2    2          2    14  \n",
       "4    15.0013  2011      7   17          6    10  "
      ]
     },
     "execution_count": 27,
     "metadata": {},
     "output_type": "execute_result"
    }
   ],
   "source": [
    "df.head() # data check"
   ]
  },
  {
   "cell_type": "code",
   "execution_count": 28,
   "metadata": {},
   "outputs": [
    {
     "data": {
      "text/plain": [
       "(3266, 14)"
      ]
     },
     "execution_count": 28,
     "metadata": {},
     "output_type": "execute_result"
    }
   ],
   "source": [
    "df.shape # display a tuple that represents Dataframe's dimensionality (columns, rows, depth, etc.)"
   ]
  },
  {
   "cell_type": "code",
   "execution_count": 29,
   "metadata": {},
   "outputs": [
    {
     "name": "stdout",
     "output_type": "stream",
     "text": [
      "   season  holiday  workingday  weather   temp   atemp  humidity  windspeed  \\\n",
      "0       2        0           1        1  28.70  31.820        24    19.9995   \n",
      "1       4        0           1        2  20.50  24.240        63    16.9979   \n",
      "2       4        0           1        1  24.60  31.060        53    23.9994   \n",
      "3       1        0           1        1  15.58  19.695        82    26.0027   \n",
      "4       3        0           0        1  30.34  34.090        60    15.0013   \n",
      "\n",
      "   year  month  day  dayofweek  hour  \n",
      "0  2011      6    3          4    18  \n",
      "1  2012     12    4          1    21  \n",
      "2  2011     11   14          0    20  \n",
      "3  2011      2    2          2    14  \n",
      "4  2011      7   17          6    10  \n"
     ]
    }
   ],
   "source": [
    "x_test = df.iloc[:,1:]\n",
    "print(x_test[:5])"
   ]
  },
  {
   "cell_type": "code",
   "execution_count": 30,
   "metadata": {},
   "outputs": [],
   "source": [
    "result = regressor.predict(x_test)"
   ]
  },
  {
   "cell_type": "code",
   "execution_count": 31,
   "metadata": {},
   "outputs": [
    {
     "data": {
      "text/plain": [
       "array([6.1957946, 5.5036707, 5.6446824, 4.099272 , 5.692396 ],\n",
       "      dtype=float32)"
      ]
     },
     "execution_count": 31,
     "metadata": {},
     "output_type": "execute_result"
    }
   ],
   "source": [
    "result[:5]"
   ]
  },
  {
   "cell_type": "code",
   "execution_count": 33,
   "metadata": {},
   "outputs": [],
   "source": [
    "df['count_predicted'] = result"
   ]
  },
  {
   "cell_type": "code",
   "execution_count": 34,
   "metadata": {},
   "outputs": [
    {
     "data": {
      "text/html": [
       "<div>\n",
       "<style scoped>\n",
       "    .dataframe tbody tr th:only-of-type {\n",
       "        vertical-align: middle;\n",
       "    }\n",
       "\n",
       "    .dataframe tbody tr th {\n",
       "        vertical-align: top;\n",
       "    }\n",
       "\n",
       "    .dataframe thead th {\n",
       "        text-align: right;\n",
       "    }\n",
       "</style>\n",
       "<table border=\"1\" class=\"dataframe\">\n",
       "  <thead>\n",
       "    <tr style=\"text-align: right;\">\n",
       "      <th></th>\n",
       "      <th>count</th>\n",
       "      <th>season</th>\n",
       "      <th>holiday</th>\n",
       "      <th>workingday</th>\n",
       "      <th>weather</th>\n",
       "      <th>temp</th>\n",
       "      <th>atemp</th>\n",
       "      <th>humidity</th>\n",
       "      <th>windspeed</th>\n",
       "      <th>year</th>\n",
       "      <th>month</th>\n",
       "      <th>day</th>\n",
       "      <th>dayofweek</th>\n",
       "      <th>hour</th>\n",
       "      <th>count_predicted</th>\n",
       "    </tr>\n",
       "  </thead>\n",
       "  <tbody>\n",
       "    <tr>\n",
       "      <th>0</th>\n",
       "      <td>6.336826</td>\n",
       "      <td>2</td>\n",
       "      <td>0</td>\n",
       "      <td>1</td>\n",
       "      <td>1</td>\n",
       "      <td>28.70</td>\n",
       "      <td>31.820</td>\n",
       "      <td>24</td>\n",
       "      <td>19.9995</td>\n",
       "      <td>2011</td>\n",
       "      <td>6</td>\n",
       "      <td>3</td>\n",
       "      <td>4</td>\n",
       "      <td>18</td>\n",
       "      <td>6.195795</td>\n",
       "    </tr>\n",
       "    <tr>\n",
       "      <th>1</th>\n",
       "      <td>5.638355</td>\n",
       "      <td>4</td>\n",
       "      <td>0</td>\n",
       "      <td>1</td>\n",
       "      <td>2</td>\n",
       "      <td>20.50</td>\n",
       "      <td>24.240</td>\n",
       "      <td>63</td>\n",
       "      <td>16.9979</td>\n",
       "      <td>2012</td>\n",
       "      <td>12</td>\n",
       "      <td>4</td>\n",
       "      <td>1</td>\n",
       "      <td>21</td>\n",
       "      <td>5.503671</td>\n",
       "    </tr>\n",
       "    <tr>\n",
       "      <th>2</th>\n",
       "      <td>5.484797</td>\n",
       "      <td>4</td>\n",
       "      <td>0</td>\n",
       "      <td>1</td>\n",
       "      <td>1</td>\n",
       "      <td>24.60</td>\n",
       "      <td>31.060</td>\n",
       "      <td>53</td>\n",
       "      <td>23.9994</td>\n",
       "      <td>2011</td>\n",
       "      <td>11</td>\n",
       "      <td>14</td>\n",
       "      <td>0</td>\n",
       "      <td>20</td>\n",
       "      <td>5.644682</td>\n",
       "    </tr>\n",
       "    <tr>\n",
       "      <th>3</th>\n",
       "      <td>4.158883</td>\n",
       "      <td>1</td>\n",
       "      <td>0</td>\n",
       "      <td>1</td>\n",
       "      <td>1</td>\n",
       "      <td>15.58</td>\n",
       "      <td>19.695</td>\n",
       "      <td>82</td>\n",
       "      <td>26.0027</td>\n",
       "      <td>2011</td>\n",
       "      <td>2</td>\n",
       "      <td>2</td>\n",
       "      <td>2</td>\n",
       "      <td>14</td>\n",
       "      <td>4.099272</td>\n",
       "    </tr>\n",
       "    <tr>\n",
       "      <th>4</th>\n",
       "      <td>5.720312</td>\n",
       "      <td>3</td>\n",
       "      <td>0</td>\n",
       "      <td>0</td>\n",
       "      <td>1</td>\n",
       "      <td>30.34</td>\n",
       "      <td>34.090</td>\n",
       "      <td>60</td>\n",
       "      <td>15.0013</td>\n",
       "      <td>2011</td>\n",
       "      <td>7</td>\n",
       "      <td>17</td>\n",
       "      <td>6</td>\n",
       "      <td>10</td>\n",
       "      <td>5.692396</td>\n",
       "    </tr>\n",
       "  </tbody>\n",
       "</table>\n",
       "</div>"
      ],
      "text/plain": [
       "      count  season  holiday  workingday  weather   temp   atemp  humidity  \\\n",
       "0  6.336826       2        0           1        1  28.70  31.820        24   \n",
       "1  5.638355       4        0           1        2  20.50  24.240        63   \n",
       "2  5.484797       4        0           1        1  24.60  31.060        53   \n",
       "3  4.158883       1        0           1        1  15.58  19.695        82   \n",
       "4  5.720312       3        0           0        1  30.34  34.090        60   \n",
       "\n",
       "   windspeed  year  month  day  dayofweek  hour  count_predicted  \n",
       "0    19.9995  2011      6    3          4    18         6.195795  \n",
       "1    16.9979  2012     12    4          1    21         5.503671  \n",
       "2    23.9994  2011     11   14          0    20         5.644682  \n",
       "3    26.0027  2011      2    2          2    14         4.099272  \n",
       "4    15.0013  2011      7   17          6    10         5.692396  "
      ]
     },
     "execution_count": 34,
     "metadata": {},
     "output_type": "execute_result"
    }
   ],
   "source": [
    "df.head() # new column at the end"
   ]
  },
  {
   "cell_type": "markdown",
   "metadata": {},
   "source": [
    "### Negative Values can appear in predictions\n",
    "Displayed through _pandas_ DataFrame Describe function\n",
    "\n",
    "_Generate descriptive statistics_"
   ]
  },
  {
   "cell_type": "markdown",
   "metadata": {},
   "source": [
    "### Finding All Negative Values for Zeroizing\n",
    "Sometimes, regressors predict values that do not match the problem's context."
   ]
  },
  {
   "cell_type": "code",
   "execution_count": 35,
   "metadata": {},
   "outputs": [
    {
     "data": {
      "image/png": "[encoded data removed]",
      "text/plain": [
       "<Figure size 432x288 with 1 Axes>"
      ]
     },
     "metadata": {},
     "output_type": "display_data"
    }
   ],
   "source": [
    "df['count_predicted'].hist()\n",
    "plt.title('Predicted Count Histogram')\n",
    "plt.show()\n",
    "# There are values below 0"
   ]
  },
  {
   "cell_type": "code",
   "execution_count": 36,
   "metadata": {},
   "outputs": [
    {
     "data": {
      "text/html": [
       "<div>\n",
       "<style scoped>\n",
       "    .dataframe tbody tr th:only-of-type {\n",
       "        vertical-align: middle;\n",
       "    }\n",
       "\n",
       "    .dataframe tbody tr th {\n",
       "        vertical-align: top;\n",
       "    }\n",
       "\n",
       "    .dataframe thead th {\n",
       "        text-align: right;\n",
       "    }\n",
       "</style>\n",
       "<table border=\"1\" class=\"dataframe\">\n",
       "  <thead>\n",
       "    <tr style=\"text-align: right;\">\n",
       "      <th></th>\n",
       "      <th>count</th>\n",
       "      <th>season</th>\n",
       "      <th>holiday</th>\n",
       "      <th>workingday</th>\n",
       "      <th>weather</th>\n",
       "      <th>temp</th>\n",
       "      <th>atemp</th>\n",
       "      <th>humidity</th>\n",
       "      <th>windspeed</th>\n",
       "      <th>year</th>\n",
       "      <th>month</th>\n",
       "      <th>day</th>\n",
       "      <th>dayofweek</th>\n",
       "      <th>hour</th>\n",
       "      <th>count_predicted</th>\n",
       "    </tr>\n",
       "  </thead>\n",
       "  <tbody>\n",
       "  </tbody>\n",
       "</table>\n",
       "</div>"
      ],
      "text/plain": [
       "Empty DataFrame\n",
       "Columns: [count, season, holiday, workingday, weather, temp, atemp, humidity, windspeed, year, month, day, dayofweek, hour, count_predicted]\n",
       "Index: []"
      ]
     },
     "execution_count": 36,
     "metadata": {},
     "output_type": "execute_result"
    }
   ],
   "source": [
    "df[df['count_predicted'] < 0]"
   ]
  },
  {
   "cell_type": "markdown",
   "metadata": {},
   "source": [
    "Note: There are no values below 0."
   ]
  },
  {
   "cell_type": "markdown",
   "metadata": {},
   "source": [
    "### Adjust the Count to Just Data Points"
   ]
  },
  {
   "cell_type": "code",
   "execution_count": 40,
   "metadata": {},
   "outputs": [],
   "source": [
    "def adjust_count(x):\n",
    "    if x < 0:\n",
    "        return 0\n",
    "    else:\n",
    "        return x"
   ]
  },
  {
   "cell_type": "code",
   "execution_count": 41,
   "metadata": {},
   "outputs": [],
   "source": [
    "df['count_predicted'] = df['count_predicted'].map(adjust_count)"
   ]
  },
  {
   "cell_type": "code",
   "execution_count": 42,
   "metadata": {},
   "outputs": [
    {
     "data": {
      "text/html": [
       "<div>\n",
       "<style scoped>\n",
       "    .dataframe tbody tr th:only-of-type {\n",
       "        vertical-align: middle;\n",
       "    }\n",
       "\n",
       "    .dataframe tbody tr th {\n",
       "        vertical-align: top;\n",
       "    }\n",
       "\n",
       "    .dataframe thead th {\n",
       "        text-align: right;\n",
       "    }\n",
       "</style>\n",
       "<table border=\"1\" class=\"dataframe\">\n",
       "  <thead>\n",
       "    <tr style=\"text-align: right;\">\n",
       "      <th></th>\n",
       "      <th>count</th>\n",
       "      <th>season</th>\n",
       "      <th>holiday</th>\n",
       "      <th>workingday</th>\n",
       "      <th>weather</th>\n",
       "      <th>temp</th>\n",
       "      <th>atemp</th>\n",
       "      <th>humidity</th>\n",
       "      <th>windspeed</th>\n",
       "      <th>year</th>\n",
       "      <th>month</th>\n",
       "      <th>day</th>\n",
       "      <th>dayofweek</th>\n",
       "      <th>hour</th>\n",
       "      <th>count_predicted</th>\n",
       "    </tr>\n",
       "  </thead>\n",
       "  <tbody>\n",
       "  </tbody>\n",
       "</table>\n",
       "</div>"
      ],
      "text/plain": [
       "Empty DataFrame\n",
       "Columns: [count, season, holiday, workingday, weather, temp, atemp, humidity, windspeed, year, month, day, dayofweek, hour, count_predicted]\n",
       "Index: []"
      ]
     },
     "execution_count": 42,
     "metadata": {},
     "output_type": "execute_result"
    }
   ],
   "source": [
    "df[df['count_predicted'] < 0] # double-check"
   ]
  },
  {
   "cell_type": "code",
   "execution_count": 43,
   "metadata": {},
   "outputs": [],
   "source": [
    "df['count'] = df['count'].map(np.expm1)\n",
    "df['count_predicted'] = df['count_predicted'].map(np.expm1)"
   ]
  },
  {
   "cell_type": "markdown",
   "metadata": {},
   "source": [
    "## Plot Actual vs. Predicted"
   ]
  },
  {
   "cell_type": "code",
   "execution_count": 44,
   "metadata": {},
   "outputs": [
    {
     "data": {
      "image/png": "[encoded data removed]",
      "text/plain": [
       "<Figure size 432x288 with 1 Axes>"
      ]
     },
     "metadata": {},
     "output_type": "display_data"
    }
   ],
   "source": [
    "plt.plot(df['count'], label='Actual')\n",
    "plt.plot(df['count_predicted'], label='Predicted')\n",
    "plt.xlabel('Sample')\n",
    "plt.ylabel('Rental Count')\n",
    "plt.xlim([100,150])\n",
    "plt.title('Validation Dataset: Predicted vs. Actual')\n",
    "plt.legend()\n",
    "plt.show()"
   ]
  },
  {
   "cell_type": "code",
   "execution_count": 45,
   "metadata": {},
   "outputs": [
    {
     "data": {
      "image/png": "[encoded data removed]",
      "text/plain": [
       "<Figure size 432x288 with 1 Axes>"
      ]
     },
     "metadata": {},
     "output_type": "display_data"
    }
   ],
   "source": [
    "# Over prediction and Under Prediction needs to be balanced\n",
    "# Training Data Residuals\n",
    "residuals = (df['count'] - df['count_predicted'])\n",
    "\n",
    "plt.hist(residuals)\n",
    "plt.grid(True)\n",
    "plt.xlabel('Actual - Predicted')\n",
    "plt.ylabel('Count')\n",
    "plt.title('Residuals Distribution')\n",
    "plt.axvline(color='r')\n",
    "plt.show()"
   ]
  },
  {
   "cell_type": "code",
   "execution_count": 46,
   "metadata": {},
   "outputs": [
    {
     "name": "stdout",
     "output_type": "stream",
     "text": [
      " Under Estimation: 0.54\n",
      " Over  Estimation: 0.46\n"
     ]
    }
   ],
   "source": [
    "value_counts = (residuals > 0).value_counts(sort=False)\n",
    "print(' Under Estimation: {0:0.2f}'.format(value_counts[True]/len(residuals)))\n",
    "print(' Over  Estimation: {0:0.2f}'.format(value_counts[False]/len(residuals)))"
   ]
  },
  {
   "cell_type": "markdown",
   "metadata": {},
   "source": [
    "### Print Metrics of the Model"
   ]
  },
  {
   "cell_type": "code",
   "execution_count": 50,
   "metadata": {},
   "outputs": [
    {
     "name": "stdout",
     "output_type": "stream",
     "text": [
      "Model's RMSE: 40.41\n"
     ]
    }
   ],
   "source": [
    "# Current Model's RMSE\n",
    "print(\"Model's RMSE: {0:0.2f}\".format(mean_squared_error(df['count'],df['count_predicted'])**.5))"
   ]
  },
  {
   "cell_type": "code",
   "execution_count": 51,
   "metadata": {},
   "outputs": [],
   "source": [
    "# RMSlE - Root Mean Squared Log Error\n",
    "# RMSLE Metric is used by Kaggle\n",
    "\n",
    "# RMSE Cost Function - Magnitude of difference matters\n",
    "\n",
    "# RMSLE cost function - \"Only Percentage difference matters\"\n",
    "\n",
    "# Reference:Katerina Malahova, Khor SoonHin \n",
    "# https://www.slideshare.net/KhorSoonHin/rmsle-cost-function\n",
    "def compute_rmsle(y_true, y_pred):\n",
    "    if type(y_true) != np.ndarray:\n",
    "        y_true = np.array(y_true)\n",
    "        \n",
    "    if type(y_pred) != np.ndarray:\n",
    "        y_pred = np.array(y_pred)\n",
    "     \n",
    "    return(np.average((np.log1p(y_pred) - np.log1p(y_true))**2)**.5)"
   ]
  },
  {
   "cell_type": "code",
   "execution_count": 53,
   "metadata": {},
   "outputs": [
    {
     "name": "stdout",
     "output_type": "stream",
     "text": [
      "RMSE: 0.29\n"
     ]
    }
   ],
   "source": [
    "print('RMSE: {0:.2f}'.format(compute_rmsle(df['count'], df['count_predicted'])))"
   ]
  },
  {
   "cell_type": "markdown",
   "metadata": {},
   "source": [
    "## Prepare Data for Kaggle Submission"
   ]
  },
  {
   "cell_type": "code",
   "execution_count": 54,
   "metadata": {},
   "outputs": [],
   "source": [
    "df_test = pd.read_csv(test_file,parse_dates=['datetime'])"
   ]
  },
  {
   "cell_type": "code",
   "execution_count": 55,
   "metadata": {},
   "outputs": [
    {
     "data": {
      "text/html": [
       "<div>\n",
       "<style scoped>\n",
       "    .dataframe tbody tr th:only-of-type {\n",
       "        vertical-align: middle;\n",
       "    }\n",
       "\n",
       "    .dataframe tbody tr th {\n",
       "        vertical-align: top;\n",
       "    }\n",
       "\n",
       "    .dataframe thead th {\n",
       "        text-align: right;\n",
       "    }\n",
       "</style>\n",
       "<table border=\"1\" class=\"dataframe\">\n",
       "  <thead>\n",
       "    <tr style=\"text-align: right;\">\n",
       "      <th></th>\n",
       "      <th>datetime</th>\n",
       "      <th>season</th>\n",
       "      <th>holiday</th>\n",
       "      <th>workingday</th>\n",
       "      <th>weather</th>\n",
       "      <th>temp</th>\n",
       "      <th>atemp</th>\n",
       "      <th>humidity</th>\n",
       "      <th>windspeed</th>\n",
       "      <th>year</th>\n",
       "      <th>month</th>\n",
       "      <th>day</th>\n",
       "      <th>dayofweek</th>\n",
       "      <th>hour</th>\n",
       "    </tr>\n",
       "  </thead>\n",
       "  <tbody>\n",
       "    <tr>\n",
       "      <th>0</th>\n",
       "      <td>2011-01-20 00:00:00</td>\n",
       "      <td>1</td>\n",
       "      <td>0</td>\n",
       "      <td>1</td>\n",
       "      <td>1</td>\n",
       "      <td>10.66</td>\n",
       "      <td>11.365</td>\n",
       "      <td>56</td>\n",
       "      <td>26.0027</td>\n",
       "      <td>2011</td>\n",
       "      <td>1</td>\n",
       "      <td>20</td>\n",
       "      <td>3</td>\n",
       "      <td>0</td>\n",
       "    </tr>\n",
       "    <tr>\n",
       "      <th>1</th>\n",
       "      <td>2011-01-20 01:00:00</td>\n",
       "      <td>1</td>\n",
       "      <td>0</td>\n",
       "      <td>1</td>\n",
       "      <td>1</td>\n",
       "      <td>10.66</td>\n",
       "      <td>13.635</td>\n",
       "      <td>56</td>\n",
       "      <td>0.0000</td>\n",
       "      <td>2011</td>\n",
       "      <td>1</td>\n",
       "      <td>20</td>\n",
       "      <td>3</td>\n",
       "      <td>1</td>\n",
       "    </tr>\n",
       "    <tr>\n",
       "      <th>2</th>\n",
       "      <td>2011-01-20 02:00:00</td>\n",
       "      <td>1</td>\n",
       "      <td>0</td>\n",
       "      <td>1</td>\n",
       "      <td>1</td>\n",
       "      <td>10.66</td>\n",
       "      <td>13.635</td>\n",
       "      <td>56</td>\n",
       "      <td>0.0000</td>\n",
       "      <td>2011</td>\n",
       "      <td>1</td>\n",
       "      <td>20</td>\n",
       "      <td>3</td>\n",
       "      <td>2</td>\n",
       "    </tr>\n",
       "    <tr>\n",
       "      <th>3</th>\n",
       "      <td>2011-01-20 03:00:00</td>\n",
       "      <td>1</td>\n",
       "      <td>0</td>\n",
       "      <td>1</td>\n",
       "      <td>1</td>\n",
       "      <td>10.66</td>\n",
       "      <td>12.880</td>\n",
       "      <td>56</td>\n",
       "      <td>11.0014</td>\n",
       "      <td>2011</td>\n",
       "      <td>1</td>\n",
       "      <td>20</td>\n",
       "      <td>3</td>\n",
       "      <td>3</td>\n",
       "    </tr>\n",
       "    <tr>\n",
       "      <th>4</th>\n",
       "      <td>2011-01-20 04:00:00</td>\n",
       "      <td>1</td>\n",
       "      <td>0</td>\n",
       "      <td>1</td>\n",
       "      <td>1</td>\n",
       "      <td>10.66</td>\n",
       "      <td>12.880</td>\n",
       "      <td>56</td>\n",
       "      <td>11.0014</td>\n",
       "      <td>2011</td>\n",
       "      <td>1</td>\n",
       "      <td>20</td>\n",
       "      <td>3</td>\n",
       "      <td>4</td>\n",
       "    </tr>\n",
       "  </tbody>\n",
       "</table>\n",
       "</div>"
      ],
      "text/plain": [
       "             datetime  season  holiday  workingday  weather   temp   atemp  \\\n",
       "0 2011-01-20 00:00:00       1        0           1        1  10.66  11.365   \n",
       "1 2011-01-20 01:00:00       1        0           1        1  10.66  13.635   \n",
       "2 2011-01-20 02:00:00       1        0           1        1  10.66  13.635   \n",
       "3 2011-01-20 03:00:00       1        0           1        1  10.66  12.880   \n",
       "4 2011-01-20 04:00:00       1        0           1        1  10.66  12.880   \n",
       "\n",
       "   humidity  windspeed  year  month  day  dayofweek  hour  \n",
       "0        56    26.0027  2011      1   20          3     0  \n",
       "1        56     0.0000  2011      1   20          3     1  \n",
       "2        56     0.0000  2011      1   20          3     2  \n",
       "3        56    11.0014  2011      1   20          3     3  \n",
       "4        56    11.0014  2011      1   20          3     4  "
      ]
     },
     "execution_count": 55,
     "metadata": {},
     "output_type": "execute_result"
    }
   ],
   "source": [
    "df_test.head()"
   ]
  },
  {
   "cell_type": "code",
   "execution_count": 56,
   "metadata": {},
   "outputs": [],
   "source": [
    "x_test =  df_test.iloc[:,1:] # Exclude datetime for prediction"
   ]
  },
  {
   "cell_type": "code",
   "execution_count": 57,
   "metadata": {},
   "outputs": [
    {
     "data": {
      "text/html": [
       "<div>\n",
       "<style scoped>\n",
       "    .dataframe tbody tr th:only-of-type {\n",
       "        vertical-align: middle;\n",
       "    }\n",
       "\n",
       "    .dataframe tbody tr th {\n",
       "        vertical-align: top;\n",
       "    }\n",
       "\n",
       "    .dataframe thead th {\n",
       "        text-align: right;\n",
       "    }\n",
       "</style>\n",
       "<table border=\"1\" class=\"dataframe\">\n",
       "  <thead>\n",
       "    <tr style=\"text-align: right;\">\n",
       "      <th></th>\n",
       "      <th>season</th>\n",
       "      <th>holiday</th>\n",
       "      <th>workingday</th>\n",
       "      <th>weather</th>\n",
       "      <th>temp</th>\n",
       "      <th>atemp</th>\n",
       "      <th>humidity</th>\n",
       "      <th>windspeed</th>\n",
       "      <th>year</th>\n",
       "      <th>month</th>\n",
       "      <th>day</th>\n",
       "      <th>dayofweek</th>\n",
       "      <th>hour</th>\n",
       "    </tr>\n",
       "  </thead>\n",
       "  <tbody>\n",
       "    <tr>\n",
       "      <th>0</th>\n",
       "      <td>1</td>\n",
       "      <td>0</td>\n",
       "      <td>1</td>\n",
       "      <td>1</td>\n",
       "      <td>10.66</td>\n",
       "      <td>11.365</td>\n",
       "      <td>56</td>\n",
       "      <td>26.0027</td>\n",
       "      <td>2011</td>\n",
       "      <td>1</td>\n",
       "      <td>20</td>\n",
       "      <td>3</td>\n",
       "      <td>0</td>\n",
       "    </tr>\n",
       "    <tr>\n",
       "      <th>1</th>\n",
       "      <td>1</td>\n",
       "      <td>0</td>\n",
       "      <td>1</td>\n",
       "      <td>1</td>\n",
       "      <td>10.66</td>\n",
       "      <td>13.635</td>\n",
       "      <td>56</td>\n",
       "      <td>0.0000</td>\n",
       "      <td>2011</td>\n",
       "      <td>1</td>\n",
       "      <td>20</td>\n",
       "      <td>3</td>\n",
       "      <td>1</td>\n",
       "    </tr>\n",
       "    <tr>\n",
       "      <th>2</th>\n",
       "      <td>1</td>\n",
       "      <td>0</td>\n",
       "      <td>1</td>\n",
       "      <td>1</td>\n",
       "      <td>10.66</td>\n",
       "      <td>13.635</td>\n",
       "      <td>56</td>\n",
       "      <td>0.0000</td>\n",
       "      <td>2011</td>\n",
       "      <td>1</td>\n",
       "      <td>20</td>\n",
       "      <td>3</td>\n",
       "      <td>2</td>\n",
       "    </tr>\n",
       "    <tr>\n",
       "      <th>3</th>\n",
       "      <td>1</td>\n",
       "      <td>0</td>\n",
       "      <td>1</td>\n",
       "      <td>1</td>\n",
       "      <td>10.66</td>\n",
       "      <td>12.880</td>\n",
       "      <td>56</td>\n",
       "      <td>11.0014</td>\n",
       "      <td>2011</td>\n",
       "      <td>1</td>\n",
       "      <td>20</td>\n",
       "      <td>3</td>\n",
       "      <td>3</td>\n",
       "    </tr>\n",
       "    <tr>\n",
       "      <th>4</th>\n",
       "      <td>1</td>\n",
       "      <td>0</td>\n",
       "      <td>1</td>\n",
       "      <td>1</td>\n",
       "      <td>10.66</td>\n",
       "      <td>12.880</td>\n",
       "      <td>56</td>\n",
       "      <td>11.0014</td>\n",
       "      <td>2011</td>\n",
       "      <td>1</td>\n",
       "      <td>20</td>\n",
       "      <td>3</td>\n",
       "      <td>4</td>\n",
       "    </tr>\n",
       "  </tbody>\n",
       "</table>\n",
       "</div>"
      ],
      "text/plain": [
       "   season  holiday  workingday  weather   temp   atemp  humidity  windspeed  \\\n",
       "0       1        0           1        1  10.66  11.365        56    26.0027   \n",
       "1       1        0           1        1  10.66  13.635        56     0.0000   \n",
       "2       1        0           1        1  10.66  13.635        56     0.0000   \n",
       "3       1        0           1        1  10.66  12.880        56    11.0014   \n",
       "4       1        0           1        1  10.66  12.880        56    11.0014   \n",
       "\n",
       "   year  month  day  dayofweek  hour  \n",
       "0  2011      1   20          3     0  \n",
       "1  2011      1   20          3     1  \n",
       "2  2011      1   20          3     2  \n",
       "3  2011      1   20          3     3  \n",
       "4  2011      1   20          3     4  "
      ]
     },
     "execution_count": 57,
     "metadata": {},
     "output_type": "execute_result"
    }
   ],
   "source": [
    "x_test.head()"
   ]
  },
  {
   "cell_type": "code",
   "execution_count": 58,
   "metadata": {},
   "outputs": [],
   "source": [
    "result = regressor.predict(x_test)"
   ]
  },
  {
   "cell_type": "code",
   "execution_count": 59,
   "metadata": {},
   "outputs": [
    {
     "data": {
      "text/plain": [
       "array([2.7636895, 1.9933898, 1.5712538, 1.2260903, 1.1937907],\n",
       "      dtype=float32)"
      ]
     },
     "execution_count": 59,
     "metadata": {},
     "output_type": "execute_result"
    }
   ],
   "source": [
    "result[:5]"
   ]
  },
  {
   "cell_type": "code",
   "execution_count": 60,
   "metadata": {},
   "outputs": [
    {
     "data": {
      "text/plain": [
       "array([ 14.858244 ,   6.3403745,   3.8126783, ..., 129.77707  ,\n",
       "       103.49721  ,  55.03498  ], dtype=float32)"
      ]
     },
     "execution_count": 60,
     "metadata": {},
     "output_type": "execute_result"
    }
   ],
   "source": [
    "np.expm1(result)"
   ]
  },
  {
   "cell_type": "code",
   "execution_count": null,
   "metadata": {},
   "outputs": [],
   "source": [
    "df_test.head() # data checck"
   ]
  },
  {
   "cell_type": "code",
   "execution_count": null,
   "metadata": {},
   "outputs": [],
   "source": [
    "df_test[df_test[\"count\"] < 0]"
   ]
  },
  {
   "cell_type": "code",
   "execution_count": null,
   "metadata": {},
   "outputs": [],
   "source": [
    "df_test[\"count\"] = df_test[\"count\"].map(adjust_count)"
   ]
  },
  {
   "cell_type": "code",
   "execution_count": null,
   "metadata": {},
   "outputs": [],
   "source": [
    "df_test[['datetime','count']].to_csv('predicted_count.csv',index=False)"
   ]
  }
 ],
 "metadata": {
  "kernelspec": {
   "display_name": "conda_amazonei_tensorflow_p36",
   "language": "python",
   "name": "conda_amazonei_tensorflow_p36"
  },
  "language_info": {
   "codemirror_mode": {
    "name": "ipython",
    "version": 3
   },
   "file_extension": ".py",
   "mimetype": "text/x-python",
   "name": "python",
   "nbconvert_exporter": "python",
   "pygments_lexer": "ipython3",
   "version": "3.6.5"
  }
 },
 "nbformat": 4,
 "nbformat_minor": 4
}
