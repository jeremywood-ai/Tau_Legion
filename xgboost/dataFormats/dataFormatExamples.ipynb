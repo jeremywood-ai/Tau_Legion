{
 "cells": [
  {
   "cell_type": "markdown",
   "metadata": {},
   "source": [
    "## Data Formats"
   ]
  },
  {
   "cell_type": "code",
   "execution_count": 1,
   "metadata": {},
   "outputs": [],
   "source": [
    "import pandas as pd\n",
    "import numpy as np\n",
    "import boto3 # Python SDK library for Amazon to download files (1.11.10 as 2/5/2020)\n",
    "import sagemaker.amazon.common as smac # SageMaker Common Core Library"
   ]
  },
  {
   "cell_type": "code",
   "execution_count": 2,
   "metadata": {},
   "outputs": [],
   "source": [
    "np.random.seed(5) # entered seed to generate expected results"
   ]
  },
  {
   "cell_type": "code",
   "execution_count": 3,
   "metadata": {},
   "outputs": [],
   "source": [
    "# Note: specify your project bucket here\n",
    "s3_bucket_name = 's3-1-ml-sagemaker'"
   ]
  },
  {
   "cell_type": "markdown",
   "metadata": {},
   "source": [
    "### Sample DataSet\n",
    "#### Show with three features and a target variable"
   ]
  },
  {
   "cell_type": "code",
   "execution_count": 4,
   "metadata": {},
   "outputs": [],
   "source": [
    "n = 10 # sample size\n",
    "x1 = np.random.random_sample(n) # n floating point numbers from 0 to 1\n",
    "x2 = np.random.randint(100,200,n) # n integers between 100 and 200\n",
    "x3 = np.random.random_sample(n) * 10 # same as x1, but x10\n",
    "y = np.random.randint(0,2,n) # variable response 0 or 1"
   ]
  },
  {
   "cell_type": "code",
   "execution_count": 5,
   "metadata": {},
   "outputs": [
    {
     "data": {
      "text/plain": [
       "array([0, 0, 1, 1, 1, 1, 0, 0, 0, 1])"
      ]
     },
     "execution_count": 5,
     "metadata": {},
     "output_type": "execute_result"
    }
   ],
   "source": [
    "y # check the value of y"
   ]
  },
  {
   "cell_type": "markdown",
   "metadata": {},
   "source": [
    "### Adding variables into a panda dataframe (df)"
   ]
  },
  {
   "cell_type": "code",
   "execution_count": 6,
   "metadata": {},
   "outputs": [],
   "source": [
    "df = pd.DataFrame({'x1':x1,\n",
    "                  'x2':x2,\n",
    "                  'x3':x3,\n",
    "                  'y':y})"
   ]
  },
  {
   "cell_type": "code",
   "execution_count": 7,
   "metadata": {},
   "outputs": [
    {
     "data": {
      "text/html": [
       "<div>\n",
       "<style scoped>\n",
       "    .dataframe tbody tr th:only-of-type {\n",
       "        vertical-align: middle;\n",
       "    }\n",
       "\n",
       "    .dataframe tbody tr th {\n",
       "        vertical-align: top;\n",
       "    }\n",
       "\n",
       "    .dataframe thead th {\n",
       "        text-align: right;\n",
       "    }\n",
       "</style>\n",
       "<table border=\"1\" class=\"dataframe\">\n",
       "  <thead>\n",
       "    <tr style=\"text-align: right;\">\n",
       "      <th></th>\n",
       "      <th>x1</th>\n",
       "      <th>x2</th>\n",
       "      <th>x3</th>\n",
       "      <th>y</th>\n",
       "    </tr>\n",
       "  </thead>\n",
       "  <tbody>\n",
       "    <tr>\n",
       "      <th>0</th>\n",
       "      <td>0.221993</td>\n",
       "      <td>153</td>\n",
       "      <td>2.041547</td>\n",
       "      <td>0</td>\n",
       "    </tr>\n",
       "    <tr>\n",
       "      <th>1</th>\n",
       "      <td>0.870732</td>\n",
       "      <td>180</td>\n",
       "      <td>1.190954</td>\n",
       "      <td>0</td>\n",
       "    </tr>\n",
       "    <tr>\n",
       "      <th>2</th>\n",
       "      <td>0.206719</td>\n",
       "      <td>127</td>\n",
       "      <td>8.779031</td>\n",
       "      <td>1</td>\n",
       "    </tr>\n",
       "    <tr>\n",
       "      <th>3</th>\n",
       "      <td>0.918611</td>\n",
       "      <td>144</td>\n",
       "      <td>5.236753</td>\n",
       "      <td>1</td>\n",
       "    </tr>\n",
       "    <tr>\n",
       "      <th>4</th>\n",
       "      <td>0.488411</td>\n",
       "      <td>177</td>\n",
       "      <td>4.921360</td>\n",
       "      <td>1</td>\n",
       "    </tr>\n",
       "    <tr>\n",
       "      <th>5</th>\n",
       "      <td>0.611744</td>\n",
       "      <td>175</td>\n",
       "      <td>7.318711</td>\n",
       "      <td>1</td>\n",
       "    </tr>\n",
       "    <tr>\n",
       "      <th>6</th>\n",
       "      <td>0.765908</td>\n",
       "      <td>165</td>\n",
       "      <td>0.145808</td>\n",
       "      <td>0</td>\n",
       "    </tr>\n",
       "    <tr>\n",
       "      <th>7</th>\n",
       "      <td>0.518418</td>\n",
       "      <td>147</td>\n",
       "      <td>0.933630</td>\n",
       "      <td>0</td>\n",
       "    </tr>\n",
       "    <tr>\n",
       "      <th>8</th>\n",
       "      <td>0.296801</td>\n",
       "      <td>130</td>\n",
       "      <td>8.265542</td>\n",
       "      <td>0</td>\n",
       "    </tr>\n",
       "    <tr>\n",
       "      <th>9</th>\n",
       "      <td>0.187721</td>\n",
       "      <td>184</td>\n",
       "      <td>8.334927</td>\n",
       "      <td>1</td>\n",
       "    </tr>\n",
       "  </tbody>\n",
       "</table>\n",
       "</div>"
      ],
      "text/plain": [
       "         x1   x2        x3  y\n",
       "0  0.221993  153  2.041547  0\n",
       "1  0.870732  180  1.190954  0\n",
       "2  0.206719  127  8.779031  1\n",
       "3  0.918611  144  5.236753  1\n",
       "4  0.488411  177  4.921360  1\n",
       "5  0.611744  175  7.318711  1\n",
       "6  0.765908  165  0.145808  0\n",
       "7  0.518418  147  0.933630  0\n",
       "8  0.296801  130  8.265542  0\n",
       "9  0.187721  184  8.334927  1"
      ]
     },
     "execution_count": 7,
     "metadata": {},
     "output_type": "execute_result"
    }
   ],
   "source": [
    "df # check value of df"
   ]
  },
  {
   "cell_type": "code",
   "execution_count": 8,
   "metadata": {},
   "outputs": [],
   "source": [
    "df.to_csv('demo_file.csv', index=False)"
   ]
  },
  {
   "cell_type": "markdown",
   "metadata": {},
   "source": [
    "### Writing and Reading from S3 bucket\n",
    "* Files are referred as objects in S3\n",
    "* File names are referred to as key names\n",
    "* File stored in an S3 are replicated across three AWS availability zones"
   ]
  },
  {
   "cell_type": "markdown",
   "metadata": {},
   "source": [
    "### Using Boto3 to send and receive files in S3"
   ]
  },
  {
   "cell_type": "code",
   "execution_count": 9,
   "metadata": {},
   "outputs": [],
   "source": [
    "def write_to_s3(filename, bucket, key):\n",
    "    with open(filename, 'rb') as f: # Read in binary mode\n",
    "        return boto3.Session().resource('s3').Bucket(bucket).Object(key).upload_fileobj(f)"
   ]
  },
  {
   "cell_type": "code",
   "execution_count": 10,
   "metadata": {},
   "outputs": [],
   "source": [
    "def download_from_s3(filename, bucket, key):\n",
    "    with open(filename, 'wb') as f: # write in binary mode\n",
    "        return boto3.Session().resource('s3').Bucket(bucket).Object(key).download_fileobj(f)"
   ]
  },
  {
   "cell_type": "code",
   "execution_count": 11,
   "metadata": {},
   "outputs": [],
   "source": [
    "write_to_s3('demo_file.csv', s3_bucket_name, 'dataFormats/demo_file.csv')"
   ]
  },
  {
   "cell_type": "code",
   "execution_count": 12,
   "metadata": {},
   "outputs": [],
   "source": [
    "download_from_s3('demo_file_from_s3.csv', s3_bucket_name, 'dataFormats/demo_file.csv')"
   ]
  },
  {
   "cell_type": "markdown",
   "metadata": {},
   "source": [
    "## Record IO Format"
   ]
  },
  {
   "cell_type": "markdown",
   "metadata": {},
   "source": [
    "This section will use SageMaker SDK *write_numpy_to_dense_tensor()* method to create RecordIO files.\n",
    "The format is used for frameworks like Apache mxnet, Apache Mesos, and AWS Sagemaker that divides data into 'chunks', referred to as records.\n",
    "[More Information from mxnet documentation](https://mxnet.apache.org/api/architecture/note_data_loading#data-format)\n",
    "\n",
    "Data Type Allowed:\n",
    "* Int32\n",
    "* Float32\n",
    "* Float64\n",
    "\n",
    "Reference: [Amazon SageMaker Common.py](https://github.com/aws/sagemaker-python-sdk/blob/master/src/sagemaker/amazon/common.py)"
   ]
  },
  {
   "cell_type": "markdown",
   "metadata": {},
   "source": [
    "### Format the x1, x2, x3 variables"
   ]
  },
  {
   "cell_type": "code",
   "execution_count": 13,
   "metadata": {},
   "outputs": [
    {
     "data": {
      "text/html": [
       "<div>\n",
       "<style scoped>\n",
       "    .dataframe tbody tr th:only-of-type {\n",
       "        vertical-align: middle;\n",
       "    }\n",
       "\n",
       "    .dataframe tbody tr th {\n",
       "        vertical-align: top;\n",
       "    }\n",
       "\n",
       "    .dataframe thead th {\n",
       "        text-align: right;\n",
       "    }\n",
       "</style>\n",
       "<table border=\"1\" class=\"dataframe\">\n",
       "  <thead>\n",
       "    <tr style=\"text-align: right;\">\n",
       "      <th></th>\n",
       "      <th>x1</th>\n",
       "      <th>x2</th>\n",
       "      <th>x3</th>\n",
       "      <th>y</th>\n",
       "    </tr>\n",
       "  </thead>\n",
       "  <tbody>\n",
       "    <tr>\n",
       "      <th>0</th>\n",
       "      <td>0.221993</td>\n",
       "      <td>153</td>\n",
       "      <td>2.041547</td>\n",
       "      <td>0</td>\n",
       "    </tr>\n",
       "    <tr>\n",
       "      <th>1</th>\n",
       "      <td>0.870732</td>\n",
       "      <td>180</td>\n",
       "      <td>1.190954</td>\n",
       "      <td>0</td>\n",
       "    </tr>\n",
       "    <tr>\n",
       "      <th>2</th>\n",
       "      <td>0.206719</td>\n",
       "      <td>127</td>\n",
       "      <td>8.779031</td>\n",
       "      <td>1</td>\n",
       "    </tr>\n",
       "    <tr>\n",
       "      <th>3</th>\n",
       "      <td>0.918611</td>\n",
       "      <td>144</td>\n",
       "      <td>5.236753</td>\n",
       "      <td>1</td>\n",
       "    </tr>\n",
       "    <tr>\n",
       "      <th>4</th>\n",
       "      <td>0.488411</td>\n",
       "      <td>177</td>\n",
       "      <td>4.921360</td>\n",
       "      <td>1</td>\n",
       "    </tr>\n",
       "  </tbody>\n",
       "</table>\n",
       "</div>"
      ],
      "text/plain": [
       "         x1   x2        x3  y\n",
       "0  0.221993  153  2.041547  0\n",
       "1  0.870732  180  1.190954  0\n",
       "2  0.206719  127  8.779031  1\n",
       "3  0.918611  144  5.236753  1\n",
       "4  0.488411  177  4.921360  1"
      ]
     },
     "execution_count": 13,
     "metadata": {},
     "output_type": "execute_result"
    }
   ],
   "source": [
    "df.head() # returns the first 5 (default) results"
   ]
  },
  {
   "cell_type": "code",
   "execution_count": 14,
   "metadata": {},
   "outputs": [],
   "source": [
    "# X must be in array format to start. numpy requirement.\n",
    "X = df[['x1','x2','x3']].to_numpy()"
   ]
  },
  {
   "cell_type": "code",
   "execution_count": 15,
   "metadata": {},
   "outputs": [
    {
     "data": {
      "text/plain": [
       "array([[2.21993171e-01, 1.53000000e+02, 2.04154748e+00],\n",
       "       [8.70732306e-01, 1.80000000e+02, 1.19095357e+00],\n",
       "       [2.06719155e-01, 1.27000000e+02, 8.77903071e+00],\n",
       "       [9.18610908e-01, 1.44000000e+02, 5.23675290e+00],\n",
       "       [4.88411189e-01, 1.77000000e+02, 4.92135999e+00],\n",
       "       [6.11743863e-01, 1.75000000e+02, 7.31871100e+00],\n",
       "       [7.65907856e-01, 1.65000000e+02, 1.45807511e-01],\n",
       "       [5.18417988e-01, 1.47000000e+02, 9.33630336e-01],\n",
       "       [2.96800502e-01, 1.30000000e+02, 8.26554249e+00],\n",
       "       [1.87721229e-01, 1.84000000e+02, 8.33492742e+00]])"
      ]
     },
     "execution_count": 15,
     "metadata": {},
     "output_type": "execute_result"
    }
   ],
   "source": [
    "X # check the value of X, results to scientific notation."
   ]
  },
  {
   "cell_type": "code",
   "execution_count": 16,
   "metadata": {},
   "outputs": [
    {
     "data": {
      "text/plain": [
       "numpy.ndarray"
      ]
     },
     "execution_count": 16,
     "metadata": {},
     "output_type": "execute_result"
    }
   ],
   "source": [
    "type(X) # identify the information in variable"
   ]
  },
  {
   "cell_type": "markdown",
   "metadata": {},
   "source": [
    "### Format y into a vector"
   ]
  },
  {
   "cell_type": "code",
   "execution_count": 17,
   "metadata": {},
   "outputs": [],
   "source": [
    "y = df[['y']].to_numpy()"
   ]
  },
  {
   "cell_type": "markdown",
   "metadata": {},
   "source": [
    "#### y at this stage is 10x1 array"
   ]
  },
  {
   "cell_type": "code",
   "execution_count": 18,
   "metadata": {},
   "outputs": [
    {
     "data": {
      "text/plain": [
       "(10, 1)"
      ]
     },
     "execution_count": 18,
     "metadata": {},
     "output_type": "execute_result"
    }
   ],
   "source": [
    "y.shape"
   ]
  },
  {
   "cell_type": "code",
   "execution_count": 19,
   "metadata": {},
   "outputs": [],
   "source": [
    "# Flatten to a single dimension of 10 elements\n",
    "y = y.ravel()"
   ]
  },
  {
   "cell_type": "code",
   "execution_count": 20,
   "metadata": {},
   "outputs": [
    {
     "data": {
      "text/plain": [
       "array([0, 0, 1, 1, 1, 1, 0, 0, 0, 1])"
      ]
     },
     "execution_count": 20,
     "metadata": {},
     "output_type": "execute_result"
    }
   ],
   "source": [
    "y # values are now horizontal"
   ]
  },
  {
   "cell_type": "markdown",
   "metadata": {},
   "source": [
    "#### RecordIO functions from numpy to tensor"
   ]
  },
  {
   "cell_type": "code",
   "execution_count": 21,
   "metadata": {},
   "outputs": [],
   "source": [
    "def write_recordio_file (filename, x, y=None):\n",
    "    with open(filename, 'wb') as f: # again, as binary mode\n",
    "        smac.write_numpy_to_dense_tensor(f, x, y)"
   ]
  },
  {
   "cell_type": "code",
   "execution_count": 22,
   "metadata": {},
   "outputs": [],
   "source": [
    "def read_recordio_file (filename, recordsToPrint = 10):\n",
    "    with open(filename, 'rb') as f:\n",
    "        record = smac.read_records(f) # use of SageMake Core Functions\n",
    "        for interation, rec in enumerate(record):\n",
    "            if interation >= recordsToPrint:\n",
    "                break\n",
    "            print(\"record: {}\".format(interation))\n",
    "            print(rec)"
   ]
  },
  {
   "cell_type": "code",
   "execution_count": 23,
   "metadata": {},
   "outputs": [],
   "source": [
    "write_recordio_file('demoFile.recordio', X, y) # write the new array and tensor"
   ]
  },
  {
   "cell_type": "code",
   "execution_count": 24,
   "metadata": {},
   "outputs": [
    {
     "data": {
      "text/html": [
       "<div>\n",
       "<style scoped>\n",
       "    .dataframe tbody tr th:only-of-type {\n",
       "        vertical-align: middle;\n",
       "    }\n",
       "\n",
       "    .dataframe tbody tr th {\n",
       "        vertical-align: top;\n",
       "    }\n",
       "\n",
       "    .dataframe thead th {\n",
       "        text-align: right;\n",
       "    }\n",
       "</style>\n",
       "<table border=\"1\" class=\"dataframe\">\n",
       "  <thead>\n",
       "    <tr style=\"text-align: right;\">\n",
       "      <th></th>\n",
       "      <th>x1</th>\n",
       "      <th>x2</th>\n",
       "      <th>x3</th>\n",
       "      <th>y</th>\n",
       "    </tr>\n",
       "  </thead>\n",
       "  <tbody>\n",
       "    <tr>\n",
       "      <th>0</th>\n",
       "      <td>0.221993</td>\n",
       "      <td>153</td>\n",
       "      <td>2.041547</td>\n",
       "      <td>0</td>\n",
       "    </tr>\n",
       "    <tr>\n",
       "      <th>1</th>\n",
       "      <td>0.870732</td>\n",
       "      <td>180</td>\n",
       "      <td>1.190954</td>\n",
       "      <td>0</td>\n",
       "    </tr>\n",
       "    <tr>\n",
       "      <th>2</th>\n",
       "      <td>0.206719</td>\n",
       "      <td>127</td>\n",
       "      <td>8.779031</td>\n",
       "      <td>1</td>\n",
       "    </tr>\n",
       "  </tbody>\n",
       "</table>\n",
       "</div>"
      ],
      "text/plain": [
       "         x1   x2        x3  y\n",
       "0  0.221993  153  2.041547  0\n",
       "1  0.870732  180  1.190954  0\n",
       "2  0.206719  127  8.779031  1"
      ]
     },
     "execution_count": 24,
     "metadata": {},
     "output_type": "execute_result"
    }
   ],
   "source": [
    "df.head(3)"
   ]
  },
  {
   "cell_type": "code",
   "execution_count": 25,
   "metadata": {},
   "outputs": [
    {
     "name": "stdout",
     "output_type": "stream",
     "text": [
      "record: 0\n",
      "features {\n",
      "  key: \"values\"\n",
      "  value {\n",
      "    float64_tensor {\n",
      "      values: 0.22199317108973948\n",
      "      values: 153.0\n",
      "      values: 2.0415474783059215\n",
      "    }\n",
      "  }\n",
      "}\n",
      "label {\n",
      "  key: \"values\"\n",
      "  value {\n",
      "    int32_tensor {\n",
      "      values: 0\n",
      "    }\n",
      "  }\n",
      "}\n",
      "\n",
      "record: 1\n",
      "features {\n",
      "  key: \"values\"\n",
      "  value {\n",
      "    float64_tensor {\n",
      "      values: 0.8707323061773764\n",
      "      values: 180.0\n",
      "      values: 1.1909535747826039\n",
      "    }\n",
      "  }\n",
      "}\n",
      "label {\n",
      "  key: \"values\"\n",
      "  value {\n",
      "    int32_tensor {\n",
      "      values: 0\n",
      "    }\n",
      "  }\n",
      "}\n",
      "\n",
      "record: 2\n",
      "features {\n",
      "  key: \"values\"\n",
      "  value {\n",
      "    float64_tensor {\n",
      "      values: 0.20671915533942642\n",
      "      values: 127.0\n",
      "      values: 8.779030712603621\n",
      "    }\n",
      "  }\n",
      "}\n",
      "label {\n",
      "  key: \"values\"\n",
      "  value {\n",
      "    int32_tensor {\n",
      "      values: 1\n",
      "    }\n",
      "  }\n",
      "}\n",
      "\n"
     ]
    }
   ],
   "source": [
    "read_recordio_file('demoFile.recordio', 3)"
   ]
  },
  {
   "cell_type": "markdown",
   "metadata": {},
   "source": [
    "Displays in a JSON format"
   ]
  },
  {
   "cell_type": "code",
   "execution_count": 26,
   "metadata": {},
   "outputs": [],
   "source": [
    "write_to_s3('demoFile.recordio', s3_bucket_name, 'dataFormats/demoFile.recordio')"
   ]
  },
  {
   "cell_type": "code",
   "execution_count": 27,
   "metadata": {},
   "outputs": [],
   "source": [
    "download_from_s3('demoFile.recordio', s3_bucket_name, 'dataFormats/demoFile.recordio')"
   ]
  },
  {
   "cell_type": "code",
   "execution_count": null,
   "metadata": {},
   "outputs": [],
   "source": []
  }
 ],
 "metadata": {
  "kernelspec": {
   "display_name": "conda_tensorflow_p36",
   "language": "python",
   "name": "conda_tensorflow_p36"
  },
  "language_info": {
   "codemirror_mode": {
    "name": "ipython",
    "version": 3
   },
   "file_extension": ".py",
   "mimetype": "text/x-python",
   "name": "python",
   "nbconvert_exporter": "python",
   "pygments_lexer": "ipython3",
   "version": "3.6.5"
  }
 },
 "nbformat": 4,
 "nbformat_minor": 4
}
