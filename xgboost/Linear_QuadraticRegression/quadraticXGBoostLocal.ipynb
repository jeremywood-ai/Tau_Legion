{
 "cells": [
  {
   "cell_type": "markdown",
   "metadata": {},
   "source": [
    "# Quadratic Regression Dataset - Linear Regression vs. XGBoost\n",
    "Comparing Linear Regression and XGBoost in a non-linear dataset.\n",
    "\n",
    "This Jupyter Notebook uses Amazon's Elastic Interface *conda*, updated to *TensorFlow 2.0* in *Python 3.6.7*\n",
    "\n",
    "Find table versions at the bottom of notebook."
   ]
  },
  {
   "cell_type": "markdown",
   "metadata": {},
   "source": [
    "## Check for Required Libraries (Optional)"
   ]
  },
  {
   "cell_type": "code",
   "execution_count": null,
   "metadata": {},
   "outputs": [],
   "source": [
    "!conda list numpy\n",
    "!conda list pandas\n",
    "!conda list matplotlib\n",
    "!conda list python\n",
    "!conda list tensorflow"
   ]
  },
  {
   "cell_type": "markdown",
   "metadata": {},
   "source": [
    "## Install Missing Packages (Optional)"
   ]
  },
  {
   "cell_type": "code",
   "execution_count": null,
   "metadata": {},
   "outputs": [],
   "source": [
    "# conda install <package> -y -c conda-forge\n",
    "!conda install tensorflow==2.0 -y -c conda-forge"
   ]
  },
  {
   "cell_type": "markdown",
   "metadata": {},
   "source": [
    "## Install XGBoost into the Notebook"
   ]
  },
  {
   "cell_type": "code",
   "execution_count": null,
   "metadata": {},
   "outputs": [],
   "source": [
    "!conda install xgboost -y -c conda-forge"
   ]
  },
  {
   "cell_type": "markdown",
   "metadata": {},
   "source": [
    "## Import libraries"
   ]
  },
  {
   "cell_type": "code",
   "execution_count": 1,
   "metadata": {},
   "outputs": [],
   "source": [
    "import sys\n",
    "import numpy as np\n",
    "import pandas as pd\n",
    "import matplotlib.pyplot as plt\n",
    "from sklearn.metrics import mean_squared_error, mean_absolute_error\n",
    "\n",
    "# XGBoost\n",
    "import xgboost as xgb\n",
    "# Linear Regression\n",
    "from sklearn.linear_model import LinearRegression"
   ]
  },
  {
   "cell_type": "markdown",
   "metadata": {},
   "source": [
    "## Read Quadratic Dataset\n",
    "\n",
    "Call infromation from *quadraticAll.csv*"
   ]
  },
  {
   "cell_type": "code",
   "execution_count": 2,
   "metadata": {},
   "outputs": [],
   "source": [
    "df = pd.read_csv('quadraticAll.csv')"
   ]
  },
  {
   "cell_type": "code",
   "execution_count": 3,
   "metadata": {},
   "outputs": [
    {
     "data": {
      "text/html": [
       "<div>\n",
       "<style scoped>\n",
       "    .dataframe tbody tr th:only-of-type {\n",
       "        vertical-align: middle;\n",
       "    }\n",
       "\n",
       "    .dataframe tbody tr th {\n",
       "        vertical-align: top;\n",
       "    }\n",
       "\n",
       "    .dataframe thead th {\n",
       "        text-align: right;\n",
       "    }\n",
       "</style>\n",
       "<table border=\"1\" class=\"dataframe\">\n",
       "  <thead>\n",
       "    <tr style=\"text-align: right;\">\n",
       "      <th></th>\n",
       "      <th>x</th>\n",
       "      <th>y</th>\n",
       "    </tr>\n",
       "  </thead>\n",
       "  <tbody>\n",
       "    <tr>\n",
       "      <th>0</th>\n",
       "      <td>-20.0</td>\n",
       "      <td>2473.236825</td>\n",
       "    </tr>\n",
       "    <tr>\n",
       "      <th>1</th>\n",
       "      <td>-19.8</td>\n",
       "      <td>2405.673895</td>\n",
       "    </tr>\n",
       "    <tr>\n",
       "      <th>2</th>\n",
       "      <td>-19.6</td>\n",
       "      <td>2444.523136</td>\n",
       "    </tr>\n",
       "    <tr>\n",
       "      <th>3</th>\n",
       "      <td>-19.4</td>\n",
       "      <td>2320.437236</td>\n",
       "    </tr>\n",
       "    <tr>\n",
       "      <th>4</th>\n",
       "      <td>-19.2</td>\n",
       "      <td>2288.088295</td>\n",
       "    </tr>\n",
       "  </tbody>\n",
       "</table>\n",
       "</div>"
      ],
      "text/plain": [
       "      x            y\n",
       "0 -20.0  2473.236825\n",
       "1 -19.8  2405.673895\n",
       "2 -19.6  2444.523136\n",
       "3 -19.4  2320.437236\n",
       "4 -19.2  2288.088295"
      ]
     },
     "execution_count": 3,
     "metadata": {},
     "output_type": "execute_result"
    }
   ],
   "source": [
    "df.head() # value check"
   ]
  },
  {
   "cell_type": "markdown",
   "metadata": {},
   "source": [
    "### Plotting the first target"
   ]
  },
  {
   "cell_type": "code",
   "execution_count": 4,
   "metadata": {},
   "outputs": [
    {
     "data": {
      "image/png": "[encoded data removed]",
      "text/plain": [
       "<Figure size 432x288 with 1 Axes>"
      ]
     },
     "metadata": {},
     "output_type": "display_data"
    }
   ],
   "source": [
    "plt.plot(df.x,df.y,label='Target')\n",
    "plt.grid(True)\n",
    "plt.xlabel('Input Feature')\n",
    "plt.ylabel('Target')\n",
    "plt.legend()\n",
    "plt.title('Quadratic Regression Dataset')\n",
    "plt.show()"
   ]
  },
  {
   "cell_type": "code",
   "execution_count": 5,
   "metadata": {},
   "outputs": [],
   "source": [
    "train_file = 'quadratic_train.csv'\n",
    "validation_file = 'quadratic_validation.csv'\n",
    "\n",
    "# specify column names, since there are no headers in the files\n",
    "df_train = pd.read_csv(train_file,names=['y','x'])\n",
    "df_validation = pd.read_csv(validation_file,names=['y','x'])"
   ]
  },
  {
   "cell_type": "code",
   "execution_count": 6,
   "metadata": {},
   "outputs": [
    {
     "data": {
      "text/html": [
       "<div>\n",
       "<style scoped>\n",
       "    .dataframe tbody tr th:only-of-type {\n",
       "        vertical-align: middle;\n",
       "    }\n",
       "\n",
       "    .dataframe tbody tr th {\n",
       "        vertical-align: top;\n",
       "    }\n",
       "\n",
       "    .dataframe thead th {\n",
       "        text-align: right;\n",
       "    }\n",
       "</style>\n",
       "<table border=\"1\" class=\"dataframe\">\n",
       "  <thead>\n",
       "    <tr style=\"text-align: right;\">\n",
       "      <th></th>\n",
       "      <th>y</th>\n",
       "      <th>x</th>\n",
       "    </tr>\n",
       "  </thead>\n",
       "  <tbody>\n",
       "    <tr>\n",
       "      <th>0</th>\n",
       "      <td>1437.374327</td>\n",
       "      <td>-14.8</td>\n",
       "    </tr>\n",
       "    <tr>\n",
       "      <th>1</th>\n",
       "      <td>-15.668625</td>\n",
       "      <td>4.4</td>\n",
       "    </tr>\n",
       "    <tr>\n",
       "      <th>2</th>\n",
       "      <td>1213.494519</td>\n",
       "      <td>18.0</td>\n",
       "    </tr>\n",
       "    <tr>\n",
       "      <th>3</th>\n",
       "      <td>922.663154</td>\n",
       "      <td>-11.4</td>\n",
       "    </tr>\n",
       "    <tr>\n",
       "      <th>4</th>\n",
       "      <td>358.480992</td>\n",
       "      <td>-6.2</td>\n",
       "    </tr>\n",
       "  </tbody>\n",
       "</table>\n",
       "</div>"
      ],
      "text/plain": [
       "             y     x\n",
       "0  1437.374327 -14.8\n",
       "1   -15.668625   4.4\n",
       "2  1213.494519  18.0\n",
       "3   922.663154 -11.4\n",
       "4   358.480992  -6.2"
      ]
     },
     "execution_count": 6,
     "metadata": {},
     "output_type": "execute_result"
    }
   ],
   "source": [
    "df_train.head() # data check"
   ]
  },
  {
   "cell_type": "markdown",
   "metadata": {},
   "source": [
    "### Scatter Plot Training, Validation Datasets"
   ]
  },
  {
   "cell_type": "code",
   "execution_count": 7,
   "metadata": {},
   "outputs": [
    {
     "data": {
      "image/png": "[encoded data removed]",
      "text/plain": [
       "<Figure size 432x288 with 1 Axes>"
      ]
     },
     "metadata": {},
     "output_type": "display_data"
    }
   ],
   "source": [
    "plt.scatter(df_train.x,df_train.y, label='Training', marker='.')\n",
    "plt.scatter(df_validation.x,df_validation.y, label='Validation', marker='.')\n",
    "plt.grid(True)\n",
    "plt.xlabel('Input Feature')\n",
    "plt.ylabel('Target')\n",
    "plt.title('Quadratic Regression Dataset')\n",
    "plt.legend()\n",
    "plt.show()"
   ]
  },
  {
   "cell_type": "markdown",
   "metadata": {},
   "source": [
    "### Prepare Datasets for Regressors\n",
    "Pay attention to column markers (:)"
   ]
  },
  {
   "cell_type": "code",
   "execution_count": 8,
   "metadata": {},
   "outputs": [],
   "source": [
    "# Reminder Python indices start @ 0\n",
    "X_train = df_train.iloc[:,1:] # Features in the 2nd column to the end\n",
    "y_train = df_train.iloc[:,0].ravel() # Target: 1st (0th) column, then flattened\n",
    "\n",
    "X_validation = df_validation.iloc[:,1:]\n",
    "y_validation = df_validation.iloc[:,0].ravel()"
   ]
  },
  {
   "cell_type": "markdown",
   "metadata": {},
   "source": [
    "### Create an XGBoost Instance\n",
    "\n",
    "For this project, I loaded XGBoost configured for regressor with squared loss *(objective='reg:squarederror')*\n",
    "\n",
    "Parameters page found [here](https://github.com/dmlc/xgboost/blob/master/doc/parameter.rst)"
   ]
  },
  {
   "cell_type": "code",
   "execution_count": 11,
   "metadata": {},
   "outputs": [
    {
     "data": {
      "text/plain": [
       "XGBRegressor(base_score=0.5, booster='gbtree', colsample_bylevel=1,\n",
       "       colsample_bynode=1, colsample_bytree=1, gamma=0,\n",
       "       importance_type='gain', learning_rate=0.1, max_delta_step=0,\n",
       "       max_depth=3, min_child_weight=1, missing=None, n_estimators=100,\n",
       "       n_jobs=1, nthread=None, objective='reg:squarederror',\n",
       "       random_state=0, reg_alpha=0, reg_lambda=1, scale_pos_weight=1,\n",
       "       seed=None, silent=None, subsample=1, verbosity=1)"
      ]
     },
     "execution_count": 11,
     "metadata": {},
     "output_type": "execute_result"
    }
   ],
   "source": [
    "regressor = xgb.XGBRegressor(objective='reg:squarederror')\n",
    "\n",
    "regressor # display current settings"
   ]
  },
  {
   "cell_type": "markdown",
   "metadata": {},
   "source": [
    "### Fit Regressor to Dataset"
   ]
  },
  {
   "cell_type": "code",
   "execution_count": 12,
   "metadata": {},
   "outputs": [
    {
     "name": "stdout",
     "output_type": "stream",
     "text": [
      "[0]\tvalidation_0-rmse:869.603\tvalidation_1-rmse:711.589\n",
      "[1]\tvalidation_0-rmse:791.625\tvalidation_1-rmse:648.226\n",
      "[2]\tvalidation_0-rmse:720.706\tvalidation_1-rmse:588.526\n",
      "[3]\tvalidation_0-rmse:656.685\tvalidation_1-rmse:536.031\n",
      "[4]\tvalidation_0-rmse:597.67\tvalidation_1-rmse:486.695\n",
      "[5]\tvalidation_0-rmse:544.342\tvalidation_1-rmse:440.9\n",
      "[6]\tvalidation_0-rmse:497.244\tvalidation_1-rmse:404.041\n",
      "[7]\tvalidation_0-rmse:453.641\tvalidation_1-rmse:367.697\n",
      "[8]\tvalidation_0-rmse:413.344\tvalidation_1-rmse:334.154\n",
      "[9]\tvalidation_0-rmse:377.866\tvalidation_1-rmse:305.403\n",
      "[10]\tvalidation_0-rmse:344.76\tvalidation_1-rmse:276.599\n",
      "[11]\tvalidation_0-rmse:315.375\tvalidation_1-rmse:252.728\n",
      "[12]\tvalidation_0-rmse:288.477\tvalidation_1-rmse:229.76\n",
      "[13]\tvalidation_0-rmse:263.42\tvalidation_1-rmse:208.331\n",
      "[14]\tvalidation_0-rmse:240.529\tvalidation_1-rmse:188.473\n",
      "[15]\tvalidation_0-rmse:220.115\tvalidation_1-rmse:170.873\n",
      "[16]\tvalidation_0-rmse:201.136\tvalidation_1-rmse:154.96\n",
      "[17]\tvalidation_0-rmse:185.113\tvalidation_1-rmse:143.169\n",
      "[18]\tvalidation_0-rmse:170.595\tvalidation_1-rmse:132.666\n",
      "[19]\tvalidation_0-rmse:156.391\tvalidation_1-rmse:120.462\n",
      "[20]\tvalidation_0-rmse:144.479\tvalidation_1-rmse:111.939\n",
      "[21]\tvalidation_0-rmse:132.47\tvalidation_1-rmse:101.27\n",
      "[22]\tvalidation_0-rmse:121.818\tvalidation_1-rmse:92.7428\n",
      "[23]\tvalidation_0-rmse:111.908\tvalidation_1-rmse:84.1602\n",
      "[24]\tvalidation_0-rmse:102.954\tvalidation_1-rmse:76.4107\n",
      "[25]\tvalidation_0-rmse:94.8488\tvalidation_1-rmse:69.5135\n",
      "[26]\tvalidation_0-rmse:88.1877\tvalidation_1-rmse:64.8968\n",
      "[27]\tvalidation_0-rmse:81.8329\tvalidation_1-rmse:60.4984\n",
      "[28]\tvalidation_0-rmse:75.7088\tvalidation_1-rmse:54.9728\n",
      "[29]\tvalidation_0-rmse:70.738\tvalidation_1-rmse:52.1619\n",
      "[30]\tvalidation_0-rmse:66.2695\tvalidation_1-rmse:49.702\n",
      "[31]\tvalidation_0-rmse:61.661\tvalidation_1-rmse:46.3534\n",
      "[32]\tvalidation_0-rmse:57.4394\tvalidation_1-rmse:43.2517\n",
      "[33]\tvalidation_0-rmse:53.7852\tvalidation_1-rmse:40.7431\n",
      "[34]\tvalidation_0-rmse:50.7567\tvalidation_1-rmse:39.1715\n",
      "[35]\tvalidation_0-rmse:47.5795\tvalidation_1-rmse:36.8474\n",
      "[36]\tvalidation_0-rmse:44.5278\tvalidation_1-rmse:34.538\n",
      "[37]\tvalidation_0-rmse:42.3079\tvalidation_1-rmse:33.4786\n",
      "[38]\tvalidation_0-rmse:39.9833\tvalidation_1-rmse:31.8264\n",
      "[39]\tvalidation_0-rmse:37.8473\tvalidation_1-rmse:30.2905\n",
      "[40]\tvalidation_0-rmse:35.8152\tvalidation_1-rmse:28.9649\n",
      "[41]\tvalidation_0-rmse:34.1593\tvalidation_1-rmse:27.8013\n",
      "[42]\tvalidation_0-rmse:32.6728\tvalidation_1-rmse:26.7894\n",
      "[43]\tvalidation_0-rmse:31.4033\tvalidation_1-rmse:26.2833\n",
      "[44]\tvalidation_0-rmse:30.2706\tvalidation_1-rmse:25.8592\n",
      "[45]\tvalidation_0-rmse:29.1851\tvalidation_1-rmse:25.2963\n",
      "[46]\tvalidation_0-rmse:28.1198\tvalidation_1-rmse:24.7478\n",
      "[47]\tvalidation_0-rmse:27.1987\tvalidation_1-rmse:24.1857\n",
      "[48]\tvalidation_0-rmse:26.4461\tvalidation_1-rmse:23.9788\n",
      "[49]\tvalidation_0-rmse:25.5143\tvalidation_1-rmse:23.4663\n",
      "[50]\tvalidation_0-rmse:24.8501\tvalidation_1-rmse:23.2376\n",
      "[51]\tvalidation_0-rmse:24.0462\tvalidation_1-rmse:22.8057\n",
      "[52]\tvalidation_0-rmse:23.4727\tvalidation_1-rmse:22.4873\n",
      "[53]\tvalidation_0-rmse:23.0135\tvalidation_1-rmse:22.3966\n",
      "[54]\tvalidation_0-rmse:22.4162\tvalidation_1-rmse:22.0401\n",
      "[55]\tvalidation_0-rmse:21.8682\tvalidation_1-rmse:21.7796\n",
      "[56]\tvalidation_0-rmse:21.4998\tvalidation_1-rmse:21.6214\n",
      "[57]\tvalidation_0-rmse:21.1684\tvalidation_1-rmse:21.4714\n",
      "[58]\tvalidation_0-rmse:20.8438\tvalidation_1-rmse:21.2895\n",
      "[59]\tvalidation_0-rmse:20.5825\tvalidation_1-rmse:21.2626\n",
      "[60]\tvalidation_0-rmse:20.3348\tvalidation_1-rmse:21.2319\n",
      "[61]\tvalidation_0-rmse:20.1042\tvalidation_1-rmse:21.2006\n",
      "[62]\tvalidation_0-rmse:19.7888\tvalidation_1-rmse:21.0523\n",
      "[63]\tvalidation_0-rmse:19.6042\tvalidation_1-rmse:20.9641\n",
      "[64]\tvalidation_0-rmse:19.443\tvalidation_1-rmse:20.9436\n",
      "[65]\tvalidation_0-rmse:19.277\tvalidation_1-rmse:20.9185\n",
      "[66]\tvalidation_0-rmse:18.8301\tvalidation_1-rmse:20.427\n",
      "[67]\tvalidation_0-rmse:18.6221\tvalidation_1-rmse:20.3335\n",
      "[68]\tvalidation_0-rmse:18.2461\tvalidation_1-rmse:19.9286\n",
      "[69]\tvalidation_0-rmse:18.1374\tvalidation_1-rmse:19.9051\n",
      "[70]\tvalidation_0-rmse:17.9839\tvalidation_1-rmse:19.8473\n",
      "[71]\tvalidation_0-rmse:17.6595\tvalidation_1-rmse:19.506\n",
      "[72]\tvalidation_0-rmse:17.5288\tvalidation_1-rmse:19.4577\n",
      "[73]\tvalidation_0-rmse:17.2439\tvalidation_1-rmse:19.155\n",
      "[74]\tvalidation_0-rmse:17.0027\tvalidation_1-rmse:18.8966\n",
      "[75]\tvalidation_0-rmse:16.8917\tvalidation_1-rmse:18.8162\n",
      "[76]\tvalidation_0-rmse:16.6702\tvalidation_1-rmse:18.582\n",
      "[77]\tvalidation_0-rmse:16.6131\tvalidation_1-rmse:18.5665\n",
      "[78]\tvalidation_0-rmse:16.5522\tvalidation_1-rmse:18.5354\n",
      "[79]\tvalidation_0-rmse:16.4748\tvalidation_1-rmse:18.5037\n",
      "[80]\tvalidation_0-rmse:16.2837\tvalidation_1-rmse:18.2919\n",
      "[81]\tvalidation_0-rmse:16.2182\tvalidation_1-rmse:18.3045\n",
      "[82]\tvalidation_0-rmse:16.0508\tvalidation_1-rmse:18.117\n",
      "[83]\tvalidation_0-rmse:15.8989\tvalidation_1-rmse:17.9804\n",
      "[84]\tvalidation_0-rmse:15.8647\tvalidation_1-rmse:17.975\n",
      "[85]\tvalidation_0-rmse:15.8112\tvalidation_1-rmse:17.9846\n",
      "[86]\tvalidation_0-rmse:15.6812\tvalidation_1-rmse:17.8626\n",
      "[87]\tvalidation_0-rmse:15.567\tvalidation_1-rmse:17.7336\n",
      "[88]\tvalidation_0-rmse:15.5181\tvalidation_1-rmse:17.7408\n",
      "[89]\tvalidation_0-rmse:15.4142\tvalidation_1-rmse:17.6454\n",
      "[90]\tvalidation_0-rmse:15.3193\tvalidation_1-rmse:17.5537\n",
      "[91]\tvalidation_0-rmse:15.2325\tvalidation_1-rmse:17.447\n",
      "[92]\tvalidation_0-rmse:15.2145\tvalidation_1-rmse:17.441\n",
      "[93]\tvalidation_0-rmse:15.1807\tvalidation_1-rmse:17.4566\n",
      "[94]\tvalidation_0-rmse:15.1007\tvalidation_1-rmse:17.3711\n",
      "[95]\tvalidation_0-rmse:15.0716\tvalidation_1-rmse:17.3858\n",
      "[96]\tvalidation_0-rmse:15.002\tvalidation_1-rmse:17.3162\n",
      "[97]\tvalidation_0-rmse:14.941\tvalidation_1-rmse:17.2819\n",
      "[98]\tvalidation_0-rmse:14.9299\tvalidation_1-rmse:17.2819\n",
      "[99]\tvalidation_0-rmse:14.871\tvalidation_1-rmse:17.223\n"
     ]
    },
    {
     "data": {
      "text/plain": [
       "XGBRegressor(base_score=0.5, booster='gbtree', colsample_bylevel=1,\n",
       "       colsample_bynode=1, colsample_bytree=1, gamma=0,\n",
       "       importance_type='gain', learning_rate=0.1, max_delta_step=0,\n",
       "       max_depth=3, min_child_weight=1, missing=None, n_estimators=100,\n",
       "       n_jobs=1, nthread=None, objective='reg:squarederror',\n",
       "       random_state=0, reg_alpha=0, reg_lambda=1, scale_pos_weight=1,\n",
       "       seed=None, silent=None, subsample=1, verbosity=1)"
      ]
     },
     "execution_count": 12,
     "metadata": {},
     "output_type": "execute_result"
    }
   ],
   "source": [
    "regressor.fit(X_train, y_train, eval_set = [(X_train, y_train), (X_validation, y_validation)])"
   ]
  },
  {
   "cell_type": "markdown",
   "metadata": {},
   "source": [
    "### Plot the Error Results\n",
    "Previously, one could notice that the RMSE values trended downward. To visualize, plot the errors."
   ]
  },
  {
   "cell_type": "code",
   "execution_count": 13,
   "metadata": {},
   "outputs": [],
   "source": [
    "evals_result = regressor.evals_result()"
   ]
  },
  {
   "cell_type": "code",
   "execution_count": 14,
   "metadata": {},
   "outputs": [],
   "source": [
    "# Training Rounds for the Plot\n",
    "training_rounds = range(len(evals_result['validation_0']['rmse']))"
   ]
  },
  {
   "cell_type": "code",
   "execution_count": 15,
   "metadata": {},
   "outputs": [
    {
     "data": {
      "image/png": "[encoded data removed]",
      "text/plain": [
       "<Figure size 432x288 with 1 Axes>"
      ]
     },
     "metadata": {},
     "output_type": "display_data"
    }
   ],
   "source": [
    "plt.scatter(x=training_rounds,y=evals_result['validation_0']['rmse'],label='Training Error')\n",
    "plt.scatter(x=training_rounds,y=evals_result['validation_1']['rmse'],label='Validation Error')\n",
    "\n",
    "plt.grid(True)\n",
    "plt.xlabel('Round')\n",
    "plt.ylabel('RMSE')\n",
    "plt.legend()\n",
    "plt.title('Training vs. Validation Error')\n",
    "plt.show()"
   ]
  },
  {
   "cell_type": "markdown",
   "metadata": {},
   "source": [
    "### XGBoost Feature Importance\n",
    "\n",
    "*plot_importance* function shows which features were usefule in the model's operation."
   ]
  },
  {
   "cell_type": "code",
   "execution_count": 16,
   "metadata": {},
   "outputs": [
    {
     "data": {
      "image/png": "[encoded data removed]",
      "text/plain": [
       "<Figure size 432x288 with 1 Axes>"
      ]
     },
     "metadata": {},
     "output_type": "display_data"
    }
   ],
   "source": [
    "xgb.plot_importance(regressor) # To find which features were useful in the model\n",
    "plt.show()"
   ]
  },
  {
   "cell_type": "markdown",
   "metadata": {},
   "source": [
    "In this case, *x* was the only feature. This become more interesting with more complex models."
   ]
  },
  {
   "cell_type": "markdown",
   "metadata": {},
   "source": [
    "## Validation Dataset: Compare Actual and Predicted\n",
    "This section focused on evaluating the performance of the model."
   ]
  },
  {
   "cell_type": "code",
   "execution_count": 17,
   "metadata": {},
   "outputs": [
    {
     "data": {
      "text/plain": [
       "array([1436.2847  ,  -15.541119, 1210.7617  ,  943.13727 ,  307.71094 ],\n",
       "      dtype=float32)"
      ]
     },
     "execution_count": 17,
     "metadata": {},
     "output_type": "execute_result"
    }
   ],
   "source": [
    "result=regressor.predict(X_validation) # predicted results for plotting\n",
    "\n",
    "result[:5] # data check"
   ]
  },
  {
   "cell_type": "code",
   "execution_count": 18,
   "metadata": {},
   "outputs": [
    {
     "data": {
      "image/png": "[encoded data removed]",
      "text/plain": [
       "<Figure size 432x288 with 1 Axes>"
      ]
     },
     "metadata": {},
     "output_type": "display_data"
    }
   ],
   "source": [
    "plt.scatter(df_validation.x, df_validation.y, label='actual', marker='.')\n",
    "plt.scatter(df_validation.x, result, label='predicted', marker='.')\n",
    "plt.grid(True)\n",
    "plt.legend()\n",
    "plt.title('XGBoost: Validation Dataset')\n",
    "plt.show()"
   ]
  },
  {
   "cell_type": "markdown",
   "metadata": {},
   "source": [
    "### Display Root Mean Square Metrics"
   ]
  },
  {
   "cell_type": "code",
   "execution_count": 19,
   "metadata": {},
   "outputs": [
    {
     "name": "stdout",
     "output_type": "stream",
     "text": [
      "XGBoost Algorithm Metrics\n",
      " Mean Squared Error: 296.63\n",
      " Root Mean Square Error: 17.22\n"
     ]
    }
   ],
   "source": [
    "# RMSE Metrics\n",
    "print('XGBoost Algorithm Metrics')\n",
    "mse = mean_squared_error(df_validation.y,result)\n",
    "print(\" Mean Squared Error: {0:.2f}\".format(mse))\n",
    "print(\" Root Mean Square Error: {0:.2f}\".format(mse**.5))"
   ]
  },
  {
   "cell_type": "markdown",
   "metadata": {},
   "source": [
    "### Plot XGBoost Residuals Histogram"
   ]
  },
  {
   "cell_type": "code",
   "execution_count": 20,
   "metadata": {},
   "outputs": [
    {
     "data": {
      "image/png": "[encoded data removed]",
      "text/plain": [
       "<Figure size 432x288 with 1 Axes>"
      ]
     },
     "metadata": {},
     "output_type": "display_data"
    }
   ],
   "source": [
    "# Over prediction and Under Prediction needs to be balanced\n",
    "# Training Data Residuals\n",
    "residuals = df_validation.y - result\n",
    "plt.hist(residuals)\n",
    "plt.grid(True)\n",
    "plt.xlabel('Actual - Predicted')\n",
    "plt.ylabel('Count')\n",
    "plt.title('XGBoost Residual')\n",
    "plt.axvline(color='r')\n",
    "plt.show()"
   ]
  },
  {
   "cell_type": "markdown",
   "metadata": {},
   "source": [
    "### Count Residuals Greater Than Zero and Less Than Zero\n",
    "\n",
    "Residual is also known as a first order term."
   ]
  },
  {
   "cell_type": "code",
   "execution_count": 21,
   "metadata": {},
   "outputs": [
    {
     "name": "stdout",
     "output_type": "stream",
     "text": [
      " Under Estimation: 25\n",
      " Over  Estimation: 37\n"
     ]
    }
   ],
   "source": [
    "value_counts = (residuals > 0).value_counts(sort=False)\n",
    "\n",
    "print(' Under Estimation: {0}'.format(value_counts[True]))\n",
    "print(' Over  Estimation: {0}'.format(value_counts[False]))"
   ]
  },
  {
   "cell_type": "markdown",
   "metadata": {},
   "source": [
    "### Plot Dataset"
   ]
  },
  {
   "cell_type": "code",
   "execution_count": 22,
   "metadata": {},
   "outputs": [
    {
     "data": {
      "image/png": "[encoded data removed]",
      "text/plain": [
       "<Figure size 432x288 with 1 Axes>"
      ]
     },
     "metadata": {},
     "output_type": "display_data"
    }
   ],
   "source": [
    "plt.plot(df.x,df.y,label='Target')\n",
    "plt.plot(df.x,regressor.predict(df[['x']]) ,label='Predicted')\n",
    "plt.grid(True)\n",
    "plt.xlabel('Input Feature')\n",
    "plt.ylabel('Target')\n",
    "plt.legend()\n",
    "plt.title('XGBoost')\n",
    "plt.show()"
   ]
  },
  {
   "cell_type": "markdown",
   "metadata": {},
   "source": [
    "Notice, *Predicted* and *Target* are closely plotted."
   ]
  },
  {
   "cell_type": "markdown",
   "metadata": {},
   "source": [
    "## Linear Regression Algorithm"
   ]
  },
  {
   "cell_type": "code",
   "execution_count": 23,
   "metadata": {},
   "outputs": [
    {
     "data": {
      "text/plain": [
       "LinearRegression(copy_X=True, fit_intercept=True, n_jobs=None,\n",
       "         normalize=False)"
      ]
     },
     "execution_count": 23,
     "metadata": {},
     "output_type": "execute_result"
    }
   ],
   "source": [
    "linear_regressor = LinearRegression()\n",
    "linear_regressor.fit(X_train,y_train)"
   ]
  },
  {
   "cell_type": "markdown",
   "metadata": {},
   "source": [
    "## Compare Weights Assigned by Linear Regression to XGBoost\n",
    "\n",
    "Recall: Original function was _5x**2 -23x + 47 + random noise_"
   ]
  },
  {
   "cell_type": "code",
   "execution_count": 24,
   "metadata": {},
   "outputs": [
    {
     "data": {
      "text/plain": [
       "array([-18.3888435])"
      ]
     },
     "execution_count": 24,
     "metadata": {},
     "output_type": "execute_result"
    }
   ],
   "source": [
    "linear_regressor.coef_"
   ]
  },
  {
   "cell_type": "code",
   "execution_count": 25,
   "metadata": {},
   "outputs": [
    {
     "data": {
      "text/plain": [
       "685.1279620625199"
      ]
     },
     "execution_count": 25,
     "metadata": {},
     "output_type": "execute_result"
    }
   ],
   "source": [
    "linear_regressor.intercept_"
   ]
  },
  {
   "cell_type": "code",
   "execution_count": 26,
   "metadata": {},
   "outputs": [],
   "source": [
    "result = linear_regressor.predict(df_validation[['x']])"
   ]
  },
  {
   "cell_type": "code",
   "execution_count": 27,
   "metadata": {},
   "outputs": [
    {
     "data": {
      "image/png": "[encoded data removed]",
      "text/plain": [
       "<Figure size 432x288 with 1 Axes>"
      ]
     },
     "metadata": {},
     "output_type": "display_data"
    }
   ],
   "source": [
    "plt.title('LinearRegression - Validation Dataset')\n",
    "plt.scatter(df_validation.x,df_validation.y,label='actual',marker='.')\n",
    "plt.scatter(df_validation.x,result,label='predicted',marker='.')\n",
    "plt.grid(True)\n",
    "plt.legend()\n",
    "plt.show()"
   ]
  },
  {
   "cell_type": "markdown",
   "metadata": {},
   "source": [
    "Clearly, *Linear Regression* is not the correct tool in its current form for this type of data."
   ]
  },
  {
   "cell_type": "markdown",
   "metadata": {},
   "source": [
    "### Linear RMSE Metrics"
   ]
  },
  {
   "cell_type": "code",
   "execution_count": 28,
   "metadata": {},
   "outputs": [
    {
     "name": "stdout",
     "output_type": "stream",
     "text": [
      "Linear Regression Metrics\n",
      " Mean Squared Error: 286069.90\n",
      " Root Mean Square Error: 534.86\n"
     ]
    }
   ],
   "source": [
    "print('Linear Regression Metrics')\n",
    "mse = mean_squared_error(df_validation.y,result)\n",
    "print(\" Mean Squared Error: {0:.2f}\".format(mse))\n",
    "print(\" Root Mean Square Error: {0:.2f}\".format(mse**.5))"
   ]
  },
  {
   "cell_type": "markdown",
   "metadata": {},
   "source": [
    "### Linear Residual Histogram"
   ]
  },
  {
   "cell_type": "code",
   "execution_count": 29,
   "metadata": {},
   "outputs": [
    {
     "data": {
      "image/png": "[encoded data removed]",
      "text/plain": [
       "<Figure size 432x288 with 1 Axes>"
      ]
     },
     "metadata": {},
     "output_type": "display_data"
    }
   ],
   "source": [
    "# Over prediction and Under Prediction needs to be balanced\n",
    "# Training Data Residuals\n",
    "residuals = df_validation.y - result\n",
    "plt.hist(residuals)\n",
    "plt.grid(True)\n",
    "plt.xlabel('Actual - Predicted')\n",
    "plt.ylabel('Count')\n",
    "plt.title('Linear Regression Residual')\n",
    "plt.axvline(color='r')\n",
    "plt.show()"
   ]
  },
  {
   "cell_type": "markdown",
   "metadata": {},
   "source": [
    "### Count Values Greater Than Zero and Less Than Zero (Linear)"
   ]
  },
  {
   "cell_type": "code",
   "execution_count": 30,
   "metadata": {},
   "outputs": [
    {
     "name": "stdout",
     "output_type": "stream",
     "text": [
      " Under Estimation: 26\n",
      " Over  Estimation: 36\n"
     ]
    }
   ],
   "source": [
    "value_counts = (residuals > 0).value_counts(sort=False)\n",
    "\n",
    "print(' Under Estimation: {0}'.format(value_counts[True]))\n",
    "print(' Over  Estimation: {0}'.format(value_counts[False]))"
   ]
  },
  {
   "cell_type": "markdown",
   "metadata": {},
   "source": [
    "### Plot All Dataset vs. Linear Regressor"
   ]
  },
  {
   "cell_type": "code",
   "execution_count": 31,
   "metadata": {},
   "outputs": [
    {
     "data": {
      "image/png": "[encoded data removed]",
      "text/plain": [
       "<Figure size 432x288 with 1 Axes>"
      ]
     },
     "metadata": {},
     "output_type": "display_data"
    }
   ],
   "source": [
    "plt.plot(df.x,df.y,label='Target')\n",
    "plt.plot(df.x,linear_regressor.predict(df[['x']]) ,label='Predicted')\n",
    "plt.grid(True)\n",
    "plt.xlabel('Input Feature')\n",
    "plt.ylabel('Target')\n",
    "plt.legend()\n",
    "plt.title('LinearRegression')\n",
    "plt.show()"
   ]
  },
  {
   "cell_type": "markdown",
   "metadata": {},
   "source": [
    "## How Would I Correct This Under-Fitting Issue by Added Relavant Features?\n",
    "\n",
    "1. What feature will I add and why?\n",
    "1. Complete the code and Test\n",
    "1. What performance do I see?"
   ]
  },
  {
   "cell_type": "markdown",
   "metadata": {},
   "source": [
    "### Reload Dataset for Testing"
   ]
  },
  {
   "cell_type": "code",
   "execution_count": 32,
   "metadata": {},
   "outputs": [],
   "source": [
    "# Specify the column names as the file does not have column header\n",
    "df_train = pd.read_csv(train_file,names=['y','x'])\n",
    "df_validation = pd.read_csv(validation_file,names=['y','x'])\n",
    "df = pd.read_csv('quadraticAll.csv')"
   ]
  },
  {
   "cell_type": "markdown",
   "metadata": {},
   "source": [
    "### Add New Features (Code Block Area to Coreect Linear Underfit)"
   ]
  },
  {
   "cell_type": "code",
   "execution_count": 33,
   "metadata": {},
   "outputs": [],
   "source": [
    "# Place holder to add new features to df_train, df_validation and df\n",
    "# if you need help, scroll down to see the answer\n",
    "# Add your code\n",
    "\n",
    "\n",
    "\n",
    "\n",
    "\n",
    "\n",
    "\n",
    "\n",
    "\n",
    "\n",
    "\n",
    "\n",
    "df_train['x2'] = df_train['x']**2\n",
    "\n",
    "df_validation['x2'] = df_validation['x']**2\n",
    "\n",
    "df['x2']=df['x']**2\n",
    "\n",
    "\n",
    "\n"
   ]
  },
  {
   "cell_type": "code",
   "execution_count": 34,
   "metadata": {},
   "outputs": [],
   "source": [
    "X_train = df_train.iloc[:,1:] # Features: 2nd column onward\n",
    "y_train = df_train.iloc[:,0] # Taregt: 1st Column (0th)\n",
    "\n",
    "X_validation = df_validation.iloc[:,1:]\n",
    "y_validation = df_validation.iloc[:,0].ravel()"
   ]
  },
  {
   "cell_type": "code",
   "execution_count": 35,
   "metadata": {},
   "outputs": [
    {
     "data": {
      "text/plain": [
       "LinearRegression(copy_X=True, fit_intercept=True, n_jobs=None,\n",
       "         normalize=False)"
      ]
     },
     "execution_count": 35,
     "metadata": {},
     "output_type": "execute_result"
    }
   ],
   "source": [
    "linear_regressor.fit(X_train,y_train)"
   ]
  },
  {
   "cell_type": "code",
   "execution_count": 36,
   "metadata": {},
   "outputs": [
    {
     "data": {
      "text/plain": [
       "array([-23.0940711 ,   4.99583483])"
      ]
     },
     "execution_count": 36,
     "metadata": {},
     "output_type": "execute_result"
    }
   ],
   "source": [
    "linear_regressor.coef_"
   ]
  },
  {
   "cell_type": "code",
   "execution_count": 37,
   "metadata": {},
   "outputs": [
    {
     "data": {
      "text/plain": [
       "-0.04794651430643171"
      ]
     },
     "execution_count": 37,
     "metadata": {},
     "output_type": "execute_result"
    }
   ],
   "source": [
    "linear_regressor.intercept_"
   ]
  },
  {
   "cell_type": "code",
   "execution_count": 38,
   "metadata": {},
   "outputs": [],
   "source": [
    "linear_result = linear_regressor.predict(X_validation)"
   ]
  },
  {
   "cell_type": "code",
   "execution_count": 39,
   "metadata": {},
   "outputs": [
    {
     "data": {
      "image/png": "[encoded data removed]",
      "text/plain": [
       "<Figure size 432x288 with 1 Axes>"
      ]
     },
     "metadata": {},
     "output_type": "display_data"
    }
   ],
   "source": [
    "plt.title('New LinearRegression - Validation Dataset')\n",
    "plt.scatter(df_validation.x,df_validation.y,label='actual',marker='.')\n",
    "plt.scatter(df_validation.x,linear_result,label='predicted',marker='.')\n",
    "plt.grid(True)\n",
    "plt.legend()\n",
    "plt.show()"
   ]
  },
  {
   "cell_type": "markdown",
   "metadata": {},
   "source": [
    "### New Linear RMSE Metrics"
   ]
  },
  {
   "cell_type": "code",
   "execution_count": 40,
   "metadata": {},
   "outputs": [
    {
     "name": "stdout",
     "output_type": "stream",
     "text": [
      "Linear Regression Metrics\n",
      " Mean Squared Error: 286069.90\n",
      " Root Mean Square Error: 534.86\n",
      "***This should see an RMSE score of 30.45 or less\n"
     ]
    }
   ],
   "source": [
    "print('Linear Regression Metrics')\n",
    "mse = mean_squared_error(df_validation.y,result)\n",
    "print(\" Mean Squared Error: {0:.2f}\".format(mse))\n",
    "print(\" Root Mean Square Error: {0:.2f}\".format(mse**.5))\n",
    "\n",
    "print(\"***This should see an RMSE score of 30.45 or less\")"
   ]
  },
  {
   "cell_type": "code",
   "execution_count": 41,
   "metadata": {},
   "outputs": [
    {
     "data": {
      "text/html": [
       "<div>\n",
       "<style scoped>\n",
       "    .dataframe tbody tr th:only-of-type {\n",
       "        vertical-align: middle;\n",
       "    }\n",
       "\n",
       "    .dataframe tbody tr th {\n",
       "        vertical-align: top;\n",
       "    }\n",
       "\n",
       "    .dataframe thead th {\n",
       "        text-align: right;\n",
       "    }\n",
       "</style>\n",
       "<table border=\"1\" class=\"dataframe\">\n",
       "  <thead>\n",
       "    <tr style=\"text-align: right;\">\n",
       "      <th></th>\n",
       "      <th>x</th>\n",
       "      <th>y</th>\n",
       "      <th>x2</th>\n",
       "    </tr>\n",
       "  </thead>\n",
       "  <tbody>\n",
       "    <tr>\n",
       "      <th>0</th>\n",
       "      <td>-20.0</td>\n",
       "      <td>2473.236825</td>\n",
       "      <td>400.00</td>\n",
       "    </tr>\n",
       "    <tr>\n",
       "      <th>1</th>\n",
       "      <td>-19.8</td>\n",
       "      <td>2405.673895</td>\n",
       "      <td>392.04</td>\n",
       "    </tr>\n",
       "    <tr>\n",
       "      <th>2</th>\n",
       "      <td>-19.6</td>\n",
       "      <td>2444.523136</td>\n",
       "      <td>384.16</td>\n",
       "    </tr>\n",
       "    <tr>\n",
       "      <th>3</th>\n",
       "      <td>-19.4</td>\n",
       "      <td>2320.437236</td>\n",
       "      <td>376.36</td>\n",
       "    </tr>\n",
       "    <tr>\n",
       "      <th>4</th>\n",
       "      <td>-19.2</td>\n",
       "      <td>2288.088295</td>\n",
       "      <td>368.64</td>\n",
       "    </tr>\n",
       "  </tbody>\n",
       "</table>\n",
       "</div>"
      ],
      "text/plain": [
       "      x            y      x2\n",
       "0 -20.0  2473.236825  400.00\n",
       "1 -19.8  2405.673895  392.04\n",
       "2 -19.6  2444.523136  384.16\n",
       "3 -19.4  2320.437236  376.36\n",
       "4 -19.2  2288.088295  368.64"
      ]
     },
     "execution_count": 41,
     "metadata": {},
     "output_type": "execute_result"
    }
   ],
   "source": [
    "df.head() # data check: x, y, x2"
   ]
  },
  {
   "cell_type": "code",
   "execution_count": 42,
   "metadata": {},
   "outputs": [],
   "source": [
    "### New Plot of Dataset"
   ]
  },
  {
   "cell_type": "code",
   "execution_count": 43,
   "metadata": {},
   "outputs": [
    {
     "data": {
      "image/png": "[encoded data removed]",
      "text/plain": [
       "<Figure size 432x288 with 1 Axes>"
      ]
     },
     "metadata": {},
     "output_type": "display_data"
    }
   ],
   "source": [
    "# Plot for entire dataset\n",
    "plt.plot(df.x,df.y,label='Target')\n",
    "plt.plot(df.x,linear_regressor.predict(df[['x','x2']]) ,label='Predicted')\n",
    "plt.grid(True)\n",
    "plt.xlabel('Input Feature')\n",
    "plt.ylabel('Target')\n",
    "plt.legend()\n",
    "plt.title('LinearRegression')\n",
    "plt.show()"
   ]
  },
  {
   "cell_type": "markdown",
   "metadata": {},
   "source": [
    "### A Solution For Under-Fitting"
   ]
  },
  {
   "cell_type": "markdown",
   "metadata": {},
   "source": [
    "Add an _x**2_ term to the linear dataframe\n",
    "\n",
    "In the **code area block:**\n",
    "```\n",
    "df_train['x2'] = df_train['x']**2\n",
    "\n",
    "df_validation['x2'] = df_validation['x']**2\n",
    "\n",
    "df['x2']=df['x']**2\n",
    "```"
   ]
  },
  {
   "cell_type": "markdown",
   "metadata": {},
   "source": [
    "## Tree-Based Algorithms Have Lower/Upper Bounds for Predictions\n",
    "\n",
    "* XGBoost Prediction has an upper and lower bound (directly applies to tree-based algorithms)\n",
    "* Linear Regression extrapolates"
   ]
  },
  {
   "cell_type": "code",
   "execution_count": 51,
   "metadata": {},
   "outputs": [],
   "source": [
    "# Original Function without Noise\n",
    "def quad_func (x):\n",
    "    return 5*x**2 -23*x + 47 # remember spaces"
   ]
  },
  {
   "cell_type": "markdown",
   "metadata": {},
   "source": [
    "### X is outside the training samples' range\n",
    "\n",
    "Note: new *x2* term is added: x^2"
   ]
  },
  {
   "cell_type": "code",
   "execution_count": 54,
   "metadata": {},
   "outputs": [],
   "source": [
    "X = np.array([-100,-25,25,1000,5000])\n",
    "y = quad_func(X)\n",
    "\n",
    "X = np.array([-100,-25,25,1000,5000])\n",
    "y = quad_func(X)\n",
    "df_qf = pd.DataFrame({'x':X,'y':y,'x2':X**2})\n",
    "df_qf['xgboost']=regressor.predict(df_qf[['x']])\n",
    "df_qf['linear']=linear_regressor.predict(df_qf[['x','x2']])"
   ]
  },
  {
   "cell_type": "code",
   "execution_count": 55,
   "metadata": {},
   "outputs": [
    {
     "data": {
      "text/html": [
       "<div>\n",
       "<style scoped>\n",
       "    .dataframe tbody tr th:only-of-type {\n",
       "        vertical-align: middle;\n",
       "    }\n",
       "\n",
       "    .dataframe tbody tr th {\n",
       "        vertical-align: top;\n",
       "    }\n",
       "\n",
       "    .dataframe thead th {\n",
       "        text-align: right;\n",
       "    }\n",
       "</style>\n",
       "<table border=\"1\" class=\"dataframe\">\n",
       "  <thead>\n",
       "    <tr style=\"text-align: right;\">\n",
       "      <th></th>\n",
       "      <th>x</th>\n",
       "      <th>y</th>\n",
       "      <th>x2</th>\n",
       "      <th>xgboost</th>\n",
       "      <th>linear</th>\n",
       "    </tr>\n",
       "  </thead>\n",
       "  <tbody>\n",
       "    <tr>\n",
       "      <th>0</th>\n",
       "      <td>-100</td>\n",
       "      <td>52347</td>\n",
       "      <td>10000</td>\n",
       "      <td>2461.927734</td>\n",
       "      <td>5.226771e+04</td>\n",
       "    </tr>\n",
       "    <tr>\n",
       "      <th>1</th>\n",
       "      <td>-25</td>\n",
       "      <td>3747</td>\n",
       "      <td>625</td>\n",
       "      <td>2461.927734</td>\n",
       "      <td>3.699701e+03</td>\n",
       "    </tr>\n",
       "    <tr>\n",
       "      <th>2</th>\n",
       "      <td>25</td>\n",
       "      <td>2597</td>\n",
       "      <td>625</td>\n",
       "      <td>1588.235962</td>\n",
       "      <td>2.544997e+03</td>\n",
       "    </tr>\n",
       "    <tr>\n",
       "      <th>3</th>\n",
       "      <td>1000</td>\n",
       "      <td>4977047</td>\n",
       "      <td>1000000</td>\n",
       "      <td>1588.235962</td>\n",
       "      <td>4.972741e+06</td>\n",
       "    </tr>\n",
       "    <tr>\n",
       "      <th>4</th>\n",
       "      <td>5000</td>\n",
       "      <td>124885047</td>\n",
       "      <td>25000000</td>\n",
       "      <td>1588.235962</td>\n",
       "      <td>1.247804e+08</td>\n",
       "    </tr>\n",
       "  </tbody>\n",
       "</table>\n",
       "</div>"
      ],
      "text/plain": [
       "      x          y        x2      xgboost        linear\n",
       "0  -100      52347     10000  2461.927734  5.226771e+04\n",
       "1   -25       3747       625  2461.927734  3.699701e+03\n",
       "2    25       2597       625  1588.235962  2.544997e+03\n",
       "3  1000    4977047   1000000  1588.235962  4.972741e+06\n",
       "4  5000  124885047  25000000  1588.235962  1.247804e+08"
      ]
     },
     "execution_count": 55,
     "metadata": {},
     "output_type": "execute_result"
    }
   ],
   "source": [
    "df_qf # check"
   ]
  },
  {
   "cell_type": "markdown",
   "metadata": {},
   "source": [
    "### Plot"
   ]
  },
  {
   "cell_type": "code",
   "execution_count": 56,
   "metadata": {},
   "outputs": [
    {
     "data": {
      "image/png": "[encoded data removed]",
      "text/plain": [
       "<Figure size 432x288 with 1 Axes>"
      ]
     },
     "metadata": {},
     "output_type": "display_data"
    }
   ],
   "source": [
    "plt.scatter(df_qf.x,df_qf.y,label='Actual',color='r')\n",
    "plt.plot(df_qf.x,df_qf.linear,label='LinearRegression')\n",
    "plt.plot(df_qf.x,df_qf.xgboost,label='XGBoost')\n",
    "plt.xlabel('X')\n",
    "plt.ylabel('y')\n",
    "plt.legend()\n",
    "plt.title('Input Outside Range')\n",
    "plt.show()"
   ]
  },
  {
   "cell_type": "markdown",
   "metadata": {},
   "source": [
    "### X Inside the Bounds"
   ]
  },
  {
   "cell_type": "code",
   "execution_count": 57,
   "metadata": {},
   "outputs": [],
   "source": [
    "X = np.array([-15,-12,-5,0,1,3,5,7,9,11,15,18])\n",
    "y = quad_func(X)\n",
    "df_qf = pd.DataFrame({'x':X,'y':y,'x2':X**2})\n",
    "df_qf['xgboost']=regressor.predict(df_qf[['x']])\n",
    "df_qf['linear']=linear_regressor.predict(df_qf[['x','x2']])"
   ]
  },
  {
   "cell_type": "code",
   "execution_count": 58,
   "metadata": {},
   "outputs": [
    {
     "data": {
      "text/html": [
       "<div>\n",
       "<style scoped>\n",
       "    .dataframe tbody tr th:only-of-type {\n",
       "        vertical-align: middle;\n",
       "    }\n",
       "\n",
       "    .dataframe tbody tr th {\n",
       "        vertical-align: top;\n",
       "    }\n",
       "\n",
       "    .dataframe thead th {\n",
       "        text-align: right;\n",
       "    }\n",
       "</style>\n",
       "<table border=\"1\" class=\"dataframe\">\n",
       "  <thead>\n",
       "    <tr style=\"text-align: right;\">\n",
       "      <th></th>\n",
       "      <th>x</th>\n",
       "      <th>y</th>\n",
       "      <th>x2</th>\n",
       "      <th>xgboost</th>\n",
       "      <th>linear</th>\n",
       "    </tr>\n",
       "  </thead>\n",
       "  <tbody>\n",
       "    <tr>\n",
       "      <th>0</th>\n",
       "      <td>-15</td>\n",
       "      <td>1517</td>\n",
       "      <td>225</td>\n",
       "      <td>1499.692261</td>\n",
       "      <td>1470.425956</td>\n",
       "    </tr>\n",
       "    <tr>\n",
       "      <th>1</th>\n",
       "      <td>-12</td>\n",
       "      <td>1043</td>\n",
       "      <td>144</td>\n",
       "      <td>991.931213</td>\n",
       "      <td>996.481122</td>\n",
       "    </tr>\n",
       "    <tr>\n",
       "      <th>2</th>\n",
       "      <td>-5</td>\n",
       "      <td>287</td>\n",
       "      <td>25</td>\n",
       "      <td>224.965408</td>\n",
       "      <td>240.318280</td>\n",
       "    </tr>\n",
       "    <tr>\n",
       "      <th>3</th>\n",
       "      <td>0</td>\n",
       "      <td>47</td>\n",
       "      <td>0</td>\n",
       "      <td>13.276349</td>\n",
       "      <td>-0.047947</td>\n",
       "    </tr>\n",
       "    <tr>\n",
       "      <th>4</th>\n",
       "      <td>1</td>\n",
       "      <td>29</td>\n",
       "      <td>1</td>\n",
       "      <td>4.371443</td>\n",
       "      <td>-18.146183</td>\n",
       "    </tr>\n",
       "    <tr>\n",
       "      <th>5</th>\n",
       "      <td>3</td>\n",
       "      <td>23</td>\n",
       "      <td>9</td>\n",
       "      <td>-56.117565</td>\n",
       "      <td>-24.367646</td>\n",
       "    </tr>\n",
       "    <tr>\n",
       "      <th>6</th>\n",
       "      <td>5</td>\n",
       "      <td>57</td>\n",
       "      <td>25</td>\n",
       "      <td>-18.919676</td>\n",
       "      <td>9.377569</td>\n",
       "    </tr>\n",
       "    <tr>\n",
       "      <th>7</th>\n",
       "      <td>7</td>\n",
       "      <td>131</td>\n",
       "      <td>49</td>\n",
       "      <td>131.283005</td>\n",
       "      <td>83.089462</td>\n",
       "    </tr>\n",
       "    <tr>\n",
       "      <th>8</th>\n",
       "      <td>9</td>\n",
       "      <td>245</td>\n",
       "      <td>81</td>\n",
       "      <td>217.274094</td>\n",
       "      <td>196.768035</td>\n",
       "    </tr>\n",
       "    <tr>\n",
       "      <th>9</th>\n",
       "      <td>11</td>\n",
       "      <td>399</td>\n",
       "      <td>121</td>\n",
       "      <td>363.224792</td>\n",
       "      <td>350.413286</td>\n",
       "    </tr>\n",
       "    <tr>\n",
       "      <th>10</th>\n",
       "      <td>15</td>\n",
       "      <td>827</td>\n",
       "      <td>225</td>\n",
       "      <td>781.358093</td>\n",
       "      <td>777.603823</td>\n",
       "    </tr>\n",
       "    <tr>\n",
       "      <th>11</th>\n",
       "      <td>18</td>\n",
       "      <td>1253</td>\n",
       "      <td>324</td>\n",
       "      <td>1210.761719</td>\n",
       "      <td>1202.909258</td>\n",
       "    </tr>\n",
       "  </tbody>\n",
       "</table>\n",
       "</div>"
      ],
      "text/plain": [
       "     x     y   x2      xgboost       linear\n",
       "0  -15  1517  225  1499.692261  1470.425956\n",
       "1  -12  1043  144   991.931213   996.481122\n",
       "2   -5   287   25   224.965408   240.318280\n",
       "3    0    47    0    13.276349    -0.047947\n",
       "4    1    29    1     4.371443   -18.146183\n",
       "5    3    23    9   -56.117565   -24.367646\n",
       "6    5    57   25   -18.919676     9.377569\n",
       "7    7   131   49   131.283005    83.089462\n",
       "8    9   245   81   217.274094   196.768035\n",
       "9   11   399  121   363.224792   350.413286\n",
       "10  15   827  225   781.358093   777.603823\n",
       "11  18  1253  324  1210.761719  1202.909258"
      ]
     },
     "execution_count": 58,
     "metadata": {},
     "output_type": "execute_result"
    }
   ],
   "source": [
    "df_qf # data check"
   ]
  },
  {
   "cell_type": "code",
   "execution_count": 59,
   "metadata": {},
   "outputs": [
    {
     "data": {
      "image/png": "[encoded data removed]",
      "text/plain": [
       "<Figure size 432x288 with 1 Axes>"
      ]
     },
     "metadata": {},
     "output_type": "display_data"
    }
   ],
   "source": [
    "# XGBoost Predictions have an upper bound and lower bound\n",
    "# Linear Regression Extrapolates\n",
    "plt.scatter(df_qf.x,df_qf.y,label='Actual',color='r')\n",
    "plt.plot(df_qf.x,df_qf.linear,label='LinearRegression')\n",
    "plt.plot(df_qf.x,df_qf.xgboost,label='XGBoost')\n",
    "plt.xlabel('X')\n",
    "plt.ylabel('y')\n",
    "plt.legend()\n",
    "plt.title('Input within range')\n",
    "plt.show()"
   ]
  },
  {
   "cell_type": "markdown",
   "metadata": {},
   "source": [
    "# Summary"
   ]
  },
  {
   "cell_type": "markdown",
   "metadata": {},
   "source": [
    "1. Compared the performance of XGBoost model vs. Linear Regression on a quadratic dataset\n",
    "1. Showed relationship between input feature and target was non-linear\n",
    "1. XGBoost handled it pretty well; not unexpectedly, linear regression under-fit the data\n",
    "1. To assist with underfitting, the feature *x^2* was added to the linear regresstion - improving performance\n",
    "1. XGBoost can detect non-linear relationships; whereas, algorithms like linear regression may require complex feature engineering"
   ]
  },
  {
   "cell_type": "markdown",
   "metadata": {},
   "source": [
    "### Major Library Versions Used\n",
    "\n",
    "| Library | Version |\n",
    "|---------|:--------:|\n",
    "| matplotlib | 3.0.3 |\n",
    "| numpy | 1.18.1 |\n",
    "| pandas | 0.24.2 |\n",
    "| python | 3.6.7 |\n",
    "| tensorflow | 2.0 |\n",
    "| xgboost | 0.90 |"
   ]
  }
 ],
 "metadata": {
  "kernelspec": {
   "display_name": "conda_amazonei_tensorflow_p36",
   "language": "python",
   "name": "conda_amazonei_tensorflow_p36"
  },
  "language_info": {
   "codemirror_mode": {
    "name": "ipython",
    "version": 3
   },
   "file_extension": ".py",
   "mimetype": "text/x-python",
   "name": "python",
   "nbconvert_exporter": "python",
   "pygments_lexer": "ipython3",
   "version": "3.6.7"
  }
 },
 "nbformat": 4,
 "nbformat_minor": 4
}
