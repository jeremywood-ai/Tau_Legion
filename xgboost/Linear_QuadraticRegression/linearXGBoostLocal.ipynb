{
 "cells": [
  {
   "cell_type": "markdown",
   "metadata": {},
   "source": [
    "# Simple Regression Dataset - Linear Regression vs. XGBoost (Local Mode)"
   ]
  },
  {
   "cell_type": "markdown",
   "metadata": {},
   "source": [
    "Model with XGBoost training locally to notebook\n",
    "XGBoost, or [Extreme Gradient Boosting](https://www.datacamp.com/community/tutorials/xgboost-in-python), is a family of boosting algorithms that uses gradient boosting framework at its core.\n",
    "\n",
    "This section will work with XGBoost as a local installation to the instance.\n",
    "\n",
    "* This will take several minutes to train (even with a small amount of data)\n",
    "* When algorithm supported by *Python*, the data can be locally to the instance\n",
    "* In this section: Compare XBGoost to Linear Regression against dataset\n",
    "\n",
    "**Kernel used:** Conda with TensorFlow Python 3.6.5 for Amazon Elastic Instance *(conda_amazonei_tensorflow_p36)*"
   ]
  },
  {
   "cell_type": "markdown",
   "metadata": {},
   "source": [
    "### Major Library Versions Used\n",
    "\n",
    "| Library | Version |\n",
    "|---------|:--------|\n",
    "| conda | 4.8.2 |\n",
    "| matplotlib | 3.0.3 |\n",
    "| numpy | 1.17.4 |\n",
    "| pandas | 0.24.2 |\n",
    "| pip | 20.2 |\n",
    "| python | 3.6.5 |\n",
    "| xgboost | 0.90 |"
   ]
  },
  {
   "cell_type": "markdown",
   "metadata": {},
   "source": [
    "### First update *conda* and *pip* to latest version"
   ]
  },
  {
   "cell_type": "code",
   "execution_count": null,
   "metadata": {},
   "outputs": [],
   "source": [
    "!conda install conda -y\n",
    "!pip install --upgrade pip"
   ]
  },
  {
   "cell_type": "markdown",
   "metadata": {},
   "source": [
    "### Ensure required packages are installed"
   ]
  },
  {
   "cell_type": "code",
   "execution_count": 1,
   "metadata": {},
   "outputs": [
    {
     "name": "stdout",
     "output_type": "stream",
     "text": [
      "# packages in environment at /home/ec2-user/anaconda3/envs/amazonei_tensorflow_p36:\n",
      "#\n",
      "# Name                    Version                   Build  Channel\n",
      "numpy                     1.17.4                   pypi_0    pypi\n",
      "numpydoc                  0.8.0                    py36_0  \n",
      "# packages in environment at /home/ec2-user/anaconda3/envs/amazonei_tensorflow_p36:\n",
      "#\n",
      "# Name                    Version                   Build  Channel\n",
      "pandas                    0.24.2           py36he6710b0_0  \n",
      "# packages in environment at /home/ec2-user/anaconda3/envs/amazonei_tensorflow_p36:\n",
      "#\n",
      "# Name                    Version                   Build  Channel\n",
      "ipython                   6.4.0                    py36_0  \n",
      "ipython_genutils          0.2.0            py36hb52b0d5_0  \n",
      "msgpack-python            0.5.6            py36h6bb024c_0  \n",
      "python                    3.6.5                hc3d631a_2  \n",
      "python-dateutil           2.7.3                    py36_0  \n",
      "# packages in environment at /home/ec2-user/anaconda3/envs/amazonei_tensorflow_p36:\n",
      "#\n",
      "# Name                    Version                   Build  Channel\n",
      "matplotlib                3.0.3                    pypi_0    pypi\n",
      "# packages in environment at /home/ec2-user/anaconda3/envs/amazonei_tensorflow_p36:\n",
      "#\n",
      "# Name                    Version                   Build  Channel\n",
      "xgboost                   0.90                     pypi_0    pypi\n"
     ]
    }
   ],
   "source": [
    "!conda list conda\n",
    "!conda list numpy\n",
    "!conda list pandas\n",
    "!conda list pip\n",
    "!conda list python\n",
    "!conda list matplotlib"
   ]
  },
  {
   "cell_type": "markdown",
   "metadata": {},
   "source": [
    "### Missing Required Libraries"
   ]
  },
  {
   "cell_type": "code",
   "execution_count": 108,
   "metadata": {},
   "outputs": [],
   "source": [
    "# If missing required libraries: uncomment\n",
    "# ! conda install <package>"
   ]
  },
  {
   "cell_type": "markdown",
   "metadata": {},
   "source": [
    "## Install XGboost into the Notebook"
   ]
  },
  {
   "cell_type": "markdown",
   "metadata": {},
   "source": [
    "Here: I am using *pip* to install.\n",
    "\n",
    "Ensure that a kernel is running before installing.\n",
    "***Note:*** *This may take several minutes for the initial installation.*"
   ]
  },
  {
   "cell_type": "code",
   "execution_count": null,
   "metadata": {},
   "outputs": [],
   "source": [
    "!pip install xgboost==0.90"
   ]
  },
  {
   "cell_type": "markdown",
   "metadata": {},
   "source": [
    "## Libraries"
   ]
  },
  {
   "cell_type": "code",
   "execution_count": 3,
   "metadata": {},
   "outputs": [],
   "source": [
    "import sys\n",
    "import numpy as np\n",
    "import pandas as pd\n",
    "import matplotlib.pyplot as plt\n",
    "from sklearn.metrics import mean_squared_error, mean_absolute_error # to calculate the regression loss\n",
    "from sklearn.metrics import confusion_matrix, accuracy_score, roc_auc_score\n",
    "from sklearn.linear_model import LinearRegression"
   ]
  },
  {
   "cell_type": "code",
   "execution_count": 4,
   "metadata": {},
   "outputs": [],
   "source": [
    "# XGBoost\n",
    "\n",
    "import xgboost as xgb"
   ]
  },
  {
   "cell_type": "markdown",
   "metadata": {},
   "source": [
    "### Data Read"
   ]
  },
  {
   "cell_type": "code",
   "execution_count": 5,
   "metadata": {},
   "outputs": [],
   "source": [
    "df = pd.read_csv('linear_data.csv')"
   ]
  },
  {
   "cell_type": "code",
   "execution_count": 6,
   "metadata": {},
   "outputs": [
    {
     "data": {
      "text/html": [
       "<div>\n",
       "<style scoped>\n",
       "    .dataframe tbody tr th:only-of-type {\n",
       "        vertical-align: middle;\n",
       "    }\n",
       "\n",
       "    .dataframe tbody tr th {\n",
       "        vertical-align: top;\n",
       "    }\n",
       "\n",
       "    .dataframe thead th {\n",
       "        text-align: right;\n",
       "    }\n",
       "</style>\n",
       "<table border=\"1\" class=\"dataframe\">\n",
       "  <thead>\n",
       "    <tr style=\"text-align: right;\">\n",
       "      <th></th>\n",
       "      <th>x</th>\n",
       "      <th>y</th>\n",
       "    </tr>\n",
       "  </thead>\n",
       "  <tbody>\n",
       "    <tr>\n",
       "      <th>0</th>\n",
       "      <td>0</td>\n",
       "      <td>21.315865</td>\n",
       "    </tr>\n",
       "    <tr>\n",
       "      <th>1</th>\n",
       "      <td>1</td>\n",
       "      <td>20.152790</td>\n",
       "    </tr>\n",
       "    <tr>\n",
       "      <th>2</th>\n",
       "      <td>2</td>\n",
       "      <td>2.545997</td>\n",
       "    </tr>\n",
       "    <tr>\n",
       "      <th>3</th>\n",
       "      <td>3</td>\n",
       "      <td>22.916162</td>\n",
       "    </tr>\n",
       "    <tr>\n",
       "      <th>4</th>\n",
       "      <td>4</td>\n",
       "      <td>34.213360</td>\n",
       "    </tr>\n",
       "  </tbody>\n",
       "</table>\n",
       "</div>"
      ],
      "text/plain": [
       "   x          y\n",
       "0  0  21.315865\n",
       "1  1  20.152790\n",
       "2  2   2.545997\n",
       "3  3  22.916162\n",
       "4  4  34.213360"
      ]
     },
     "execution_count": 6,
     "metadata": {},
     "output_type": "execute_result"
    }
   ],
   "source": [
    "df.head()"
   ]
  },
  {
   "cell_type": "markdown",
   "metadata": {},
   "source": [
    "### Plot the dataset"
   ]
  },
  {
   "cell_type": "code",
   "execution_count": 7,
   "metadata": {},
   "outputs": [
    {
     "data": {
      "image/png": "[encoded data removed]",
      "text/plain": [
       "<Figure size 432x288 with 1 Axes>"
      ]
     },
     "metadata": {},
     "output_type": "display_data"
    }
   ],
   "source": [
    "plt.plot(df.x, df.y, label='Target')\n",
    "plt.grid(True)\n",
    "plt.xlabel('Input Feature')\n",
    "plt.ylabel('Target')\n",
    "plt.legend()\n",
    "plt.title('Simmple Regression Dataset')\n",
    "plt.show()"
   ]
  },
  {
   "cell_type": "markdown",
   "metadata": {},
   "source": [
    "### Load Training and Validation Datasets"
   ]
  },
  {
   "cell_type": "code",
   "execution_count": 8,
   "metadata": {},
   "outputs": [],
   "source": [
    "train_file = 'linearTrain.csv'\n",
    "validation_file = 'linearValidation.csv'\n",
    "\n",
    "# Specify the column names, since the files do not have headers\n",
    "df_train = pd.read_csv(train_file, names=['y','x'])\n",
    "df_validation = pd.read_csv(validation_file, names=['y','x'])"
   ]
  },
  {
   "cell_type": "code",
   "execution_count": 9,
   "metadata": {},
   "outputs": [
    {
     "data": {
      "text/html": [
       "<div>\n",
       "<style scoped>\n",
       "    .dataframe tbody tr th:only-of-type {\n",
       "        vertical-align: middle;\n",
       "    }\n",
       "\n",
       "    .dataframe tbody tr th {\n",
       "        vertical-align: top;\n",
       "    }\n",
       "\n",
       "    .dataframe thead th {\n",
       "        text-align: right;\n",
       "    }\n",
       "</style>\n",
       "<table border=\"1\" class=\"dataframe\">\n",
       "  <thead>\n",
       "    <tr style=\"text-align: right;\">\n",
       "      <th></th>\n",
       "      <th>y</th>\n",
       "      <th>x</th>\n",
       "    </tr>\n",
       "  </thead>\n",
       "  <tbody>\n",
       "    <tr>\n",
       "      <th>0</th>\n",
       "      <td>446.933412</td>\n",
       "      <td>87</td>\n",
       "    </tr>\n",
       "    <tr>\n",
       "      <th>1</th>\n",
       "      <td>558.291927</td>\n",
       "      <td>111</td>\n",
       "    </tr>\n",
       "    <tr>\n",
       "      <th>2</th>\n",
       "      <td>62.330262</td>\n",
       "      <td>10</td>\n",
       "    </tr>\n",
       "    <tr>\n",
       "      <th>3</th>\n",
       "      <td>465.445440</td>\n",
       "      <td>91</td>\n",
       "    </tr>\n",
       "    <tr>\n",
       "      <th>4</th>\n",
       "      <td>251.525797</td>\n",
       "      <td>49</td>\n",
       "    </tr>\n",
       "  </tbody>\n",
       "</table>\n",
       "</div>"
      ],
      "text/plain": [
       "            y    x\n",
       "0  446.933412   87\n",
       "1  558.291927  111\n",
       "2   62.330262   10\n",
       "3  465.445440   91\n",
       "4  251.525797   49"
      ]
     },
     "execution_count": 9,
     "metadata": {},
     "output_type": "execute_result"
    }
   ],
   "source": [
    "df_train.head() # data check"
   ]
  },
  {
   "cell_type": "code",
   "execution_count": 10,
   "metadata": {},
   "outputs": [
    {
     "data": {
      "text/html": [
       "<div>\n",
       "<style scoped>\n",
       "    .dataframe tbody tr th:only-of-type {\n",
       "        vertical-align: middle;\n",
       "    }\n",
       "\n",
       "    .dataframe tbody tr th {\n",
       "        vertical-align: top;\n",
       "    }\n",
       "\n",
       "    .dataframe thead th {\n",
       "        text-align: right;\n",
       "    }\n",
       "</style>\n",
       "<table border=\"1\" class=\"dataframe\">\n",
       "  <thead>\n",
       "    <tr style=\"text-align: right;\">\n",
       "      <th></th>\n",
       "      <th>y</th>\n",
       "      <th>x</th>\n",
       "    </tr>\n",
       "  </thead>\n",
       "  <tbody>\n",
       "    <tr>\n",
       "      <th>0</th>\n",
       "      <td>446.933412</td>\n",
       "      <td>87</td>\n",
       "    </tr>\n",
       "    <tr>\n",
       "      <th>1</th>\n",
       "      <td>558.291927</td>\n",
       "      <td>111</td>\n",
       "    </tr>\n",
       "    <tr>\n",
       "      <th>2</th>\n",
       "      <td>62.330262</td>\n",
       "      <td>10</td>\n",
       "    </tr>\n",
       "    <tr>\n",
       "      <th>3</th>\n",
       "      <td>465.445440</td>\n",
       "      <td>91</td>\n",
       "    </tr>\n",
       "    <tr>\n",
       "      <th>4</th>\n",
       "      <td>251.525797</td>\n",
       "      <td>49</td>\n",
       "    </tr>\n",
       "  </tbody>\n",
       "</table>\n",
       "</div>"
      ],
      "text/plain": [
       "            y    x\n",
       "0  446.933412   87\n",
       "1  558.291927  111\n",
       "2   62.330262   10\n",
       "3  465.445440   91\n",
       "4  251.525797   49"
      ]
     },
     "execution_count": 10,
     "metadata": {},
     "output_type": "execute_result"
    }
   ],
   "source": [
    "df_validation.head()"
   ]
  },
  {
   "cell_type": "markdown",
   "metadata": {},
   "source": [
    "### Plot the datasets"
   ]
  },
  {
   "cell_type": "code",
   "execution_count": 11,
   "metadata": {},
   "outputs": [
    {
     "data": {
      "image/png": "[encoded data removed]",
      "text/plain": [
       "<Figure size 432x288 with 1 Axes>"
      ]
     },
     "metadata": {},
     "output_type": "display_data"
    }
   ],
   "source": [
    "plt.scatter(df_train.x, df_train.y, label='Training', marker='.')\n",
    "plt.scatter(df_validation.x, df_validation.y, label='Validation', marker='.')\n",
    "plt.grid(True)\n",
    "plt.xlabel('Input Feature')\n",
    "plt.ylabel('Target')\n",
    "plt.title('Simple Regression Dataset')\n",
    "plt.legend()\n",
    "plt.show()"
   ]
  },
  {
   "cell_type": "markdown",
   "metadata": {},
   "source": [
    "### Separating Features and Targets for Training and Validation\n",
    "This is in preparation for use in XGBoost's regressor\n",
    "*Note: Remember that Python indices start at 0*"
   ]
  },
  {
   "cell_type": "code",
   "execution_count": 12,
   "metadata": {},
   "outputs": [],
   "source": [
    "X_train = df_train.iloc[:,1:] # Features pull from 2nd column to the end\n",
    "y_train = df_train.iloc[:,0].ravel() # Target: 1st Column (0th) Recall: ravel to flatten array\n",
    "\n",
    "X_validation = df_validation.iloc[:,1:]\n",
    "y_validation = df_validation.iloc[:,0].ravel()"
   ]
  },
  {
   "cell_type": "markdown",
   "metadata": {},
   "source": [
    "## Build the XGBoosst Regressor model\n",
    "\n",
    "Below cells will set up the training instance, set the hyperparameters, and then fit the model to the training data.\n",
    "\n",
    "Find Distributed (Deep) Machine Learning Community's XGBoost Training Parameter Reference [here](https://github.com/dmlc/xgboost/blob/master/doc/parameter.rst)\n",
    "\n",
    "In this project, I updated the following parameters:\n",
    "```reg:squarederror``` as ```reg:linear``` is deprecated.\n"
   ]
  },
  {
   "cell_type": "code",
   "execution_count": 13,
   "metadata": {},
   "outputs": [],
   "source": [
    "# Create regressor\n",
    "regressor = xgb.XGBRegressor(objective='reg:squarederror')"
   ]
  },
  {
   "cell_type": "code",
   "execution_count": 17,
   "metadata": {},
   "outputs": [
    {
     "data": {
      "text/plain": [
       "XGBRegressor(base_score=0.5, booster='gbtree', colsample_bylevel=1,\n",
       "       colsample_bynode=1, colsample_bytree=1, gamma=0,\n",
       "       importance_type='gain', learning_rate=0.1, max_delta_step=0,\n",
       "       max_depth=3, min_child_weight=1, missing=None, n_estimators=100,\n",
       "       n_jobs=1, nthread=None, objective='reg:squarederror',\n",
       "       random_state=0, reg_alpha=0, reg_lambda=1, scale_pos_weight=1,\n",
       "       seed=None, silent=None, subsample=1, verbosity=1)"
      ]
     },
     "execution_count": 17,
     "metadata": {},
     "output_type": "execute_result"
    }
   ],
   "source": [
    "regressor # display hyperparameters. Note: This will display at the end of the training model process, as well."
   ]
  },
  {
   "cell_type": "markdown",
   "metadata": {},
   "source": [
    "### Training the model"
   ]
  },
  {
   "cell_type": "code",
   "execution_count": 15,
   "metadata": {},
   "outputs": [
    {
     "name": "stdout",
     "output_type": "stream",
     "text": [
      "[0]\tvalidation_0-rmse:400.352\tvalidation_1-rmse:390.098\n",
      "[1]\tvalidation_0-rmse:362.272\tvalidation_1-rmse:352.632\n",
      "[2]\tvalidation_0-rmse:327.886\tvalidation_1-rmse:317.933\n",
      "[3]\tvalidation_0-rmse:296.839\tvalidation_1-rmse:287.009\n",
      "[4]\tvalidation_0-rmse:268.687\tvalidation_1-rmse:258.65\n",
      "[5]\tvalidation_0-rmse:243.265\tvalidation_1-rmse:233.332\n",
      "[6]\tvalidation_0-rmse:220.268\tvalidation_1-rmse:210.579\n",
      "[7]\tvalidation_0-rmse:199.476\tvalidation_1-rmse:190.388\n",
      "[8]\tvalidation_0-rmse:180.674\tvalidation_1-rmse:172.091\n",
      "[9]\tvalidation_0-rmse:163.678\tvalidation_1-rmse:155.571\n",
      "[10]\tvalidation_0-rmse:148.316\tvalidation_1-rmse:140.75\n",
      "[11]\tvalidation_0-rmse:134.421\tvalidation_1-rmse:127.193\n",
      "[12]\tvalidation_0-rmse:121.85\tvalidation_1-rmse:115.144\n",
      "[13]\tvalidation_0-rmse:110.489\tvalidation_1-rmse:104.024\n",
      "[14]\tvalidation_0-rmse:100.183\tvalidation_1-rmse:94.2988\n",
      "[15]\tvalidation_0-rmse:90.8624\tvalidation_1-rmse:85.4025\n",
      "[16]\tvalidation_0-rmse:82.4277\tvalidation_1-rmse:77.3111\n",
      "[17]\tvalidation_0-rmse:74.8073\tvalidation_1-rmse:69.691\n",
      "[18]\tvalidation_0-rmse:67.8968\tvalidation_1-rmse:63.0616\n",
      "[19]\tvalidation_0-rmse:61.6434\tvalidation_1-rmse:57.0893\n",
      "[20]\tvalidation_0-rmse:55.991\tvalidation_1-rmse:51.6847\n",
      "[21]\tvalidation_0-rmse:50.8717\tvalidation_1-rmse:46.7629\n",
      "[22]\tvalidation_0-rmse:46.237\tvalidation_1-rmse:42.3103\n",
      "[23]\tvalidation_0-rmse:42.0479\tvalidation_1-rmse:38.2808\n",
      "[24]\tvalidation_0-rmse:38.2593\tvalidation_1-rmse:34.6333\n",
      "[25]\tvalidation_0-rmse:34.8439\tvalidation_1-rmse:31.3145\n",
      "[26]\tvalidation_0-rmse:31.7619\tvalidation_1-rmse:28.3405\n",
      "[27]\tvalidation_0-rmse:28.975\tvalidation_1-rmse:25.6507\n",
      "[28]\tvalidation_0-rmse:26.4599\tvalidation_1-rmse:23.2845\n",
      "[29]\tvalidation_0-rmse:24.1942\tvalidation_1-rmse:21.0909\n",
      "[30]\tvalidation_0-rmse:22.1564\tvalidation_1-rmse:19.113\n",
      "[31]\tvalidation_0-rmse:20.3222\tvalidation_1-rmse:17.3332\n",
      "[32]\tvalidation_0-rmse:18.6691\tvalidation_1-rmse:15.7446\n",
      "[33]\tvalidation_0-rmse:17.1809\tvalidation_1-rmse:14.3555\n",
      "[34]\tvalidation_0-rmse:15.8453\tvalidation_1-rmse:13.1206\n",
      "[35]\tvalidation_0-rmse:14.6488\tvalidation_1-rmse:11.9988\n",
      "[36]\tvalidation_0-rmse:13.5743\tvalidation_1-rmse:11.0098\n",
      "[37]\tvalidation_0-rmse:12.6118\tvalidation_1-rmse:10.0682\n",
      "[38]\tvalidation_0-rmse:11.7556\tvalidation_1-rmse:9.30294\n",
      "[39]\tvalidation_0-rmse:10.9952\tvalidation_1-rmse:8.60735\n",
      "[40]\tvalidation_0-rmse:10.3181\tvalidation_1-rmse:8.04298\n",
      "[41]\tvalidation_0-rmse:9.71584\tvalidation_1-rmse:7.54754\n",
      "[42]\tvalidation_0-rmse:9.18462\tvalidation_1-rmse:7.12308\n",
      "[43]\tvalidation_0-rmse:8.718\tvalidation_1-rmse:6.77538\n",
      "[44]\tvalidation_0-rmse:8.30562\tvalidation_1-rmse:6.46206\n",
      "[45]\tvalidation_0-rmse:7.93906\tvalidation_1-rmse:6.19231\n",
      "[46]\tvalidation_0-rmse:7.62177\tvalidation_1-rmse:5.98293\n",
      "[47]\tvalidation_0-rmse:7.34129\tvalidation_1-rmse:5.79454\n",
      "[48]\tvalidation_0-rmse:7.09365\tvalidation_1-rmse:5.63303\n",
      "[49]\tvalidation_0-rmse:6.87591\tvalidation_1-rmse:5.50048\n",
      "[50]\tvalidation_0-rmse:6.68273\tvalidation_1-rmse:5.40421\n",
      "[51]\tvalidation_0-rmse:6.50357\tvalidation_1-rmse:5.31298\n",
      "[52]\tvalidation_0-rmse:6.35743\tvalidation_1-rmse:5.24771\n",
      "[53]\tvalidation_0-rmse:6.22963\tvalidation_1-rmse:5.17439\n",
      "[54]\tvalidation_0-rmse:6.11409\tvalidation_1-rmse:5.13944\n",
      "[55]\tvalidation_0-rmse:5.98516\tvalidation_1-rmse:5.10819\n",
      "[56]\tvalidation_0-rmse:5.89464\tvalidation_1-rmse:5.06268\n",
      "[57]\tvalidation_0-rmse:5.81604\tvalidation_1-rmse:5.04353\n",
      "[58]\tvalidation_0-rmse:5.72388\tvalidation_1-rmse:5.03053\n",
      "[59]\tvalidation_0-rmse:5.65839\tvalidation_1-rmse:5.01189\n",
      "[60]\tvalidation_0-rmse:5.60273\tvalidation_1-rmse:5.00028\n",
      "[61]\tvalidation_0-rmse:5.54614\tvalidation_1-rmse:4.99819\n",
      "[62]\tvalidation_0-rmse:5.47634\tvalidation_1-rmse:4.96858\n",
      "[63]\tvalidation_0-rmse:5.43307\tvalidation_1-rmse:4.95992\n",
      "[64]\tvalidation_0-rmse:5.37213\tvalidation_1-rmse:4.95486\n",
      "[65]\tvalidation_0-rmse:5.32971\tvalidation_1-rmse:4.92643\n",
      "[66]\tvalidation_0-rmse:5.29384\tvalidation_1-rmse:4.91748\n",
      "[67]\tvalidation_0-rmse:5.26475\tvalidation_1-rmse:4.91923\n",
      "[68]\tvalidation_0-rmse:5.23695\tvalidation_1-rmse:4.90906\n",
      "[69]\tvalidation_0-rmse:5.20509\tvalidation_1-rmse:4.87868\n",
      "[70]\tvalidation_0-rmse:5.17593\tvalidation_1-rmse:4.85065\n",
      "[71]\tvalidation_0-rmse:5.15019\tvalidation_1-rmse:4.82906\n",
      "[72]\tvalidation_0-rmse:5.12713\tvalidation_1-rmse:4.80777\n",
      "[73]\tvalidation_0-rmse:5.10642\tvalidation_1-rmse:4.79071\n",
      "[74]\tvalidation_0-rmse:5.09085\tvalidation_1-rmse:4.77922\n",
      "[75]\tvalidation_0-rmse:5.07337\tvalidation_1-rmse:4.76184\n",
      "[76]\tvalidation_0-rmse:5.05613\tvalidation_1-rmse:4.74389\n",
      "[77]\tvalidation_0-rmse:5.03375\tvalidation_1-rmse:4.73421\n",
      "[78]\tvalidation_0-rmse:5.02022\tvalidation_1-rmse:4.72223\n",
      "[79]\tvalidation_0-rmse:5.01001\tvalidation_1-rmse:4.7185\n",
      "[80]\tvalidation_0-rmse:4.99097\tvalidation_1-rmse:4.70943\n",
      "[81]\tvalidation_0-rmse:4.97984\tvalidation_1-rmse:4.69628\n",
      "[82]\tvalidation_0-rmse:4.96323\tvalidation_1-rmse:4.68962\n",
      "[83]\tvalidation_0-rmse:4.95365\tvalidation_1-rmse:4.67775\n",
      "[84]\tvalidation_0-rmse:4.94501\tvalidation_1-rmse:4.66847\n",
      "[85]\tvalidation_0-rmse:4.93442\tvalidation_1-rmse:4.66053\n",
      "[86]\tvalidation_0-rmse:4.92091\tvalidation_1-rmse:4.65465\n",
      "[87]\tvalidation_0-rmse:4.91356\tvalidation_1-rmse:4.6447\n",
      "[88]\tvalidation_0-rmse:4.90163\tvalidation_1-rmse:4.63926\n",
      "[89]\tvalidation_0-rmse:4.89618\tvalidation_1-rmse:4.63618\n",
      "[90]\tvalidation_0-rmse:4.88117\tvalidation_1-rmse:4.63164\n",
      "[91]\tvalidation_0-rmse:4.87509\tvalidation_1-rmse:4.62329\n",
      "[92]\tvalidation_0-rmse:4.86179\tvalidation_1-rmse:4.61926\n",
      "[93]\tvalidation_0-rmse:4.85334\tvalidation_1-rmse:4.60259\n",
      "[94]\tvalidation_0-rmse:4.83717\tvalidation_1-rmse:4.59616\n",
      "[95]\tvalidation_0-rmse:4.83204\tvalidation_1-rmse:4.5901\n",
      "[96]\tvalidation_0-rmse:4.76573\tvalidation_1-rmse:4.57287\n",
      "[97]\tvalidation_0-rmse:4.70585\tvalidation_1-rmse:4.55738\n",
      "[98]\tvalidation_0-rmse:4.70102\tvalidation_1-rmse:4.54929\n",
      "[99]\tvalidation_0-rmse:4.64681\tvalidation_1-rmse:4.53513\n"
     ]
    },
    {
     "data": {
      "text/plain": [
       "XGBRegressor(base_score=0.5, booster='gbtree', colsample_bylevel=1,\n",
       "       colsample_bynode=1, colsample_bytree=1, gamma=0,\n",
       "       importance_type='gain', learning_rate=0.1, max_delta_step=0,\n",
       "       max_depth=3, min_child_weight=1, missing=None, n_estimators=100,\n",
       "       n_jobs=1, nthread=None, objective='reg:squarederror',\n",
       "       random_state=0, reg_alpha=0, reg_lambda=1, scale_pos_weight=1,\n",
       "       seed=None, silent=None, subsample=1, verbosity=1)"
      ]
     },
     "execution_count": 15,
     "metadata": {},
     "output_type": "execute_result"
    }
   ],
   "source": [
    "# Provide the Training and Validations Datasets\n",
    "# XGBoost will report the training and validation errors\n",
    "# While training, the errors should trend downwards\n",
    "regressor.fit(X_train, y_train, eval_set = [(X_train, y_train), (X_validation, y_validation)])"
   ]
  },
  {
   "cell_type": "markdown",
   "metadata": {},
   "source": [
    "From the model's result, one can see that the training *rmse* trends downward as the model improves."
   ]
  },
  {
   "cell_type": "markdown",
   "metadata": {},
   "source": [
    "### Plotting the Errors\n",
    "First, pull the Training RMSE and Evaluation RMSE values"
   ]
  },
  {
   "cell_type": "code",
   "execution_count": 25,
   "metadata": {},
   "outputs": [],
   "source": [
    "eval_result = regressor.evals_result()"
   ]
  },
  {
   "cell_type": "code",
   "execution_count": null,
   "metadata": {},
   "outputs": [],
   "source": [
    "eval_result # display results in a new format"
   ]
  },
  {
   "cell_type": "code",
   "execution_count": 28,
   "metadata": {},
   "outputs": [],
   "source": [
    "training_rounds = range(len(eval_result['validation_0']['rmse'])) # x-axis data"
   ]
  },
  {
   "cell_type": "code",
   "execution_count": 29,
   "metadata": {},
   "outputs": [
    {
     "data": {
      "image/png": "[encoded data removed]",
      "text/plain": [
       "<Figure size 432x288 with 1 Axes>"
      ]
     },
     "metadata": {},
     "output_type": "display_data"
    }
   ],
   "source": [
    "### Graph\n",
    "plt.scatter(x=training_rounds,y=eval_result['validation_0']['rmse'],label='Training Error')\n",
    "plt.scatter(x=training_rounds,y=eval_result['validation_1']['rmse'],label='Validation Error')\n",
    "plt.grid(True)\n",
    "plt.xlabel('Interations')\n",
    "plt.ylabel('RMSE')\n",
    "plt.title('XGBoost Training vs. Validation Error')\n",
    "plt.legend()\n",
    "plt.show()"
   ]
  },
  {
   "cell_type": "markdown",
   "metadata": {},
   "source": [
    "### XGBoost Feature Importance\n",
    "*plot_importance* function shows which features were usefule in the model's operation."
   ]
  },
  {
   "cell_type": "code",
   "execution_count": 31,
   "metadata": {},
   "outputs": [
    {
     "data": {
      "image/png": "[encoded data removed]",
      "text/plain": [
       "<Figure size 432x288 with 1 Axes>"
      ]
     },
     "metadata": {},
     "output_type": "display_data"
    }
   ],
   "source": [
    "xgb.plot_importance(regressor) # To find which features were useful in the model\n",
    "plt.show()"
   ]
  },
  {
   "cell_type": "markdown",
   "metadata": {},
   "source": [
    "In this case, *x* was the only feature. This become more interesting with more complex models."
   ]
  },
  {
   "cell_type": "markdown",
   "metadata": {},
   "source": [
    "## Validation Dataset: Compare Actual and Predicted\n",
    "This section focused on evaluating the performance of the model."
   ]
  },
  {
   "cell_type": "code",
   "execution_count": 37,
   "metadata": {},
   "outputs": [],
   "source": [
    "result=regressor.predict(X_validation) # predicted results for plotting"
   ]
  },
  {
   "cell_type": "code",
   "execution_count": 38,
   "metadata": {},
   "outputs": [
    {
     "data": {
      "image/png": "[encoded data removed]",
      "text/plain": [
       "<Figure size 432x288 with 1 Axes>"
      ]
     },
     "metadata": {},
     "output_type": "display_data"
    }
   ],
   "source": [
    "plt.scatter(df_validation.x, df_validation.y, label='actual', marker='.')\n",
    "plt.scatter(df_validation.x, result, label='predicted', marker='.')\n",
    "plt.grid(True)\n",
    "plt.legend()\n",
    "plt.title('XGBoost: Validation Dataset')\n",
    "plt.show()"
   ]
  },
  {
   "cell_type": "markdown",
   "metadata": {},
   "source": [
    "### XGBoost Metrics\n",
    "Calculate the *mean squared error* and *root mean squared error*.\n",
    "Reminder: RMSE is the standard deviation of the residuals (prediction errors), or how well that predicted data concentrated around the line of best fit."
   ]
  },
  {
   "cell_type": "code",
   "execution_count": 42,
   "metadata": {},
   "outputs": [
    {
     "name": "stdout",
     "output_type": "stream",
     "text": [
      "XGBoost Algorithm Metrics\n",
      " Mean Squared Error:  20.57\n",
      " Root Mean Squared Error:  4.54\n"
     ]
    }
   ],
   "source": [
    "# Display the Root Mean Square Error (RMSE) Metrics\n",
    "print('XGBoost Algorithm Metrics')\n",
    "mse = mean_squared_error(df_validation.y,result)\n",
    "print(' Mean Squared Error: {0: .2f}'.format(mse))\n",
    "print(' Root Mean Squared Error: {0: .2f}'.format(mse**.5))"
   ]
  },
  {
   "cell_type": "markdown",
   "metadata": {},
   "source": [
    "### XGboost Residual Histogram"
   ]
  },
  {
   "cell_type": "code",
   "execution_count": 43,
   "metadata": {},
   "outputs": [
    {
     "data": {
      "image/png": "[encoded data removed]",
      "text/plain": [
       "<Figure size 432x288 with 1 Axes>"
      ]
     },
     "metadata": {},
     "output_type": "display_data"
    }
   ],
   "source": [
    "# Training Data Residuals\n",
    "residuals = df_validation.y - result\n",
    "plt.hist(residuals)\n",
    "plt.grid(True)\n",
    "plt.xlabel('Actual - Predicted')\n",
    "plt.ylabel('Count')\n",
    "plt.title('XGBoost Residual')\n",
    "plt.axvline(color='r') # overall center of data deviations\n",
    "plt.show()"
   ]
  },
  {
   "cell_type": "markdown",
   "metadata": {},
   "source": [
    "### XGBoost Plot Predicted vs. Actual Targets"
   ]
  },
  {
   "cell_type": "code",
   "execution_count": 44,
   "metadata": {},
   "outputs": [
    {
     "data": {
      "image/png": "[encoded data removed]",
      "text/plain": [
       "<Figure size 432x288 with 1 Axes>"
      ]
     },
     "metadata": {},
     "output_type": "display_data"
    }
   ],
   "source": [
    "# Plot the dataset\n",
    "plt.plot(df.x, df.y, label='Target')\n",
    "plt.plot(df.x, regressor.predict(df[['x']]), label='Predicted')\n",
    "plt.grid(True)\n",
    "plt.xlabel('Input Feature')\n",
    "plt.ylabel('Target')\n",
    "plt.legend()\n",
    "plt.title('XGBoost')\n",
    "plt.show()"
   ]
  },
  {
   "cell_type": "markdown",
   "metadata": {},
   "source": [
    "The plots are nearly identical. This is a great performance."
   ]
  },
  {
   "cell_type": "markdown",
   "metadata": {},
   "source": [
    "## Linear Regression Algorithm\n",
    "This section will set up *sklearn's* linear regression for comparison to XGBoost."
   ]
  },
  {
   "cell_type": "code",
   "execution_count": 45,
   "metadata": {},
   "outputs": [],
   "source": [
    "linear_regressor = LinearRegression() # from sklearn"
   ]
  },
  {
   "cell_type": "code",
   "execution_count": 46,
   "metadata": {},
   "outputs": [
    {
     "data": {
      "text/plain": [
       "LinearRegression(copy_X=True, fit_intercept=True, n_jobs=None,\n",
       "         normalize=False)"
      ]
     },
     "execution_count": 46,
     "metadata": {},
     "output_type": "execute_result"
    }
   ],
   "source": [
    "linear_regressor.fit(X_train,y_train)"
   ]
  },
  {
   "cell_type": "markdown",
   "metadata": {},
   "source": [
    "### Compare Weights Assigned by Linear Regression\n",
    "Using the original function: _5*x + 8 + noise_\n",
    "Below will show the following weights:\n",
    "* coeffecient(s) -> coef_\n",
    "* intercept -> intercept_"
   ]
  },
  {
   "cell_type": "code",
   "execution_count": 48,
   "metadata": {},
   "outputs": [
    {
     "data": {
      "text/plain": [
       "array([4.99917797])"
      ]
     },
     "execution_count": 48,
     "metadata": {},
     "output_type": "execute_result"
    }
   ],
   "source": [
    "linear_regressor.coef_ # Do not forget underscore '_' at the end. \n",
    "# This will estimate the coefficient for the linear regression plot"
   ]
  },
  {
   "cell_type": "markdown",
   "metadata": {},
   "source": [
    "Notice that the array value is very close to the actual coefficient *5*."
   ]
  },
  {
   "cell_type": "code",
   "execution_count": 49,
   "metadata": {},
   "outputs": [
    {
     "data": {
      "text/plain": [
       "7.7229154204349015"
      ]
     },
     "execution_count": 49,
     "metadata": {},
     "output_type": "execute_result"
    }
   ],
   "source": [
    "linear_regressor.intercept_"
   ]
  },
  {
   "cell_type": "markdown",
   "metadata": {},
   "source": [
    "Notice that the array value is very close to the actual coefficient *8*."
   ]
  },
  {
   "cell_type": "code",
   "execution_count": 50,
   "metadata": {},
   "outputs": [],
   "source": [
    "linear_result = linear_regressor.predict(df_validation[['x']])"
   ]
  },
  {
   "cell_type": "code",
   "execution_count": 51,
   "metadata": {},
   "outputs": [
    {
     "data": {
      "image/png": "[encoded data removed]",
      "text/plain": [
       "<Figure size 432x288 with 1 Axes>"
      ]
     },
     "metadata": {},
     "output_type": "display_data"
    }
   ],
   "source": [
    "plt.scatter(df_validation.x,df_validation.y,label='actual',marker='.')\n",
    "plt.scatter(df_validation.x,linear_result,label='predicted',marker='.')\n",
    "plt.grid(True)\n",
    "plt.title('LinearRegression - Validation Dataset')\n",
    "plt.legend()\n",
    "plt.show()"
   ]
  },
  {
   "cell_type": "markdown",
   "metadata": {},
   "source": [
    "The plot shows where the line expected to be drawn."
   ]
  },
  {
   "cell_type": "markdown",
   "metadata": {},
   "source": [
    "### Linear Regression Metrics\n",
    "Calculate the *mean squared error* and *root mean squared error*."
   ]
  },
  {
   "cell_type": "code",
   "execution_count": 52,
   "metadata": {},
   "outputs": [
    {
     "name": "stdout",
     "output_type": "stream",
     "text": [
      "Linear Regression Algorithm Metrics\n",
      " Mean Squared Error:  98.88\n",
      " Root Mean Squared Error:  9.94\n"
     ]
    }
   ],
   "source": [
    "# Display the Root Mean Square Error (RMSE) Metrics\n",
    "print('Linear Regression Algorithm Metrics')\n",
    "mse = mean_squared_error(df_validation.y,linear_result)\n",
    "print(' Mean Squared Error: {0: .2f}'.format(mse))\n",
    "print(' Root Mean Squared Error: {0: .2f}'.format(mse**.5))"
   ]
  },
  {
   "cell_type": "markdown",
   "metadata": {},
   "source": [
    "### Linear Regression Residual Histogram"
   ]
  },
  {
   "cell_type": "code",
   "execution_count": 53,
   "metadata": {},
   "outputs": [
    {
     "data": {
      "image/png": "[encoded data removed]",
      "text/plain": [
       "<Figure size 432x288 with 1 Axes>"
      ]
     },
     "metadata": {},
     "output_type": "display_data"
    }
   ],
   "source": [
    "# Training Data Residuals\n",
    "residuals = df_validation.y - linear_result\n",
    "plt.hist(residuals)\n",
    "plt.grid(True)\n",
    "plt.xlabel('Actual - Predicted')\n",
    "plt.ylabel('Count')\n",
    "plt.title('XGBoost Residual')\n",
    "plt.axvline(color='r') # overall center of data deviations\n",
    "plt.show()"
   ]
  },
  {
   "cell_type": "markdown",
   "metadata": {},
   "source": [
    "Linear Regression in this case performed better than XGBoost."
   ]
  },
  {
   "cell_type": "markdown",
   "metadata": {},
   "source": [
    "### Linear Plot Predicted vs. Actual Targets"
   ]
  },
  {
   "cell_type": "code",
   "execution_count": 54,
   "metadata": {},
   "outputs": [
    {
     "data": {
      "image/png": "[encoded data removed]",
      "text/plain": [
       "<Figure size 432x288 with 1 Axes>"
      ]
     },
     "metadata": {},
     "output_type": "display_data"
    }
   ],
   "source": [
    "# Plot the dataset\n",
    "plt.plot(df.x, df.y, label='Target')\n",
    "plt.plot(df.x, linear_regressor.predict(df[['x']]), label='Predicted')\n",
    "plt.grid(True)\n",
    "plt.xlabel('Input Feature')\n",
    "plt.ylabel('Target')\n",
    "plt.legend()\n",
    "plt.title('XGBoost')\n",
    "plt.show()"
   ]
  },
  {
   "cell_type": "markdown",
   "metadata": {},
   "source": [
    "## Input Features - Outside of Range Used for Training\n",
    "* XGBoost Prediction has an upper and lower bound (directly applies to tree-based algorithms)\n",
    "* Linear Regression extrapolates"
   ]
  },
  {
   "cell_type": "code",
   "execution_count": 55,
   "metadata": {},
   "outputs": [],
   "source": [
    "# Revist the function\n",
    "def straight_line(x):\n",
    "    return 5*x+8"
   ]
  },
  {
   "cell_type": "markdown",
   "metadata": {},
   "source": [
    "### X is outside the training samples' range"
   ]
  },
  {
   "cell_type": "code",
   "execution_count": 101,
   "metadata": {},
   "outputs": [],
   "source": [
    "X = np.array([-100,-5,0.5,1,1.9,5,29,49,160,1000,5000])\n",
    "y = straight_line(X)\n",
    "\n",
    "df_IF = pd.DataFrame({'x':X,'y':y})\n",
    "df_IF['xgboost']=regressor.predict(df_IF[['x']])\n",
    "df_IF['linear']=linear_regressor.predict(df_IF[['x']])"
   ]
  },
  {
   "cell_type": "code",
   "execution_count": 102,
   "metadata": {},
   "outputs": [
    {
     "data": {
      "text/html": [
       "<div>\n",
       "<style scoped>\n",
       "    .dataframe tbody tr th:only-of-type {\n",
       "        vertical-align: middle;\n",
       "    }\n",
       "\n",
       "    .dataframe tbody tr th {\n",
       "        vertical-align: top;\n",
       "    }\n",
       "\n",
       "    .dataframe thead th {\n",
       "        text-align: right;\n",
       "    }\n",
       "</style>\n",
       "<table border=\"1\" class=\"dataframe\">\n",
       "  <thead>\n",
       "    <tr style=\"text-align: right;\">\n",
       "      <th></th>\n",
       "      <th>x</th>\n",
       "      <th>y</th>\n",
       "      <th>xgboost</th>\n",
       "      <th>linear</th>\n",
       "    </tr>\n",
       "  </thead>\n",
       "  <tbody>\n",
       "    <tr>\n",
       "      <th>0</th>\n",
       "      <td>-100.0</td>\n",
       "      <td>-492.0</td>\n",
       "      <td>18.386923</td>\n",
       "      <td>-492.194882</td>\n",
       "    </tr>\n",
       "    <tr>\n",
       "      <th>1</th>\n",
       "      <td>-5.0</td>\n",
       "      <td>-17.0</td>\n",
       "      <td>18.386923</td>\n",
       "      <td>-17.272974</td>\n",
       "    </tr>\n",
       "    <tr>\n",
       "      <th>2</th>\n",
       "      <td>0.5</td>\n",
       "      <td>10.5</td>\n",
       "      <td>18.386923</td>\n",
       "      <td>10.222504</td>\n",
       "    </tr>\n",
       "    <tr>\n",
       "      <th>3</th>\n",
       "      <td>1.0</td>\n",
       "      <td>13.0</td>\n",
       "      <td>18.386923</td>\n",
       "      <td>12.722093</td>\n",
       "    </tr>\n",
       "    <tr>\n",
       "      <th>4</th>\n",
       "      <td>1.9</td>\n",
       "      <td>17.5</td>\n",
       "      <td>7.404528</td>\n",
       "      <td>17.221354</td>\n",
       "    </tr>\n",
       "    <tr>\n",
       "      <th>5</th>\n",
       "      <td>5.0</td>\n",
       "      <td>33.0</td>\n",
       "      <td>30.329878</td>\n",
       "      <td>32.718805</td>\n",
       "    </tr>\n",
       "    <tr>\n",
       "      <th>6</th>\n",
       "      <td>29.0</td>\n",
       "      <td>153.0</td>\n",
       "      <td>159.193268</td>\n",
       "      <td>152.699077</td>\n",
       "    </tr>\n",
       "    <tr>\n",
       "      <th>7</th>\n",
       "      <td>49.0</td>\n",
       "      <td>253.0</td>\n",
       "      <td>252.636932</td>\n",
       "      <td>252.682636</td>\n",
       "    </tr>\n",
       "    <tr>\n",
       "      <th>8</th>\n",
       "      <td>160.0</td>\n",
       "      <td>808.0</td>\n",
       "      <td>761.303406</td>\n",
       "      <td>807.591391</td>\n",
       "    </tr>\n",
       "    <tr>\n",
       "      <th>9</th>\n",
       "      <td>1000.0</td>\n",
       "      <td>5008.0</td>\n",
       "      <td>761.303406</td>\n",
       "      <td>5006.900890</td>\n",
       "    </tr>\n",
       "    <tr>\n",
       "      <th>10</th>\n",
       "      <td>5000.0</td>\n",
       "      <td>25008.0</td>\n",
       "      <td>761.303406</td>\n",
       "      <td>25003.612790</td>\n",
       "    </tr>\n",
       "  </tbody>\n",
       "</table>\n",
       "</div>"
      ],
      "text/plain": [
       "         x        y     xgboost        linear\n",
       "0   -100.0   -492.0   18.386923   -492.194882\n",
       "1     -5.0    -17.0   18.386923    -17.272974\n",
       "2      0.5     10.5   18.386923     10.222504\n",
       "3      1.0     13.0   18.386923     12.722093\n",
       "4      1.9     17.5    7.404528     17.221354\n",
       "5      5.0     33.0   30.329878     32.718805\n",
       "6     29.0    153.0  159.193268    152.699077\n",
       "7     49.0    253.0  252.636932    252.682636\n",
       "8    160.0    808.0  761.303406    807.591391\n",
       "9   1000.0   5008.0  761.303406   5006.900890\n",
       "10  5000.0  25008.0  761.303406  25003.612790"
      ]
     },
     "execution_count": 102,
     "metadata": {},
     "output_type": "execute_result"
    }
   ],
   "source": [
    "df_IF # display values"
   ]
  },
  {
   "cell_type": "markdown",
   "metadata": {},
   "source": [
    "* XGBoost have caps for upper and lower bounds, not reach the extent of *y*, due to being designed to be memory efficient. The *upper* bound is set to *X=149* and *lower* bound to *X=1*, as default, due to regressor being configured to ```reg:squarederror```.\n",
    "* Linear followed the *y* values nearly identically"
   ]
  },
  {
   "cell_type": "markdown",
   "metadata": {},
   "source": [
    "### Visualize the Outside of Range"
   ]
  },
  {
   "cell_type": "code",
   "execution_count": 103,
   "metadata": {},
   "outputs": [
    {
     "data": {
      "image/png": "[encoded data removed]",
      "text/plain": [
       "<Figure size 432x288 with 1 Axes>"
      ]
     },
     "metadata": {},
     "output_type": "display_data"
    }
   ],
   "source": [
    "# XGBoost Predictions: upper and lower bounds\n",
    "# Linear Regression: extrapolation\n",
    "plt.scatter(df_IF.x, df_IF.y, label='Actual',color='red')\n",
    "plt.plot(df_IF.x,df_IF.linear,label='LinearRegression')\n",
    "plt.plot(df_IF.x,df_IF.xgboost,label='XGBoost')\n",
    "plt.xlabel('X')\n",
    "plt.ylabel('y')\n",
    "plt.legend()\n",
    "plt.title('Input Outside Range')\n",
    "plt.show()"
   ]
  },
  {
   "cell_type": "markdown",
   "metadata": {},
   "source": [
    "Here, the straight horizontal shows where XGBoost bounded.\n",
    "\n",
    "Red dots are the 'ground truth.'\n"
   ]
  },
  {
   "cell_type": "markdown",
   "metadata": {},
   "source": [
    "### X is Inside the training samples' range"
   ]
  },
  {
   "cell_type": "code",
   "execution_count": 104,
   "metadata": {},
   "outputs": [],
   "source": [
    "X = np.array([1,3,5,7,89,110,125,149]) # Values changed\n",
    "y = straight_line(X)\n",
    "\n",
    "df_IF = pd.DataFrame({'x':X,'y':y})\n",
    "df_IF['xgboost']=regressor.predict(df_IF[['x']])\n",
    "df_IF['linear']=linear_regressor.predict(df_IF[['x']])"
   ]
  },
  {
   "cell_type": "code",
   "execution_count": 105,
   "metadata": {},
   "outputs": [
    {
     "data": {
      "text/html": [
       "<div>\n",
       "<style scoped>\n",
       "    .dataframe tbody tr th:only-of-type {\n",
       "        vertical-align: middle;\n",
       "    }\n",
       "\n",
       "    .dataframe tbody tr th {\n",
       "        vertical-align: top;\n",
       "    }\n",
       "\n",
       "    .dataframe thead th {\n",
       "        text-align: right;\n",
       "    }\n",
       "</style>\n",
       "<table border=\"1\" class=\"dataframe\">\n",
       "  <thead>\n",
       "    <tr style=\"text-align: right;\">\n",
       "      <th></th>\n",
       "      <th>x</th>\n",
       "      <th>y</th>\n",
       "      <th>xgboost</th>\n",
       "      <th>linear</th>\n",
       "    </tr>\n",
       "  </thead>\n",
       "  <tbody>\n",
       "    <tr>\n",
       "      <th>0</th>\n",
       "      <td>1</td>\n",
       "      <td>13</td>\n",
       "      <td>18.386923</td>\n",
       "      <td>12.722093</td>\n",
       "    </tr>\n",
       "    <tr>\n",
       "      <th>1</th>\n",
       "      <td>3</td>\n",
       "      <td>23</td>\n",
       "      <td>23.258354</td>\n",
       "      <td>22.720449</td>\n",
       "    </tr>\n",
       "    <tr>\n",
       "      <th>2</th>\n",
       "      <td>5</td>\n",
       "      <td>33</td>\n",
       "      <td>30.329878</td>\n",
       "      <td>32.718805</td>\n",
       "    </tr>\n",
       "    <tr>\n",
       "      <th>3</th>\n",
       "      <td>7</td>\n",
       "      <td>43</td>\n",
       "      <td>44.401634</td>\n",
       "      <td>42.717161</td>\n",
       "    </tr>\n",
       "    <tr>\n",
       "      <th>4</th>\n",
       "      <td>89</td>\n",
       "      <td>453</td>\n",
       "      <td>467.098206</td>\n",
       "      <td>452.649755</td>\n",
       "    </tr>\n",
       "    <tr>\n",
       "      <th>5</th>\n",
       "      <td>110</td>\n",
       "      <td>558</td>\n",
       "      <td>561.956421</td>\n",
       "      <td>557.632493</td>\n",
       "    </tr>\n",
       "    <tr>\n",
       "      <th>6</th>\n",
       "      <td>125</td>\n",
       "      <td>633</td>\n",
       "      <td>648.190186</td>\n",
       "      <td>632.620162</td>\n",
       "    </tr>\n",
       "    <tr>\n",
       "      <th>7</th>\n",
       "      <td>149</td>\n",
       "      <td>753</td>\n",
       "      <td>761.303406</td>\n",
       "      <td>752.600434</td>\n",
       "    </tr>\n",
       "  </tbody>\n",
       "</table>\n",
       "</div>"
      ],
      "text/plain": [
       "     x    y     xgboost      linear\n",
       "0    1   13   18.386923   12.722093\n",
       "1    3   23   23.258354   22.720449\n",
       "2    5   33   30.329878   32.718805\n",
       "3    7   43   44.401634   42.717161\n",
       "4   89  453  467.098206  452.649755\n",
       "5  110  558  561.956421  557.632493\n",
       "6  125  633  648.190186  632.620162\n",
       "7  149  753  761.303406  752.600434"
      ]
     },
     "execution_count": 105,
     "metadata": {},
     "output_type": "execute_result"
    }
   ],
   "source": [
    "df_IF # display values"
   ]
  },
  {
   "cell_type": "markdown",
   "metadata": {},
   "source": [
    "* XGBoost and Linear followed the *y* values closer."
   ]
  },
  {
   "cell_type": "markdown",
   "metadata": {},
   "source": [
    "### Visualize the Inside of Range"
   ]
  },
  {
   "cell_type": "code",
   "execution_count": 107,
   "metadata": {},
   "outputs": [
    {
     "data": {
      "image/png": "[encoded data removed]",
      "text/plain": [
       "<Figure size 432x288 with 1 Axes>"
      ]
     },
     "metadata": {},
     "output_type": "display_data"
    }
   ],
   "source": [
    "# XGBoost Predictions: upper and lower bounds\n",
    "# Linear Regression: extrapolation\n",
    "plt.scatter(df_IF.x, df_IF.y, label='Actual',color='red')\n",
    "plt.plot(df_IF.x,df_IF.linear,label='LinearRegression')\n",
    "plt.plot(df_IF.x,df_IF.xgboost,label='XGBoost')\n",
    "plt.xlabel('X')\n",
    "plt.ylabel('y')\n",
    "plt.legend()\n",
    "plt.title('Input Inside Range')\n",
    "plt.show()"
   ]
  },
  {
   "cell_type": "markdown",
   "metadata": {},
   "source": [
    "Here, there is no straight horizontal for XGBoost bound, due to inputs inside being in its range.\n",
    "\n",
    "Red dots are the 'ground truth.'\n",
    "\n",
    "The reason for XGBoost's bounding is to concentrate on decision tree-like operations. Many times, the branches do not need wide array of values to make the decision."
   ]
  },
  {
   "cell_type": "markdown",
   "metadata": {},
   "source": [
    "## Summary\n",
    "1. Updated core installation tools\n",
    "1. Checked for required libraries\n",
    "1. Installed `xgboost` for local mode\n",
    "1. Built training and validation datasets\n",
    "1. Built `xgboost` Regressor\n",
    "1. Built *Linear Regression* care of `sklearn`\n",
    "1. Explored performance 'Out of Range' and 'In Range' Inputs with *XGBoost* and *Linear Regression*"
   ]
  }
 ],
 "metadata": {
  "kernelspec": {
   "display_name": "conda_amazonei_tensorflow_p36",
   "language": "python",
   "name": "conda_amazonei_tensorflow_p36"
  },
  "language_info": {
   "codemirror_mode": {
    "name": "ipython",
    "version": 3
   },
   "file_extension": ".py",
   "mimetype": "text/x-python",
   "name": "python",
   "nbconvert_exporter": "python",
   "pygments_lexer": "ipython3",
   "version": "3.6.5"
  }
 },
 "nbformat": 4,
 "nbformat_minor": 4
}
