{
 "cells": [
  {
   "cell_type": "markdown",
   "metadata": {},
   "source": [
    "# Diabetes Dataset\n",
    "## Predict if a person is at risk of developing diabetes\n",
    "## Binary Classification - XGBoost"
   ]
  },
  {
   "cell_type": "markdown",
   "metadata": {},
   "source": [
    "---"
   ]
  },
  {
   "cell_type": "markdown",
   "metadata": {},
   "source": [
    "## Install *xgboost* into notebook"
   ]
  },
  {
   "cell_type": "code",
   "execution_count": 1,
   "metadata": {},
   "outputs": [
    {
     "name": "stdout",
     "output_type": "stream",
     "text": [
      "Solving environment: done\n",
      "\n",
      "\n",
      "==> WARNING: A newer version of conda exists. <==\n",
      "  current version: 4.5.12\n",
      "  latest version: 4.8.3\n",
      "\n",
      "Please update conda by running\n",
      "\n",
      "    $ conda update -n base -c defaults conda\n",
      "\n",
      "\n",
      "\n",
      "## Package Plan ##\n",
      "\n",
      "  environment location: /home/ec2-user/anaconda3/envs/amazonei_tensorflow_p36\n",
      "\n",
      "  added / updated specs: \n",
      "    - xgboost\n",
      "\n",
      "\n",
      "The following packages will be downloaded:\n",
      "\n",
      "    package                    |            build\n",
      "    ---------------------------|-----------------\n",
      "    py-xgboost-1.0.2           |   py36h9f0ad1d_0          94 KB  conda-forge\n",
      "    pycurl-7.43.0.5            |   py36h16ce93b_0          69 KB  conda-forge\n",
      "    pykerberos-1.2.1           |   py36h505690d_0          26 KB  conda-forge\n",
      "    python-3.6.7               |    h381d211_1004        34.5 MB  conda-forge\n",
      "    cryptography-2.8           |   py36h45558ae_2         628 KB  conda-forge\n",
      "    libxgboost-1.0.2           |       he1b5a44_0         2.8 MB  conda-forge\n",
      "    _py-xgboost-mutex-2.0      |            cpu_0           8 KB  conda-forge\n",
      "    grpcio-1.23.0              |   py36h769ab6c_1         1.1 MB  conda-forge\n",
      "    xgboost-1.0.2              |   py36h831f99a_0          11 KB  conda-forge\n",
      "    krb5-1.16.4                |       h2fd8d38_0         1.4 MB  conda-forge\n",
      "    libcurl-7.68.0             |       hda55be3_0         564 KB  conda-forge\n",
      "    curl-7.68.0                |       hf8cf82a_0         137 KB  conda-forge\n",
      "    ------------------------------------------------------------\n",
      "                                           Total:        41.3 MB\n",
      "\n",
      "The following NEW packages will be INSTALLED:\n",
      "\n",
      "    _py-xgboost-mutex: 2.0-cpu_0               conda-forge\n",
      "    libxgboost:        1.0.2-he1b5a44_0        conda-forge\n",
      "    py-xgboost:        1.0.2-py36h9f0ad1d_0    conda-forge\n",
      "    python_abi:        3.6-1_cp36m             conda-forge\n",
      "    xgboost:           1.0.2-py36h831f99a_0    conda-forge\n",
      "\n",
      "The following packages will be UPDATED:\n",
      "\n",
      "    certifi:           2019.11.28-py36_0                   --> 2019.11.28-py36h9f0ad1d_1 conda-forge\n",
      "    cryptography:      2.3.1-py36hc365091_0                --> 2.8-py36h45558ae_2        conda-forge\n",
      "    curl:              7.61.0-h84994c4_0                   --> 7.68.0-hf8cf82a_0         conda-forge\n",
      "    grpcio:            1.14.1-py36h9ba97e2_0               --> 1.23.0-py36h769ab6c_1     conda-forge\n",
      "    krb5:              1.14.2-hcdc1b81_6                   --> 1.16.4-h2fd8d38_0         conda-forge\n",
      "    libcurl:           7.61.0-h1ad7b7a_0                   --> 7.68.0-hda55be3_0         conda-forge\n",
      "    libssh2:           1.8.0-h9cfc8f7_4                    --> 1.8.2-h22169c7_2          conda-forge\n",
      "    openssl:           1.0.2u-h7b6447c_0                   --> 1.1.1e-h516909a_0         conda-forge\n",
      "    pycurl:            7.43.0.2-py36hb7f436b_0             --> 7.43.0.5-py36h16ce93b_0   conda-forge\n",
      "    pykerberos:        1.2.1-py36h14c3975_0                --> 1.2.1-py36h505690d_0      conda-forge\n",
      "    python:            3.6.6-h6e4f718_2                    --> 3.6.7-h381d211_1004       conda-forge\n",
      "    qt:                5.9.6-h8703b6f_2                    --> 5.9.7-h5867ecd_1                     \n",
      "\n",
      "The following packages will be DOWNGRADED:\n",
      "\n",
      "    ca-certificates:   2020.1.1-0                          --> 2019.11.28-hecc5488_0     conda-forge\n",
      "\n",
      "\n",
      "Downloading and Extracting Packages\n",
      "py-xgboost-1.0.2     | 94 KB     | ##################################### | 100% \n",
      "pycurl-7.43.0.5      | 69 KB     | ##################################### | 100% \n",
      "pykerberos-1.2.1     | 26 KB     | ##################################### | 100% \n",
      "python-3.6.7         | 34.5 MB   | ##################################### | 100% \n",
      "cryptography-2.8     | 628 KB    | ##################################### | 100% \n",
      "libxgboost-1.0.2     | 2.8 MB    | ##################################### | 100% \n",
      "_py-xgboost-mutex-2. | 8 KB      | ##################################### | 100% \n",
      "grpcio-1.23.0        | 1.1 MB    | ##################################### | 100% \n",
      "xgboost-1.0.2        | 11 KB     | ##################################### | 100% \n",
      "krb5-1.16.4          | 1.4 MB    | ##################################### | 100% \n",
      "libcurl-7.68.0       | 564 KB    | ##################################### | 100% \n",
      "curl-7.68.0          | 137 KB    | ##################################### | 100% \n",
      "Preparing transaction: done\n",
      "Verifying transaction: done\n",
      "Executing transaction: done\n"
     ]
    }
   ],
   "source": [
    "!conda install -y -c conda-forge xgboost"
   ]
  },
  {
   "cell_type": "code",
   "execution_count": 2,
   "metadata": {},
   "outputs": [],
   "source": [
    "import sys\n",
    "import numpy as np\n",
    "import matplotlib.pyplot as plt\n",
    "import itertools\n",
    "\n",
    "import xgboost as xgb\n",
    "from sklearn.metrics import classification_report, confusion_matrix"
   ]
  },
  {
   "cell_type": "code",
   "execution_count": 3,
   "metadata": {},
   "outputs": [],
   "source": [
    "column_list_file = 'diabetesTrain_columnList.txt'\n",
    "train_file = 'diabetesTrain.csv'\n",
    "validation_file = 'diabetesValidation.csv'"
   ]
  },
  {
   "cell_type": "code",
   "execution_count": 5,
   "metadata": {},
   "outputs": [],
   "source": [
    "columns = ''\n",
    "with open(column_list_file,'r') as f:\n",
    "    columns=f.read().split(',')"
   ]
  },
  {
   "cell_type": "code",
   "execution_count": 6,
   "metadata": {},
   "outputs": [
    {
     "data": {
      "text/plain": [
       "['diabetes_class',\n",
       " 'preg_count',\n",
       " 'glucose_concentration',\n",
       " 'diastolic_bp',\n",
       " 'triceps_skin_fold_thickness',\n",
       " 'two_hr_serum_insulin',\n",
       " 'bmi',\n",
       " 'diabetes_pedi',\n",
       " 'age']"
      ]
     },
     "execution_count": 6,
     "metadata": {},
     "output_type": "execute_result"
    }
   ],
   "source": [
    "columns # display columns"
   ]
  },
  {
   "cell_type": "code",
   "execution_count": 7,
   "metadata": {},
   "outputs": [
    {
     "ename": "NameError",
     "evalue": "name 'pd' is not defined",
     "output_type": "error",
     "traceback": [
      "\u001b[0;31m---------------------------------------------------------------------------\u001b[0m",
      "\u001b[0;31mNameError\u001b[0m                                 Traceback (most recent call last)",
      "\u001b[0;32m<ipython-input-7-a50cca435bc0>\u001b[0m in \u001b[0;36m<module>\u001b[0;34m()\u001b[0m\n\u001b[1;32m      1\u001b[0m \u001b[0;31m# Specify the column names as the file does not have column header\u001b[0m\u001b[0;34m\u001b[0m\u001b[0;34m\u001b[0m\u001b[0m\n\u001b[0;32m----> 2\u001b[0;31m \u001b[0mdf_train\u001b[0m \u001b[0;34m=\u001b[0m \u001b[0mpd\u001b[0m\u001b[0;34m.\u001b[0m\u001b[0mread_csv\u001b[0m\u001b[0;34m(\u001b[0m\u001b[0mtrain_file\u001b[0m\u001b[0;34m,\u001b[0m\u001b[0mnames\u001b[0m\u001b[0;34m=\u001b[0m\u001b[0mcolumns\u001b[0m\u001b[0;34m)\u001b[0m\u001b[0;34m\u001b[0m\u001b[0m\n\u001b[0m\u001b[1;32m      3\u001b[0m \u001b[0mdf_validation\u001b[0m \u001b[0;34m=\u001b[0m \u001b[0mpd\u001b[0m\u001b[0;34m.\u001b[0m\u001b[0mread_csv\u001b[0m\u001b[0;34m(\u001b[0m\u001b[0mvalidation_file\u001b[0m\u001b[0;34m,\u001b[0m\u001b[0mnames\u001b[0m\u001b[0;34m=\u001b[0m\u001b[0mcolumns\u001b[0m\u001b[0;34m)\u001b[0m\u001b[0;34m\u001b[0m\u001b[0m\n",
      "\u001b[0;31mNameError\u001b[0m: name 'pd' is not defined"
     ]
    }
   ],
   "source": [
    "# Specify the column names as the file does not have column header\n",
    "df_train = pd.read_csv(train_file,names=columns)\n",
    "df_validation = pd.read_csv(validation_file,names=columns)"
   ]
  },
  {
   "cell_type": "code",
   "execution_count": null,
   "metadata": {},
   "outputs": [],
   "source": []
  }
 ],
 "metadata": {
  "kernelspec": {
   "display_name": "conda_amazonei_tensorflow_p36",
   "language": "python",
   "name": "conda_amazonei_tensorflow_p36"
  },
  "language_info": {
   "codemirror_mode": {
    "name": "ipython",
    "version": 3
   },
   "file_extension": ".py",
   "mimetype": "text/x-python",
   "name": "python",
   "nbconvert_exporter": "python",
   "pygments_lexer": "ipython3",
   "version": "3.6.6"
  }
 },
 "nbformat": 4,
 "nbformat_minor": 4
}
