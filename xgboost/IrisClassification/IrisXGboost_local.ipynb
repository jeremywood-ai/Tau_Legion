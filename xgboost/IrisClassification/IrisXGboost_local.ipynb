{
 "cells": [
  {
   "cell_type": "markdown",
   "metadata": {},
   "source": [
    "# Training Iris Dataset with XGBoost"
   ]
  },
  {
   "cell_type": "markdown",
   "metadata": {},
   "source": [
    "*Note:* This notebook with use a localized XGBoost"
   ]
  },
  {
   "cell_type": "markdown",
   "metadata": {},
   "source": [
    "## Install XGBoost into the Notebook"
   ]
  },
  {
   "cell_type": "code",
   "execution_count": 1,
   "metadata": {},
   "outputs": [
    {
     "name": "stdout",
     "output_type": "stream",
     "text": [
      "Solving environment: done\n",
      "\n",
      "\n",
      "==> WARNING: A newer version of conda exists. <==\n",
      "  current version: 4.5.12\n",
      "  latest version: 4.8.2\n",
      "\n",
      "Please update conda by running\n",
      "\n",
      "    $ conda update -n base -c defaults conda\n",
      "\n",
      "\n",
      "\n",
      "## Package Plan ##\n",
      "\n",
      "  environment location: /home/ec2-user/anaconda3/envs/amazonei_tensorflow_p36\n",
      "\n",
      "  added / updated specs: \n",
      "    - xgboost\n",
      "\n",
      "\n",
      "The following packages will be downloaded:\n",
      "\n",
      "    package                    |            build\n",
      "    ---------------------------|-----------------\n",
      "    python-3.6.7               |    h381d211_1004        34.5 MB  conda-forge\n",
      "    pykerberos-1.2.1           |   py36h505690d_0          26 KB  conda-forge\n",
      "    cryptography-2.8           |   py36h72c5cf5_1         616 KB  conda-forge\n",
      "    expat-2.2.9                |       he1b5a44_2         191 KB  conda-forge\n",
      "    libxgboost-0.90            |       he1b5a44_4         2.4 MB  conda-forge\n",
      "    xgboost-0.90               |   py36he1b5a44_4          11 KB  conda-forge\n",
      "    curl-7.68.0                |       hf8cf82a_0         137 KB  conda-forge\n",
      "    pycurl-7.43.0.5            |   py36h16ce93b_0          69 KB  conda-forge\n",
      "    krb5-1.16.4                |       h2fd8d38_0         1.4 MB  conda-forge\n",
      "    tk-8.6.10                  |       hed695b0_0         3.2 MB  conda-forge\n",
      "    libcurl-7.68.0             |       hda55be3_0         564 KB  conda-forge\n",
      "    py-xgboost-0.90            |           py36_4          73 KB  conda-forge\n",
      "    grpcio-1.23.0              |   py36he9ae1f9_0         1.1 MB  conda-forge\n",
      "    _py-xgboost-mutex-2.0      |            cpu_0           8 KB  conda-forge\n",
      "    ------------------------------------------------------------\n",
      "                                           Total:        44.3 MB\n",
      "\n",
      "The following NEW packages will be INSTALLED:\n",
      "\n",
      "    _py-xgboost-mutex: 2.0-cpu_0                conda-forge\n",
      "    gettext:           0.19.8.1-hc5be6a0_1002   conda-forge\n",
      "    libxgboost:        0.90-he1b5a44_4          conda-forge\n",
      "    py-xgboost:        0.90-py36_4              conda-forge\n",
      "    xgboost:           0.90-py36he1b5a44_4      conda-forge\n",
      "\n",
      "The following packages will be UPDATED:\n",
      "\n",
      "    ca-certificates:   2019.10.16-0                         --> 2019.11.28-hecc5488_0   conda-forge\n",
      "    certifi:           2019.9.11-py36_0                     --> 2019.11.28-py36_0       conda-forge\n",
      "    cryptography:      2.2.2-py36h14c3975_0                 --> 2.8-py36h72c5cf5_1      conda-forge\n",
      "    curl:              7.60.0-h84994c4_0                    --> 7.68.0-hf8cf82a_0       conda-forge\n",
      "    expat:             2.2.5-he0dffb1_0                     --> 2.2.9-he1b5a44_2        conda-forge\n",
      "    glib:              2.56.1-h000015b_0                    --> 2.58.3-h6f030ca_1002    conda-forge\n",
      "    grpcio:            1.16.0-py36h4f00d22_1000 conda-forge --> 1.23.0-py36he9ae1f9_0   conda-forge\n",
      "    krb5:              1.14.2-hcdc1b81_6                    --> 1.16.4-h2fd8d38_0       conda-forge\n",
      "    libcurl:           7.60.0-h1ad7b7a_0                    --> 7.68.0-hda55be3_0       conda-forge\n",
      "    libpng:            1.6.34-hb9fc6fc_0                    --> 1.6.37-hed695b0_0       conda-forge\n",
      "    libssh2:           1.8.0-h9cfc8f7_4                     --> 1.8.2-h22169c7_2        conda-forge\n",
      "    openssl:           1.0.2t-h7b6447c_1                    --> 1.1.1d-h516909a_0       conda-forge\n",
      "    pycurl:            7.43.0.1-py36hb7f436b_0              --> 7.43.0.5-py36h16ce93b_0 conda-forge\n",
      "    pykerberos:        1.2.1-py36h14c3975_0                 --> 1.2.1-py36h505690d_0    conda-forge\n",
      "    python:            3.6.5-hc3d631a_2                     --> 3.6.7-h381d211_1004     conda-forge\n",
      "    qt:                5.9.6-h52aff34_0                     --> 5.9.7-h5867ecd_1                   \n",
      "    sqlite:            3.23.1-he433501_0                    --> 3.28.0-h8b20d00_0       conda-forge\n",
      "    tk:                8.6.7-hc745277_3                     --> 8.6.10-hed695b0_0       conda-forge\n",
      "\n",
      "\n",
      "Downloading and Extracting Packages\n",
      "python-3.6.7         | 34.5 MB   | ##################################### | 100% \n",
      "pykerberos-1.2.1     | 26 KB     | ##################################### | 100% \n",
      "cryptography-2.8     | 616 KB    | ##################################### | 100% \n",
      "expat-2.2.9          | 191 KB    | ##################################### | 100% \n",
      "libxgboost-0.90      | 2.4 MB    | ##################################### | 100% \n",
      "xgboost-0.90         | 11 KB     | ##################################### | 100% \n",
      "curl-7.68.0          | 137 KB    | ##################################### | 100% \n",
      "pycurl-7.43.0.5      | 69 KB     | ##################################### | 100% \n",
      "krb5-1.16.4          | 1.4 MB    | ##################################### | 100% \n",
      "tk-8.6.10            | 3.2 MB    | ##################################### | 100% \n",
      "libcurl-7.68.0       | 564 KB    | ##################################### | 100% \n",
      "py-xgboost-0.90      | 73 KB     | ##################################### | 100% \n",
      "grpcio-1.23.0        | 1.1 MB    | ##################################### | 100% \n",
      "_py-xgboost-mutex-2. | 8 KB      | ##################################### | 100% \n",
      "Preparing transaction: done\n",
      "Verifying transaction: done\n",
      "Executing transaction: done\n"
     ]
    }
   ],
   "source": [
    "!conda install -y -c conda-forge xgboost"
   ]
  },
  {
   "cell_type": "code",
   "execution_count": 2,
   "metadata": {},
   "outputs": [],
   "source": [
    "import sys\n",
    "import numpy as np\n",
    "import pandas as pd\n",
    "import matplotlib.pyplot as plt\n",
    "import itertools\n",
    "import xgboost as xgb\n",
    "\n",
    "from sklearn import preprocessing\n",
    "from sklearn.metrics import classification_report, confusion_matrix"
   ]
  },
  {
   "cell_type": "code",
   "execution_count": 3,
   "metadata": {},
   "outputs": [],
   "source": [
    "column_list_file = 'iris_TrainColumns.txt'\n",
    "train_file = 'irisTrain.csv'\n",
    "validation_file = 'irisValidation.csv'"
   ]
  },
  {
   "cell_type": "code",
   "execution_count": 17,
   "metadata": {},
   "outputs": [],
   "source": [
    "columns = ''\n",
    "with open(column_list_file,'r') as f:\n",
    "    columns = f.read().split(',')"
   ]
  },
  {
   "cell_type": "code",
   "execution_count": 18,
   "metadata": {},
   "outputs": [
    {
     "data": {
      "text/plain": [
       "['encoded_class', 'sepal_length', 'sepal_width', 'petal_length', 'petal_width']"
      ]
     },
     "execution_count": 18,
     "metadata": {},
     "output_type": "execute_result"
    }
   ],
   "source": [
    "columns # data check"
   ]
  },
  {
   "cell_type": "markdown",
   "metadata": {},
   "source": [
    "## Encode Class Labels to Integers"
   ]
  },
  {
   "cell_type": "code",
   "execution_count": 19,
   "metadata": {},
   "outputs": [
    {
     "data": {
      "text/plain": [
       "LabelEncoder()"
      ]
     },
     "execution_count": 19,
     "metadata": {},
     "output_type": "execute_result"
    }
   ],
   "source": [
    "# Labeled Classes\n",
    "labels=[0,1,2]\n",
    "classes = ['Iris-setosa', 'Iris-versicolor', 'Iris-virginica']\n",
    "le = preprocessing.LabelEncoder()\n",
    "le.fit(classes)"
   ]
  },
  {
   "cell_type": "markdown",
   "metadata": {},
   "source": [
    "## Specify Column Names"
   ]
  },
  {
   "cell_type": "code",
   "execution_count": 20,
   "metadata": {},
   "outputs": [],
   "source": [
    "df_train = pd.read_csv(train_file, names=columns)\n",
    "df_validation = pd.read_csv(validation_file, names=columns)"
   ]
  },
  {
   "cell_type": "code",
   "execution_count": 21,
   "metadata": {},
   "outputs": [
    {
     "data": {
      "text/html": [
       "<div>\n",
       "<style scoped>\n",
       "    .dataframe tbody tr th:only-of-type {\n",
       "        vertical-align: middle;\n",
       "    }\n",
       "\n",
       "    .dataframe tbody tr th {\n",
       "        vertical-align: top;\n",
       "    }\n",
       "\n",
       "    .dataframe thead th {\n",
       "        text-align: right;\n",
       "    }\n",
       "</style>\n",
       "<table border=\"1\" class=\"dataframe\">\n",
       "  <thead>\n",
       "    <tr style=\"text-align: right;\">\n",
       "      <th></th>\n",
       "      <th>encoded_class</th>\n",
       "      <th>sepal_length</th>\n",
       "      <th>sepal_width</th>\n",
       "      <th>petal_length</th>\n",
       "      <th>petal_width</th>\n",
       "    </tr>\n",
       "  </thead>\n",
       "  <tbody>\n",
       "    <tr>\n",
       "      <th>0</th>\n",
       "      <td>2</td>\n",
       "      <td>5.8</td>\n",
       "      <td>2.7</td>\n",
       "      <td>5.1</td>\n",
       "      <td>1.9</td>\n",
       "    </tr>\n",
       "    <tr>\n",
       "      <th>1</th>\n",
       "      <td>2</td>\n",
       "      <td>7.6</td>\n",
       "      <td>3.0</td>\n",
       "      <td>6.6</td>\n",
       "      <td>2.1</td>\n",
       "    </tr>\n",
       "    <tr>\n",
       "      <th>2</th>\n",
       "      <td>2</td>\n",
       "      <td>6.7</td>\n",
       "      <td>3.0</td>\n",
       "      <td>5.2</td>\n",
       "      <td>2.3</td>\n",
       "    </tr>\n",
       "    <tr>\n",
       "      <th>3</th>\n",
       "      <td>2</td>\n",
       "      <td>6.4</td>\n",
       "      <td>3.1</td>\n",
       "      <td>5.5</td>\n",
       "      <td>1.8</td>\n",
       "    </tr>\n",
       "    <tr>\n",
       "      <th>4</th>\n",
       "      <td>0</td>\n",
       "      <td>5.8</td>\n",
       "      <td>4.0</td>\n",
       "      <td>1.2</td>\n",
       "      <td>0.2</td>\n",
       "    </tr>\n",
       "  </tbody>\n",
       "</table>\n",
       "</div>"
      ],
      "text/plain": [
       "   encoded_class  sepal_length  sepal_width  petal_length  petal_width\n",
       "0              2           5.8          2.7           5.1          1.9\n",
       "1              2           7.6          3.0           6.6          2.1\n",
       "2              2           6.7          3.0           5.2          2.3\n",
       "3              2           6.4          3.1           5.5          1.8\n",
       "4              0           5.8          4.0           1.2          0.2"
      ]
     },
     "execution_count": 21,
     "metadata": {},
     "output_type": "execute_result"
    }
   ],
   "source": [
    "df_train.head() # data check"
   ]
  },
  {
   "cell_type": "code",
   "execution_count": 22,
   "metadata": {},
   "outputs": [
    {
     "data": {
      "text/html": [
       "<div>\n",
       "<style scoped>\n",
       "    .dataframe tbody tr th:only-of-type {\n",
       "        vertical-align: middle;\n",
       "    }\n",
       "\n",
       "    .dataframe tbody tr th {\n",
       "        vertical-align: top;\n",
       "    }\n",
       "\n",
       "    .dataframe thead th {\n",
       "        text-align: right;\n",
       "    }\n",
       "</style>\n",
       "<table border=\"1\" class=\"dataframe\">\n",
       "  <thead>\n",
       "    <tr style=\"text-align: right;\">\n",
       "      <th></th>\n",
       "      <th>encoded_class</th>\n",
       "      <th>sepal_length</th>\n",
       "      <th>sepal_width</th>\n",
       "      <th>petal_length</th>\n",
       "      <th>petal_width</th>\n",
       "    </tr>\n",
       "  </thead>\n",
       "  <tbody>\n",
       "    <tr>\n",
       "      <th>0</th>\n",
       "      <td>0</td>\n",
       "      <td>4.6</td>\n",
       "      <td>3.1</td>\n",
       "      <td>1.5</td>\n",
       "      <td>0.2</td>\n",
       "    </tr>\n",
       "    <tr>\n",
       "      <th>1</th>\n",
       "      <td>1</td>\n",
       "      <td>6.1</td>\n",
       "      <td>2.9</td>\n",
       "      <td>4.7</td>\n",
       "      <td>1.4</td>\n",
       "    </tr>\n",
       "    <tr>\n",
       "      <th>2</th>\n",
       "      <td>2</td>\n",
       "      <td>6.5</td>\n",
       "      <td>3.0</td>\n",
       "      <td>5.2</td>\n",
       "      <td>2.0</td>\n",
       "    </tr>\n",
       "    <tr>\n",
       "      <th>3</th>\n",
       "      <td>1</td>\n",
       "      <td>5.0</td>\n",
       "      <td>2.0</td>\n",
       "      <td>3.5</td>\n",
       "      <td>1.0</td>\n",
       "    </tr>\n",
       "    <tr>\n",
       "      <th>4</th>\n",
       "      <td>0</td>\n",
       "      <td>5.0</td>\n",
       "      <td>3.6</td>\n",
       "      <td>1.4</td>\n",
       "      <td>0.2</td>\n",
       "    </tr>\n",
       "  </tbody>\n",
       "</table>\n",
       "</div>"
      ],
      "text/plain": [
       "   encoded_class  sepal_length  sepal_width  petal_length  petal_width\n",
       "0              0           4.6          3.1           1.5          0.2\n",
       "1              1           6.1          2.9           4.7          1.4\n",
       "2              2           6.5          3.0           5.2          2.0\n",
       "3              1           5.0          2.0           3.5          1.0\n",
       "4              0           5.0          3.6           1.4          0.2"
      ]
     },
     "execution_count": 22,
     "metadata": {},
     "output_type": "execute_result"
    }
   ],
   "source": [
    "df_validation.head()"
   ]
  },
  {
   "cell_type": "markdown",
   "metadata": {},
   "source": [
    "## Training and Validation Dataframe Setup"
   ]
  },
  {
   "cell_type": "code",
   "execution_count": 23,
   "metadata": {},
   "outputs": [],
   "source": [
    "X_train = df_train.iloc[:,1:] # Features: 1st column onwards \n",
    "y_train = df_train.iloc[:,0].ravel() # Target: 0th column\n",
    "\n",
    "X_validation = df_validation.iloc[:,1:]\n",
    "y_validation = df_validation.iloc[:,0].ravel()"
   ]
  },
  {
   "cell_type": "markdown",
   "metadata": {},
   "source": [
    "## Launch Classifier"
   ]
  },
  {
   "cell_type": "code",
   "execution_count": 26,
   "metadata": {},
   "outputs": [],
   "source": [
    "# XGBoost Training\n",
    "classifier = xgb.XGBClassifier(objective=\"multi:softmax\",\n",
    "                             num_class = 3,\n",
    "                             n_estimators = 125)"
   ]
  },
  {
   "cell_type": "code",
   "execution_count": 27,
   "metadata": {},
   "outputs": [
    {
     "data": {
      "text/plain": [
       "XGBClassifier(base_score=0.5, booster='gbtree', colsample_bylevel=1,\n",
       "       colsample_bynode=1, colsample_bytree=1, gamma=0, learning_rate=0.1,\n",
       "       max_delta_step=0, max_depth=3, min_child_weight=1, missing=None,\n",
       "       n_estimators=125, n_jobs=1, nthread=None, num_class=3,\n",
       "       objective='multi:softmax', random_state=0, reg_alpha=0,\n",
       "       reg_lambda=1, scale_pos_weight=1, seed=None, silent=None,\n",
       "       subsample=1, verbosity=1)"
      ]
     },
     "execution_count": 27,
     "metadata": {},
     "output_type": "execute_result"
    }
   ],
   "source": [
    "classifier # parameter check"
   ]
  },
  {
   "cell_type": "code",
   "execution_count": 28,
   "metadata": {},
   "outputs": [
    {
     "name": "stdout",
     "output_type": "stream",
     "text": [
      "[0]\tvalidation_0-mlogloss:0.973854\tvalidation_1-mlogloss:0.97069\n",
      "Multiple eval metrics have been passed: 'validation_1-mlogloss' will be used for early stopping.\n",
      "\n",
      "Will train until validation_1-mlogloss hasn't improved in 10 rounds.\n",
      "[1]\tvalidation_0-mlogloss:0.86891\tvalidation_1-mlogloss:0.86263\n",
      "[2]\tvalidation_0-mlogloss:0.779442\tvalidation_1-mlogloss:0.770541\n",
      "[3]\tvalidation_0-mlogloss:0.702392\tvalidation_1-mlogloss:0.691247\n",
      "[4]\tvalidation_0-mlogloss:0.635406\tvalidation_1-mlogloss:0.621125\n",
      "[5]\tvalidation_0-mlogloss:0.576947\tvalidation_1-mlogloss:0.561023\n",
      "[6]\tvalidation_0-mlogloss:0.525524\tvalidation_1-mlogloss:0.506888\n",
      "[7]\tvalidation_0-mlogloss:0.480235\tvalidation_1-mlogloss:0.459803\n",
      "[8]\tvalidation_0-mlogloss:0.440047\tvalidation_1-mlogloss:0.417615\n",
      "[9]\tvalidation_0-mlogloss:0.404401\tvalidation_1-mlogloss:0.381235\n",
      "[10]\tvalidation_0-mlogloss:0.372678\tvalidation_1-mlogloss:0.348167\n",
      "[11]\tvalidation_0-mlogloss:0.344263\tvalidation_1-mlogloss:0.319049\n",
      "[12]\tvalidation_0-mlogloss:0.319029\tvalidation_1-mlogloss:0.292317\n",
      "[13]\tvalidation_0-mlogloss:0.295715\tvalidation_1-mlogloss:0.268022\n",
      "[14]\tvalidation_0-mlogloss:0.274744\tvalidation_1-mlogloss:0.245665\n",
      "[15]\tvalidation_0-mlogloss:0.255529\tvalidation_1-mlogloss:0.225291\n",
      "[16]\tvalidation_0-mlogloss:0.237838\tvalidation_1-mlogloss:0.205837\n",
      "[17]\tvalidation_0-mlogloss:0.222271\tvalidation_1-mlogloss:0.188611\n",
      "[18]\tvalidation_0-mlogloss:0.208436\tvalidation_1-mlogloss:0.173922\n",
      "[19]\tvalidation_0-mlogloss:0.195836\tvalidation_1-mlogloss:0.161162\n",
      "[20]\tvalidation_0-mlogloss:0.184573\tvalidation_1-mlogloss:0.149464\n",
      "[21]\tvalidation_0-mlogloss:0.17416\tvalidation_1-mlogloss:0.139018\n",
      "[22]\tvalidation_0-mlogloss:0.164696\tvalidation_1-mlogloss:0.129555\n",
      "[23]\tvalidation_0-mlogloss:0.156085\tvalidation_1-mlogloss:0.120976\n",
      "[24]\tvalidation_0-mlogloss:0.148242\tvalidation_1-mlogloss:0.113191\n",
      "[25]\tvalidation_0-mlogloss:0.140581\tvalidation_1-mlogloss:0.10592\n",
      "[26]\tvalidation_0-mlogloss:0.133577\tvalidation_1-mlogloss:0.099315\n",
      "[27]\tvalidation_0-mlogloss:0.127639\tvalidation_1-mlogloss:0.093978\n",
      "[28]\tvalidation_0-mlogloss:0.121713\tvalidation_1-mlogloss:0.089086\n",
      "[29]\tvalidation_0-mlogloss:0.116229\tvalidation_1-mlogloss:0.084638\n",
      "[30]\tvalidation_0-mlogloss:0.111033\tvalidation_1-mlogloss:0.080663\n",
      "[31]\tvalidation_0-mlogloss:0.106757\tvalidation_1-mlogloss:0.077054\n",
      "[32]\tvalidation_0-mlogloss:0.102148\tvalidation_1-mlogloss:0.072768\n",
      "[33]\tvalidation_0-mlogloss:0.098104\tvalidation_1-mlogloss:0.069587\n",
      "[34]\tvalidation_0-mlogloss:0.094389\tvalidation_1-mlogloss:0.066706\n",
      "[35]\tvalidation_0-mlogloss:0.091193\tvalidation_1-mlogloss:0.064158\n",
      "[36]\tvalidation_0-mlogloss:0.088276\tvalidation_1-mlogloss:0.061612\n",
      "[37]\tvalidation_0-mlogloss:0.085586\tvalidation_1-mlogloss:0.059374\n",
      "[38]\tvalidation_0-mlogloss:0.083088\tvalidation_1-mlogloss:0.057311\n",
      "[39]\tvalidation_0-mlogloss:0.080671\tvalidation_1-mlogloss:0.055372\n",
      "[40]\tvalidation_0-mlogloss:0.078487\tvalidation_1-mlogloss:0.053592\n",
      "[41]\tvalidation_0-mlogloss:0.07624\tvalidation_1-mlogloss:0.051079\n",
      "[42]\tvalidation_0-mlogloss:0.074168\tvalidation_1-mlogloss:0.048837\n",
      "[43]\tvalidation_0-mlogloss:0.072336\tvalidation_1-mlogloss:0.047464\n",
      "[44]\tvalidation_0-mlogloss:0.070578\tvalidation_1-mlogloss:0.046446\n",
      "[45]\tvalidation_0-mlogloss:0.068807\tvalidation_1-mlogloss:0.044862\n",
      "[46]\tvalidation_0-mlogloss:0.067254\tvalidation_1-mlogloss:0.044008\n",
      "[47]\tvalidation_0-mlogloss:0.065692\tvalidation_1-mlogloss:0.04261\n",
      "[48]\tvalidation_0-mlogloss:0.064217\tvalidation_1-mlogloss:0.041133\n",
      "[49]\tvalidation_0-mlogloss:0.06292\tvalidation_1-mlogloss:0.040373\n",
      "[50]\tvalidation_0-mlogloss:0.06145\tvalidation_1-mlogloss:0.039012\n",
      "[51]\tvalidation_0-mlogloss:0.060066\tvalidation_1-mlogloss:0.037733\n",
      "[52]\tvalidation_0-mlogloss:0.058777\tvalidation_1-mlogloss:0.036585\n",
      "[53]\tvalidation_0-mlogloss:0.057527\tvalidation_1-mlogloss:0.035481\n",
      "[54]\tvalidation_0-mlogloss:0.056347\tvalidation_1-mlogloss:0.034439\n",
      "[55]\tvalidation_0-mlogloss:0.055369\tvalidation_1-mlogloss:0.03363\n",
      "[56]\tvalidation_0-mlogloss:0.054405\tvalidation_1-mlogloss:0.032661\n",
      "[57]\tvalidation_0-mlogloss:0.053535\tvalidation_1-mlogloss:0.031797\n",
      "[58]\tvalidation_0-mlogloss:0.05274\tvalidation_1-mlogloss:0.030914\n",
      "[59]\tvalidation_0-mlogloss:0.051963\tvalidation_1-mlogloss:0.030511\n",
      "[60]\tvalidation_0-mlogloss:0.051193\tvalidation_1-mlogloss:0.030338\n",
      "[61]\tvalidation_0-mlogloss:0.050693\tvalidation_1-mlogloss:0.029827\n",
      "[62]\tvalidation_0-mlogloss:0.050173\tvalidation_1-mlogloss:0.029708\n",
      "[63]\tvalidation_0-mlogloss:0.04951\tvalidation_1-mlogloss:0.029281\n",
      "[64]\tvalidation_0-mlogloss:0.048872\tvalidation_1-mlogloss:0.029317\n",
      "[65]\tvalidation_0-mlogloss:0.048425\tvalidation_1-mlogloss:0.028948\n",
      "[66]\tvalidation_0-mlogloss:0.047823\tvalidation_1-mlogloss:0.028987\n",
      "[67]\tvalidation_0-mlogloss:0.047208\tvalidation_1-mlogloss:0.028592\n",
      "[68]\tvalidation_0-mlogloss:0.046639\tvalidation_1-mlogloss:0.028634\n",
      "[69]\tvalidation_0-mlogloss:0.046188\tvalidation_1-mlogloss:0.028247\n",
      "[70]\tvalidation_0-mlogloss:0.045527\tvalidation_1-mlogloss:0.02804\n",
      "[71]\tvalidation_0-mlogloss:0.045132\tvalidation_1-mlogloss:0.027629\n",
      "[72]\tvalidation_0-mlogloss:0.044616\tvalidation_1-mlogloss:0.02767\n",
      "[73]\tvalidation_0-mlogloss:0.044239\tvalidation_1-mlogloss:0.027278\n",
      "[74]\tvalidation_0-mlogloss:0.043633\tvalidation_1-mlogloss:0.027081\n",
      "[75]\tvalidation_0-mlogloss:0.043268\tvalidation_1-mlogloss:0.026702\n",
      "[76]\tvalidation_0-mlogloss:0.042792\tvalidation_1-mlogloss:0.026744\n",
      "[77]\tvalidation_0-mlogloss:0.042294\tvalidation_1-mlogloss:0.026367\n",
      "[78]\tvalidation_0-mlogloss:0.041913\tvalidation_1-mlogloss:0.026386\n",
      "[79]\tvalidation_0-mlogloss:0.041369\tvalidation_1-mlogloss:0.026207\n",
      "[80]\tvalidation_0-mlogloss:0.041044\tvalidation_1-mlogloss:0.025733\n",
      "[81]\tvalidation_0-mlogloss:0.040706\tvalidation_1-mlogloss:0.02569\n",
      "[82]\tvalidation_0-mlogloss:0.040268\tvalidation_1-mlogloss:0.025577\n",
      "[83]\tvalidation_0-mlogloss:0.039961\tvalidation_1-mlogloss:0.025146\n",
      "[84]\tvalidation_0-mlogloss:0.039623\tvalidation_1-mlogloss:0.025168\n",
      "[85]\tvalidation_0-mlogloss:0.039304\tvalidation_1-mlogloss:0.024781\n",
      "[86]\tvalidation_0-mlogloss:0.038899\tvalidation_1-mlogloss:0.024537\n",
      "[87]\tvalidation_0-mlogloss:0.038712\tvalidation_1-mlogloss:0.024263\n",
      "[88]\tvalidation_0-mlogloss:0.038247\tvalidation_1-mlogloss:0.024117\n",
      "[89]\tvalidation_0-mlogloss:0.038066\tvalidation_1-mlogloss:0.02387\n",
      "[90]\tvalidation_0-mlogloss:0.037777\tvalidation_1-mlogloss:0.023795\n",
      "[91]\tvalidation_0-mlogloss:0.037599\tvalidation_1-mlogloss:0.023757\n",
      "[92]\tvalidation_0-mlogloss:0.037396\tvalidation_1-mlogloss:0.023732\n",
      "[93]\tvalidation_0-mlogloss:0.037185\tvalidation_1-mlogloss:0.023818\n",
      "[94]\tvalidation_0-mlogloss:0.036825\tvalidation_1-mlogloss:0.023731\n",
      "[95]\tvalidation_0-mlogloss:0.036674\tvalidation_1-mlogloss:0.023515\n",
      "[96]\tvalidation_0-mlogloss:0.036483\tvalidation_1-mlogloss:0.023493\n",
      "[97]\tvalidation_0-mlogloss:0.036238\tvalidation_1-mlogloss:0.023571\n",
      "[98]\tvalidation_0-mlogloss:0.036098\tvalidation_1-mlogloss:0.023366\n",
      "[99]\tvalidation_0-mlogloss:0.03591\tvalidation_1-mlogloss:0.023354\n",
      "[100]\tvalidation_0-mlogloss:0.035714\tvalidation_1-mlogloss:0.023445\n",
      "[101]\tvalidation_0-mlogloss:0.035515\tvalidation_1-mlogloss:0.02354\n",
      "[102]\tvalidation_0-mlogloss:0.035333\tvalidation_1-mlogloss:0.023529\n",
      "[103]\tvalidation_0-mlogloss:0.035152\tvalidation_1-mlogloss:0.023514\n",
      "[104]\tvalidation_0-mlogloss:0.0349\tvalidation_1-mlogloss:0.023565\n",
      "[105]\tvalidation_0-mlogloss:0.034723\tvalidation_1-mlogloss:0.023547\n",
      "[106]\tvalidation_0-mlogloss:0.034483\tvalidation_1-mlogloss:0.023588\n",
      "[107]\tvalidation_0-mlogloss:0.034366\tvalidation_1-mlogloss:0.02341\n",
      "[108]\tvalidation_0-mlogloss:0.03413\tvalidation_1-mlogloss:0.023462\n",
      "[109]\tvalidation_0-mlogloss:0.033952\tvalidation_1-mlogloss:0.023549\n",
      "Stopping. Best iteration:\n",
      "[99]\tvalidation_0-mlogloss:0.03591\tvalidation_1-mlogloss:0.023354\n",
      "\n"
     ]
    },
    {
     "data": {
      "text/plain": [
       "XGBClassifier(base_score=0.5, booster='gbtree', colsample_bylevel=1,\n",
       "       colsample_bynode=1, colsample_bytree=1, gamma=0, learning_rate=0.1,\n",
       "       max_delta_step=0, max_depth=3, min_child_weight=1, missing=None,\n",
       "       n_estimators=125, n_jobs=1, nthread=None, num_class=3,\n",
       "       objective='multi:softprob', random_state=0, reg_alpha=0,\n",
       "       reg_lambda=1, scale_pos_weight=1, seed=None, silent=None,\n",
       "       subsample=1, verbosity=1)"
      ]
     },
     "execution_count": 28,
     "metadata": {},
     "output_type": "execute_result"
    }
   ],
   "source": [
    "classifier.fit(X_train,\n",
    "               y_train,\n",
    "               eval_set = [(X_train, y_train), (X_validation, y_validation)],\n",
    "               eval_metric=['mlogloss'],\n",
    "               early_stopping_rounds=10)\n",
    "# \"The model trains until the validation score stops improving. \n",
    "# Validation error needs to decrease at least every early_stopping_rounds to continue training."
   ]
  },
  {
   "cell_type": "code",
   "execution_count": 29,
   "metadata": {},
   "outputs": [],
   "source": [
    "eval_result = classifier.evals_result()"
   ]
  },
  {
   "cell_type": "code",
   "execution_count": 30,
   "metadata": {},
   "outputs": [],
   "source": [
    "training_rounds = range(len(eval_result['validation_0']['mlogloss']))"
   ]
  },
  {
   "cell_type": "code",
   "execution_count": 31,
   "metadata": {},
   "outputs": [
    {
     "name": "stdout",
     "output_type": "stream",
     "text": [
      "range(0, 109)\n"
     ]
    }
   ],
   "source": [
    "print(training_rounds)"
   ]
  },
  {
   "cell_type": "markdown",
   "metadata": {},
   "source": [
    "## Plot the Rounds"
   ]
  },
  {
   "cell_type": "code",
   "execution_count": 32,
   "metadata": {},
   "outputs": [
    {
     "data": {
      "image/png": "[encoded data removed]",
      "text/plain": [
       "<Figure size 432x288 with 1 Axes>"
      ]
     },
     "metadata": {},
     "output_type": "display_data"
    }
   ],
   "source": [
    "plt.scatter(x=training_rounds,y=eval_result['validation_0']['mlogloss'],label='Training Error')\n",
    "plt.scatter(x=training_rounds,y=eval_result['validation_1']['mlogloss'],label='Validation Error')\n",
    "plt.grid(True)\n",
    "plt.xlabel('Iteration')\n",
    "plt.ylabel('LogLoss')\n",
    "plt.title('Training Vs Validation Error')\n",
    "plt.legend()\n",
    "plt.show()"
   ]
  },
  {
   "cell_type": "markdown",
   "metadata": {},
   "source": [
    "## Plot the Importance to the Model"
   ]
  },
  {
   "cell_type": "code",
   "execution_count": 33,
   "metadata": {},
   "outputs": [
    {
     "data": {
      "image/png": "[encoded data removed]",
      "text/plain": [
       "<Figure size 432x288 with 1 Axes>"
      ]
     },
     "metadata": {},
     "output_type": "display_data"
    }
   ],
   "source": [
    "xgb.plot_importance(classifier)\n",
    "plt.show()"
   ]
  },
  {
   "cell_type": "code",
   "execution_count": 34,
   "metadata": {},
   "outputs": [],
   "source": [
    "df = pd.read_csv(validation_file,names=columns)"
   ]
  },
  {
   "cell_type": "code",
   "execution_count": 35,
   "metadata": {},
   "outputs": [
    {
     "data": {
      "text/html": [
       "<div>\n",
       "<style scoped>\n",
       "    .dataframe tbody tr th:only-of-type {\n",
       "        vertical-align: middle;\n",
       "    }\n",
       "\n",
       "    .dataframe tbody tr th {\n",
       "        vertical-align: top;\n",
       "    }\n",
       "\n",
       "    .dataframe thead th {\n",
       "        text-align: right;\n",
       "    }\n",
       "</style>\n",
       "<table border=\"1\" class=\"dataframe\">\n",
       "  <thead>\n",
       "    <tr style=\"text-align: right;\">\n",
       "      <th></th>\n",
       "      <th>encoded_class</th>\n",
       "      <th>sepal_length</th>\n",
       "      <th>sepal_width</th>\n",
       "      <th>petal_length</th>\n",
       "      <th>petal_width</th>\n",
       "    </tr>\n",
       "  </thead>\n",
       "  <tbody>\n",
       "    <tr>\n",
       "      <th>0</th>\n",
       "      <td>0</td>\n",
       "      <td>4.6</td>\n",
       "      <td>3.1</td>\n",
       "      <td>1.5</td>\n",
       "      <td>0.2</td>\n",
       "    </tr>\n",
       "    <tr>\n",
       "      <th>1</th>\n",
       "      <td>1</td>\n",
       "      <td>6.1</td>\n",
       "      <td>2.9</td>\n",
       "      <td>4.7</td>\n",
       "      <td>1.4</td>\n",
       "    </tr>\n",
       "    <tr>\n",
       "      <th>2</th>\n",
       "      <td>2</td>\n",
       "      <td>6.5</td>\n",
       "      <td>3.0</td>\n",
       "      <td>5.2</td>\n",
       "      <td>2.0</td>\n",
       "    </tr>\n",
       "    <tr>\n",
       "      <th>3</th>\n",
       "      <td>1</td>\n",
       "      <td>5.0</td>\n",
       "      <td>2.0</td>\n",
       "      <td>3.5</td>\n",
       "      <td>1.0</td>\n",
       "    </tr>\n",
       "    <tr>\n",
       "      <th>4</th>\n",
       "      <td>0</td>\n",
       "      <td>5.0</td>\n",
       "      <td>3.6</td>\n",
       "      <td>1.4</td>\n",
       "      <td>0.2</td>\n",
       "    </tr>\n",
       "  </tbody>\n",
       "</table>\n",
       "</div>"
      ],
      "text/plain": [
       "   encoded_class  sepal_length  sepal_width  petal_length  petal_width\n",
       "0              0           4.6          3.1           1.5          0.2\n",
       "1              1           6.1          2.9           4.7          1.4\n",
       "2              2           6.5          3.0           5.2          2.0\n",
       "3              1           5.0          2.0           3.5          1.0\n",
       "4              0           5.0          3.6           1.4          0.2"
      ]
     },
     "execution_count": 35,
     "metadata": {},
     "output_type": "execute_result"
    }
   ],
   "source": [
    "df.head() # data check"
   ]
  },
  {
   "cell_type": "code",
   "execution_count": 36,
   "metadata": {},
   "outputs": [
    {
     "name": "stdout",
     "output_type": "stream",
     "text": [
      "   sepal_length  sepal_width  petal_length  petal_width\n",
      "0           4.6          3.1           1.5          0.2\n",
      "1           6.1          2.9           4.7          1.4\n",
      "2           6.5          3.0           5.2          2.0\n",
      "3           5.0          2.0           3.5          1.0\n",
      "4           5.0          3.6           1.4          0.2\n"
     ]
    }
   ],
   "source": [
    "X_test = df.iloc[:,1:]\n",
    "print(X_test[:5])"
   ]
  },
  {
   "cell_type": "code",
   "execution_count": 37,
   "metadata": {},
   "outputs": [],
   "source": [
    "result = classifier.predict(X_test)"
   ]
  },
  {
   "cell_type": "code",
   "execution_count": 38,
   "metadata": {},
   "outputs": [
    {
     "data": {
      "text/plain": [
       "array([0, 1, 2, 1, 0])"
      ]
     },
     "execution_count": 38,
     "metadata": {},
     "output_type": "execute_result"
    }
   ],
   "source": [
    "result[:5]"
   ]
  },
  {
   "cell_type": "code",
   "execution_count": 39,
   "metadata": {},
   "outputs": [],
   "source": [
    "df['predicted_class'] = result #le.inverse_transform(result)"
   ]
  },
  {
   "cell_type": "code",
   "execution_count": 40,
   "metadata": {},
   "outputs": [
    {
     "data": {
      "text/html": [
       "<div>\n",
       "<style scoped>\n",
       "    .dataframe tbody tr th:only-of-type {\n",
       "        vertical-align: middle;\n",
       "    }\n",
       "\n",
       "    .dataframe tbody tr th {\n",
       "        vertical-align: top;\n",
       "    }\n",
       "\n",
       "    .dataframe thead th {\n",
       "        text-align: right;\n",
       "    }\n",
       "</style>\n",
       "<table border=\"1\" class=\"dataframe\">\n",
       "  <thead>\n",
       "    <tr style=\"text-align: right;\">\n",
       "      <th></th>\n",
       "      <th>encoded_class</th>\n",
       "      <th>sepal_length</th>\n",
       "      <th>sepal_width</th>\n",
       "      <th>petal_length</th>\n",
       "      <th>petal_width</th>\n",
       "      <th>predicted_class</th>\n",
       "    </tr>\n",
       "  </thead>\n",
       "  <tbody>\n",
       "    <tr>\n",
       "      <th>0</th>\n",
       "      <td>0</td>\n",
       "      <td>4.6</td>\n",
       "      <td>3.1</td>\n",
       "      <td>1.5</td>\n",
       "      <td>0.2</td>\n",
       "      <td>0</td>\n",
       "    </tr>\n",
       "    <tr>\n",
       "      <th>1</th>\n",
       "      <td>1</td>\n",
       "      <td>6.1</td>\n",
       "      <td>2.9</td>\n",
       "      <td>4.7</td>\n",
       "      <td>1.4</td>\n",
       "      <td>1</td>\n",
       "    </tr>\n",
       "    <tr>\n",
       "      <th>2</th>\n",
       "      <td>2</td>\n",
       "      <td>6.5</td>\n",
       "      <td>3.0</td>\n",
       "      <td>5.2</td>\n",
       "      <td>2.0</td>\n",
       "      <td>2</td>\n",
       "    </tr>\n",
       "    <tr>\n",
       "      <th>3</th>\n",
       "      <td>1</td>\n",
       "      <td>5.0</td>\n",
       "      <td>2.0</td>\n",
       "      <td>3.5</td>\n",
       "      <td>1.0</td>\n",
       "      <td>1</td>\n",
       "    </tr>\n",
       "    <tr>\n",
       "      <th>4</th>\n",
       "      <td>0</td>\n",
       "      <td>5.0</td>\n",
       "      <td>3.6</td>\n",
       "      <td>1.4</td>\n",
       "      <td>0.2</td>\n",
       "      <td>0</td>\n",
       "    </tr>\n",
       "  </tbody>\n",
       "</table>\n",
       "</div>"
      ],
      "text/plain": [
       "   encoded_class  sepal_length  sepal_width  petal_length  petal_width  \\\n",
       "0              0           4.6          3.1           1.5          0.2   \n",
       "1              1           6.1          2.9           4.7          1.4   \n",
       "2              2           6.5          3.0           5.2          2.0   \n",
       "3              1           5.0          2.0           3.5          1.0   \n",
       "4              0           5.0          3.6           1.4          0.2   \n",
       "\n",
       "   predicted_class  \n",
       "0                0  \n",
       "1                1  \n",
       "2                2  \n",
       "3                1  \n",
       "4                0  "
      ]
     },
     "execution_count": 40,
     "metadata": {},
     "output_type": "execute_result"
    }
   ],
   "source": [
    "df.head() #data check"
   ]
  },
  {
   "cell_type": "markdown",
   "metadata": {},
   "source": [
    "## Compare the Actual to Model 1 Prediction"
   ]
  },
  {
   "cell_type": "code",
   "execution_count": 41,
   "metadata": {},
   "outputs": [
    {
     "data": {
      "image/png": "[encoded data removed]",
      "text/plain": [
       "<Figure size 432x288 with 1 Axes>"
      ]
     },
     "metadata": {},
     "output_type": "display_data"
    }
   ],
   "source": [
    "# Compare performance of Actual and Model 1 Prediction\n",
    "plt.figure()\n",
    "plt.scatter(df.index,df['encoded_class'],label='Actual')\n",
    "plt.scatter(df.index,df['predicted_class'],label='Predicted',marker='^')\n",
    "plt.legend(loc=4)\n",
    "plt.yticks([0,1,2])\n",
    "plt.xlabel('Sample')\n",
    "plt.ylabel('Class')\n",
    "plt.show()"
   ]
  },
  {
   "cell_type": "markdown",
   "metadata": {},
   "source": [
    "## Create the Confusion Matrix\n",
    "Confusion Matrix is a table that summarizes performance of classification models."
   ]
  },
  {
   "cell_type": "code",
   "execution_count": 42,
   "metadata": {},
   "outputs": [],
   "source": [
    "# Reference: \n",
    "# https://scikit-learn.org/stable/auto_examples/model_selection/plot_confusion_matrix.html\n",
    "def plot_confusion_matrix(cm, classes,\n",
    "                          normalize=False,\n",
    "                          title='Confusion matrix',\n",
    "                          cmap=plt.cm.Blues):\n",
    "    \"\"\"\n",
    "    This function prints and plots the confusion matrix.\n",
    "    Normalization can be applied by setting `normalize=True`.\n",
    "    \"\"\"\n",
    "    if normalize:\n",
    "        cm = cm.astype('float') / cm.sum(axis=1)[:, np.newaxis]\n",
    "        #print(\"Normalized confusion matrix\")\n",
    "    #else:\n",
    "    #    print('Confusion matrix, without normalization')\n",
    "\n",
    "    #print(cm)\n",
    "\n",
    "    plt.imshow(cm, interpolation='nearest', cmap=cmap)\n",
    "    plt.title(title)\n",
    "    plt.colorbar()\n",
    "    tick_marks = np.arange(len(classes))\n",
    "    plt.xticks(tick_marks, classes, rotation=45)\n",
    "    plt.yticks(tick_marks, classes)\n",
    "\n",
    "    fmt = '.2f' if normalize else 'd'\n",
    "    thresh = cm.max() / 2.\n",
    "    for i, j in itertools.product(range(cm.shape[0]), range(cm.shape[1])):\n",
    "        plt.text(j, i, format(cm[i, j], fmt),\n",
    "                 horizontalalignment=\"center\",\n",
    "                 color=\"white\" if cm[i, j] > thresh else \"black\")\n",
    "\n",
    "    plt.ylabel('True label')\n",
    "    plt.xlabel('Predicted label')\n",
    "    plt.tight_layout()"
   ]
  },
  {
   "cell_type": "code",
   "execution_count": 43,
   "metadata": {},
   "outputs": [],
   "source": [
    "# Compute confusion matrix\n",
    "cnf_matrix = confusion_matrix(df['encoded_class'],\n",
    "                              df['predicted_class'],labels=labels)"
   ]
  },
  {
   "cell_type": "code",
   "execution_count": 44,
   "metadata": {},
   "outputs": [
    {
     "data": {
      "text/plain": [
       "array([[18,  0,  0],\n",
       "       [ 0, 18,  0],\n",
       "       [ 0,  0,  9]])"
      ]
     },
     "execution_count": 44,
     "metadata": {},
     "output_type": "execute_result"
    }
   ],
   "source": [
    "cnf_matrix # data check"
   ]
  },
  {
   "cell_type": "code",
   "execution_count": 45,
   "metadata": {},
   "outputs": [
    {
     "data": {
      "image/png": "[encoded data removed]",
      "text/plain": [
       "<Figure size 432x288 with 2 Axes>"
      ]
     },
     "metadata": {},
     "output_type": "display_data"
    }
   ],
   "source": [
    "# Plot confusion matrix\n",
    "plt.figure()\n",
    "plot_confusion_matrix(cnf_matrix, classes=classes,\n",
    "                      title='Confusion matrix - Count')"
   ]
  },
  {
   "cell_type": "code",
   "execution_count": 46,
   "metadata": {},
   "outputs": [
    {
     "data": {
      "image/png": "[encoded data removed]",
      "text/plain": [
       "<Figure size 432x288 with 2 Axes>"
      ]
     },
     "metadata": {},
     "output_type": "display_data"
    }
   ],
   "source": [
    "# Plot confusion matrix - normalized\n",
    "plt.figure()\n",
    "plot_confusion_matrix(cnf_matrix, classes=classes,\n",
    "                      title='Confusion matrix - Count',normalize=True)"
   ]
  },
  {
   "cell_type": "markdown",
   "metadata": {},
   "source": [
    "## Print Classification Report"
   ]
  },
  {
   "cell_type": "code",
   "execution_count": 47,
   "metadata": {},
   "outputs": [
    {
     "name": "stdout",
     "output_type": "stream",
     "text": [
      "                 precision    recall  f1-score   support\n",
      "\n",
      "    Iris-setosa       1.00      1.00      1.00        18\n",
      "Iris-versicolor       1.00      1.00      1.00        18\n",
      " Iris-virginica       1.00      1.00      1.00         9\n",
      "\n",
      "      micro avg       1.00      1.00      1.00        45\n",
      "      macro avg       1.00      1.00      1.00        45\n",
      "   weighted avg       1.00      1.00      1.00        45\n",
      "\n"
     ]
    }
   ],
   "source": [
    "print(classification_report(\n",
    "    df['encoded_class'],\n",
    "    df['predicted_class'],\n",
    "    labels=labels,\n",
    "    target_names=classes))"
   ]
  },
  {
   "cell_type": "code",
   "execution_count": null,
   "metadata": {},
   "outputs": [],
   "source": []
  }
 ],
 "metadata": {
  "kernelspec": {
   "display_name": "conda_amazonei_tensorflow_p36",
   "language": "python",
   "name": "conda_amazonei_tensorflow_p36"
  },
  "language_info": {
   "codemirror_mode": {
    "name": "ipython",
    "version": 3
   },
   "file_extension": ".py",
   "mimetype": "text/x-python",
   "name": "python",
   "nbconvert_exporter": "python",
   "pygments_lexer": "ipython3",
   "version": "3.6.5"
  }
 },
 "nbformat": 4,
 "nbformat_minor": 4
}
